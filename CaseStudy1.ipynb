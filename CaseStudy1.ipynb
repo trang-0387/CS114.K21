{
  "nbformat": 4,
  "nbformat_minor": 0,
  "metadata": {
    "colab": {
      "name": "CaseStudy1.ipynb",
      "provenance": [],
      "collapsed_sections": [],
      "toc_visible": true,
      "include_colab_link": true
    },
    "kernelspec": {
      "name": "python3",
      "display_name": "Python 3"
    }
  },
  "cells": [
    {
      "cell_type": "markdown",
      "metadata": {
        "id": "view-in-github",
        "colab_type": "text"
      },
      "source": [
        "<a href=\"https://colab.research.google.com/github/trang-0387/CS114.K21/blob/master/CaseStudy1.ipynb\" target=\"_parent\"><img src=\"https://colab.research.google.com/assets/colab-badge.svg\" alt=\"Open In Colab\"/></a>"
      ]
    },
    {
      "cell_type": "markdown",
      "metadata": {
        "id": "HD-_ChMSAzHQ",
        "colab_type": "text"
      },
      "source": [
        "**Thành viên nhóm:**\n",
        "* Vũ Thị Trang   -      18520387\n",
        "* Tăng Năng Chung   -   18520536\n",
        "* Lê Thị Ngọc Phương  - 18521273 "
      ]
    },
    {
      "cell_type": "markdown",
      "metadata": {
        "id": "m5qUNiswebxY",
        "colab_type": "text"
      },
      "source": [
        "# **Sarcasm Detection**"
      ]
    },
    {
      "cell_type": "markdown",
      "metadata": {
        "id": "PGhvNOODpJBK",
        "colab_type": "text"
      },
      "source": [
        "1. **Mô tả bài toán**: Input: 1 headline của 1 bài báo Output: headline châm biếm hoặc chính thống\n",
        "2. **Cách thu thập dữ liệu**: Thu thập các headlines từ 2 trang web: HuffPost và TheOnion\n",
        "* HuffPost: trang báo chuyên về các tin tức chính thống\n",
        "* TheOnion: trang báo chuyên về các tin châm biếm\n",
        "* Training Dataset:sử dụng dataset đã có trên kaggle\n",
        "  * Dataset:\n",
        "    * article_link: liên kết đến các bài báo\n",
        "    * headline: tiêu đề bài báo\n",
        "    * is_sacastic: 1: châm biếm và 0: chính thống\n",
        "  * Testing Dataset: sử dụng công cụ Scraper để crawl data từ hai trang web trên.\n",
        "    * Dataset: headline\n",
        "  * Số lượng headlines cần thu thập của Testing Dataset: 1000 sarcastic headlines và 1000 not sarcatic headlines."
      ]
    },
    {
      "cell_type": "markdown",
      "metadata": {
        "id": "AjWKe2tZpnoB",
        "colab_type": "text"
      },
      "source": [
        "# **Import các thư viện cần thiết**"
      ]
    },
    {
      "cell_type": "code",
      "metadata": {
        "id": "yp5ekabSo34D",
        "colab_type": "code",
        "colab": {
          "base_uri": "https://localhost:8080/",
          "height": 71
        },
        "outputId": "93154f5a-677b-49b9-a525-359794720adc"
      },
      "source": [
        "import pandas as pd\n",
        "import numpy as np\n",
        "from sklearn.model_selection import train_test_split\n",
        "from sklearn.metrics import confusion_matrix\n",
        "from sklearn.metrics import accuracy_score\n",
        "from sklearn.svm import LinearSVC\n",
        "from sklearn.naive_bayes import GaussianNB, BernoulliNB\n",
        "from sklearn.linear_model import LogisticRegression\n",
        "from sklearn.ensemble import RandomForestClassifier\n",
        "import re\n",
        "from sklearn.feature_extraction.text import TfidfVectorizer\n",
        "from sklearn.svm import SVC\n",
        "import seaborn as sns"
      ],
      "execution_count": 1,
      "outputs": [
        {
          "output_type": "stream",
          "text": [
            "/usr/local/lib/python3.6/dist-packages/statsmodels/tools/_testing.py:19: FutureWarning: pandas.util.testing is deprecated. Use the functions in the public API at pandas.testing instead.\n",
            "  import pandas.util.testing as tm\n"
          ],
          "name": "stderr"
        }
      ]
    },
    {
      "cell_type": "markdown",
      "metadata": {
        "id": "ipSHh4Dcp0Mq",
        "colab_type": "text"
      },
      "source": [
        "# **Lấy dataset trên kaggle**"
      ]
    },
    {
      "cell_type": "code",
      "metadata": {
        "id": "WMO0bY4Ip12C",
        "colab_type": "code",
        "colab": {
          "resources": {
            "http://localhost:8080/nbextensions/google.colab/files.js": {
              "data": "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",
              "ok": true,
              "headers": [
                [
                  "content-type",
                  "application/javascript"
                ]
              ],
              "status": 200,
              "status_text": ""
            }
          },
          "base_uri": "https://localhost:8080/",
          "height": 89
        },
        "outputId": "8051231c-e871-45bd-d229-1d6b304a238a"
      },
      "source": [
        "from google.colab import files\n",
        "files.upload()"
      ],
      "execution_count": 2,
      "outputs": [
        {
          "output_type": "display_data",
          "data": {
            "text/html": [
              "\n",
              "     <input type=\"file\" id=\"files-7408d877-fc9e-4055-b332-acd4c1934cfa\" name=\"files[]\" multiple disabled\n",
              "        style=\"border:none\" />\n",
              "     <output id=\"result-7408d877-fc9e-4055-b332-acd4c1934cfa\">\n",
              "      Upload widget is only available when the cell has been executed in the\n",
              "      current browser session. Please rerun this cell to enable.\n",
              "      </output>\n",
              "      <script src=\"/nbextensions/google.colab/files.js\"></script> "
            ],
            "text/plain": [
              "<IPython.core.display.HTML object>"
            ]
          },
          "metadata": {
            "tags": []
          }
        },
        {
          "output_type": "stream",
          "text": [
            "Saving kaggle.json to kaggle (6).json\n"
          ],
          "name": "stdout"
        },
        {
          "output_type": "execute_result",
          "data": {
            "text/plain": [
              "{'kaggle.json': b'{\"username\":\"trangvuthi\",\"key\":\"b3d92781161ece64cd3852bd9abd8167\"}'}"
            ]
          },
          "metadata": {
            "tags": []
          },
          "execution_count": 2
        }
      ]
    },
    {
      "cell_type": "code",
      "metadata": {
        "id": "2QcJSbOkp_gi",
        "colab_type": "code",
        "colab": {
          "base_uri": "https://localhost:8080/",
          "height": 204
        },
        "outputId": "5470b4a9-1de2-4987-fb40-32c19e04cc81"
      },
      "source": [
        "!pip install kaggle"
      ],
      "execution_count": 3,
      "outputs": [
        {
          "output_type": "stream",
          "text": [
            "Requirement already satisfied: kaggle in /usr/local/lib/python3.6/dist-packages (1.5.6)\n",
            "Requirement already satisfied: python-dateutil in /usr/local/lib/python3.6/dist-packages (from kaggle) (2.8.1)\n",
            "Requirement already satisfied: urllib3<1.25,>=1.21.1 in /usr/local/lib/python3.6/dist-packages (from kaggle) (1.24.3)\n",
            "Requirement already satisfied: requests in /usr/local/lib/python3.6/dist-packages (from kaggle) (2.23.0)\n",
            "Requirement already satisfied: six>=1.10 in /usr/local/lib/python3.6/dist-packages (from kaggle) (1.12.0)\n",
            "Requirement already satisfied: python-slugify in /usr/local/lib/python3.6/dist-packages (from kaggle) (4.0.0)\n",
            "Requirement already satisfied: tqdm in /usr/local/lib/python3.6/dist-packages (from kaggle) (4.41.1)\n",
            "Requirement already satisfied: certifi in /usr/local/lib/python3.6/dist-packages (from kaggle) (2020.4.5.2)\n",
            "Requirement already satisfied: idna<3,>=2.5 in /usr/local/lib/python3.6/dist-packages (from requests->kaggle) (2.9)\n",
            "Requirement already satisfied: chardet<4,>=3.0.2 in /usr/local/lib/python3.6/dist-packages (from requests->kaggle) (3.0.4)\n",
            "Requirement already satisfied: text-unidecode>=1.3 in /usr/local/lib/python3.6/dist-packages (from python-slugify->kaggle) (1.3)\n"
          ],
          "name": "stdout"
        }
      ]
    },
    {
      "cell_type": "code",
      "metadata": {
        "id": "F2vUEafYqEnT",
        "colab_type": "code",
        "colab": {}
      },
      "source": [
        "!mkdir -p ~/.kaggle\n",
        "!cp kaggle.json ~/.kaggle/\n",
        "!chmod 600 ~/.kaggle/kaggle.json"
      ],
      "execution_count": 4,
      "outputs": []
    },
    {
      "cell_type": "code",
      "metadata": {
        "id": "wLLw5Y5ZqMOE",
        "colab_type": "code",
        "colab": {
          "base_uri": "https://localhost:8080/",
          "height": 374
        },
        "outputId": "71d9d720-f563-4d1b-d58f-8a9190f6ca9d"
      },
      "source": [
        "!kaggle datasets list -s sarcasm"
      ],
      "execution_count": 5,
      "outputs": [
        {
          "output_type": "stream",
          "text": [
            "Warning: Looks like you're using an outdated API Version, please consider updating (server 1.5.6 / client 1.5.4)\n",
            "ref                                                      title                                               size  lastUpdated          downloadCount  \n",
            "-------------------------------------------------------  -------------------------------------------------  -----  -------------------  -------------  \n",
            "danofer/sarcasm                                          Sarcasm on Reddit                                  216MB  2018-05-27 08:19:04           4177  \n",
            "rmisra/news-headlines-dataset-for-sarcasm-detection      News Headlines Dataset For Sarcasm Detection         3MB  2019-07-03 23:52:57           9689  \n",
            "rmisra/news-category-dataset                             News Category Dataset                               25MB  2018-12-02 04:09:45          11519  \n",
            "sherinclaudia/sarcastic-comments-on-reddit               Sarcastic Comments - REDDIT                        106MB  2019-01-30 14:41:53           1930  \n",
            "rmisra/clothing-fit-dataset-for-size-recommendation      Clothing Fit Dataset for Size Recommendation        40MB  2018-08-21 19:00:16           3108  \n",
            "rmisra/imdb-spoiler-dataset                              IMDB Spoiler Dataset                               331MB  2019-05-22 04:44:43            876  \n",
            "negiaditya/sarcasm                                       sarcasm                                              2MB  2020-05-18 20:17:56              0  \n",
            "mikahama/the-best-sarcasm-annotated-dataset-in-spanish   The Best Sarcasm Annotated Dataset in Spanish       26KB  2020-06-21 16:50:44             16  \n",
            "akshit3050/sarcasm                                       sarcasm                                             26MB  2018-08-04 04:44:21            113  \n",
            "harriken/bias-media-cat                                  Bias Media CAT                                      17MB  2017-10-27 22:46:25            340  \n",
            "rmsharks4/sarcasmania-dataset                            Sarcasmania Dataset                                  2MB  2019-05-28 09:07:23             62  \n",
            "shaunthesheep/sarcasmdata                                sarcasm-data                                         2MB  2020-03-17 09:30:12              2  \n",
            "pradeeptrical/sarcasm-dataset                            Sarcasm dataset                                     81KB  2020-01-15 13:54:01             14  \n",
            "kndkarthi/sarcasm-tweets                                 #sarcasm tweets                                      2MB  2019-01-28 06:56:45             99  \n",
            "akshit3050/ucscsarcasm2                                  ucsc-sarcasm2                                        1MB  2019-06-12 13:14:08              8  \n",
            "shaunthesheep/sarcasm-data                               Sarcasm_Data                                         2MB  2020-03-17 09:13:35              1  \n",
            "williamscott701/memotion-dataset-7k                      Memotion Dataset 7k                                695MB  2020-02-27 13:06:01            355  \n",
            "mariajmraidy/datasets-for-sentiment-analysis-of-arabizi  Datasets for sentiment analysis of arabizi tweets  198KB  2020-06-23 16:40:49              4  \n"
          ],
          "name": "stdout"
        }
      ]
    },
    {
      "cell_type": "code",
      "metadata": {
        "id": "MWxB69FlqPvI",
        "colab_type": "code",
        "colab": {
          "base_uri": "https://localhost:8080/",
          "height": 34
        },
        "outputId": "e476f6c8-2171-480b-efa1-b9f9771871d0"
      },
      "source": [
        "!kaggle datasets download -d rmisra/news-headlines-dataset-for-sarcasm-detection"
      ],
      "execution_count": 6,
      "outputs": [
        {
          "output_type": "stream",
          "text": [
            "news-headlines-dataset-for-sarcasm-detection.zip: Skipping, found more recently modified local copy (use --force to force download)\n"
          ],
          "name": "stdout"
        }
      ]
    },
    {
      "cell_type": "code",
      "metadata": {
        "id": "oQLgc9oeqfge",
        "colab_type": "code",
        "colab": {
          "base_uri": "https://localhost:8080/",
          "height": 102
        },
        "outputId": "9c62e40c-d68f-4773-d8e8-d0ee69bc5149"
      },
      "source": [
        "!unzip news-headlines-dataset-for-sarcasm-detection.zip"
      ],
      "execution_count": 7,
      "outputs": [
        {
          "output_type": "stream",
          "text": [
            "Archive:  news-headlines-dataset-for-sarcasm-detection.zip\n",
            "replace Sarcasm_Headlines_Dataset.json? [y]es, [n]o, [A]ll, [N]one, [r]ename: y\n",
            "  inflating: Sarcasm_Headlines_Dataset.json  \n",
            "replace Sarcasm_Headlines_Dataset_v2.json? [y]es, [n]o, [A]ll, [N]one, [r]ename: y\n",
            "  inflating: Sarcasm_Headlines_Dataset_v2.json  \n"
          ],
          "name": "stdout"
        }
      ]
    },
    {
      "cell_type": "markdown",
      "metadata": {
        "id": "AIVT1_0Hfj5W",
        "colab_type": "text"
      },
      "source": [
        "* Dataset gồm có hai file là Sarcasm_Headlines_Dataset.json và file Sarcasm_Headlines_Dataset_v2.json\n",
        "\n",
        "* Đọc cả hai file thông qua thư viện pandas với hàm pd.read_json()\n",
        "\n",
        "* Một dòng của dataframe được lưu trên mỗi dòng của json nên phải gán tham số lines = True"
      ]
    },
    {
      "cell_type": "code",
      "metadata": {
        "id": "y0S_hBxiqoNc",
        "colab_type": "code",
        "colab": {}
      },
      "source": [
        "f1=pd.read_json('Sarcasm_Headlines_Dataset.json',lines=True)\n",
        "f2=pd.read_json('Sarcasm_Headlines_Dataset_v2.json',lines=True)"
      ],
      "execution_count": 8,
      "outputs": []
    },
    {
      "cell_type": "markdown",
      "metadata": {
        "id": "2aoc1iHjrW_N",
        "colab_type": "text"
      },
      "source": [
        "**Ghép nối 2 cấu trúc dữ liệu pandas f1 và f2**"
      ]
    },
    {
      "cell_type": "code",
      "metadata": {
        "id": "NyzQdSdMqtVo",
        "colab_type": "code",
        "colab": {
          "base_uri": "https://localhost:8080/",
          "height": 419
        },
        "outputId": "580dc8e6-4c68-43de-83de-a26e6db0654a"
      },
      "source": [
        "df=pd.concat([f1,f2],axis=0)\n",
        "df"
      ],
      "execution_count": 9,
      "outputs": [
        {
          "output_type": "execute_result",
          "data": {
            "text/html": [
              "<div>\n",
              "<style scoped>\n",
              "    .dataframe tbody tr th:only-of-type {\n",
              "        vertical-align: middle;\n",
              "    }\n",
              "\n",
              "    .dataframe tbody tr th {\n",
              "        vertical-align: top;\n",
              "    }\n",
              "\n",
              "    .dataframe thead th {\n",
              "        text-align: right;\n",
              "    }\n",
              "</style>\n",
              "<table border=\"1\" class=\"dataframe\">\n",
              "  <thead>\n",
              "    <tr style=\"text-align: right;\">\n",
              "      <th></th>\n",
              "      <th>article_link</th>\n",
              "      <th>headline</th>\n",
              "      <th>is_sarcastic</th>\n",
              "    </tr>\n",
              "  </thead>\n",
              "  <tbody>\n",
              "    <tr>\n",
              "      <th>0</th>\n",
              "      <td>https://www.huffingtonpost.com/entry/versace-b...</td>\n",
              "      <td>former versace store clerk sues over secret 'b...</td>\n",
              "      <td>0</td>\n",
              "    </tr>\n",
              "    <tr>\n",
              "      <th>1</th>\n",
              "      <td>https://www.huffingtonpost.com/entry/roseanne-...</td>\n",
              "      <td>the 'roseanne' revival catches up to our thorn...</td>\n",
              "      <td>0</td>\n",
              "    </tr>\n",
              "    <tr>\n",
              "      <th>2</th>\n",
              "      <td>https://local.theonion.com/mom-starting-to-fea...</td>\n",
              "      <td>mom starting to fear son's web series closest ...</td>\n",
              "      <td>1</td>\n",
              "    </tr>\n",
              "    <tr>\n",
              "      <th>3</th>\n",
              "      <td>https://politics.theonion.com/boehner-just-wan...</td>\n",
              "      <td>boehner just wants wife to listen, not come up...</td>\n",
              "      <td>1</td>\n",
              "    </tr>\n",
              "    <tr>\n",
              "      <th>4</th>\n",
              "      <td>https://www.huffingtonpost.com/entry/jk-rowlin...</td>\n",
              "      <td>j.k. rowling wishes snape happy birthday in th...</td>\n",
              "      <td>0</td>\n",
              "    </tr>\n",
              "    <tr>\n",
              "      <th>...</th>\n",
              "      <td>...</td>\n",
              "      <td>...</td>\n",
              "      <td>...</td>\n",
              "    </tr>\n",
              "    <tr>\n",
              "      <th>28614</th>\n",
              "      <td>https://www.theonion.com/jews-to-celebrate-ros...</td>\n",
              "      <td>jews to celebrate rosh hashasha or something</td>\n",
              "      <td>1</td>\n",
              "    </tr>\n",
              "    <tr>\n",
              "      <th>28615</th>\n",
              "      <td>https://local.theonion.com/internal-affairs-in...</td>\n",
              "      <td>internal affairs investigator disappointed con...</td>\n",
              "      <td>1</td>\n",
              "    </tr>\n",
              "    <tr>\n",
              "      <th>28616</th>\n",
              "      <td>https://www.huffingtonpost.com/entry/andrew-ah...</td>\n",
              "      <td>the most beautiful acceptance speech this week...</td>\n",
              "      <td>0</td>\n",
              "    </tr>\n",
              "    <tr>\n",
              "      <th>28617</th>\n",
              "      <td>https://www.theonion.com/mars-probe-destroyed-...</td>\n",
              "      <td>mars probe destroyed by orbiting spielberg-gat...</td>\n",
              "      <td>1</td>\n",
              "    </tr>\n",
              "    <tr>\n",
              "      <th>28618</th>\n",
              "      <td>https://www.theonion.com/dad-clarifies-this-no...</td>\n",
              "      <td>dad clarifies this not a food stop</td>\n",
              "      <td>1</td>\n",
              "    </tr>\n",
              "  </tbody>\n",
              "</table>\n",
              "<p>55328 rows × 3 columns</p>\n",
              "</div>"
            ],
            "text/plain": [
              "                                            article_link  ... is_sarcastic\n",
              "0      https://www.huffingtonpost.com/entry/versace-b...  ...            0\n",
              "1      https://www.huffingtonpost.com/entry/roseanne-...  ...            0\n",
              "2      https://local.theonion.com/mom-starting-to-fea...  ...            1\n",
              "3      https://politics.theonion.com/boehner-just-wan...  ...            1\n",
              "4      https://www.huffingtonpost.com/entry/jk-rowlin...  ...            0\n",
              "...                                                  ...  ...          ...\n",
              "28614  https://www.theonion.com/jews-to-celebrate-ros...  ...            1\n",
              "28615  https://local.theonion.com/internal-affairs-in...  ...            1\n",
              "28616  https://www.huffingtonpost.com/entry/andrew-ah...  ...            0\n",
              "28617  https://www.theonion.com/mars-probe-destroyed-...  ...            1\n",
              "28618  https://www.theonion.com/dad-clarifies-this-no...  ...            1\n",
              "\n",
              "[55328 rows x 3 columns]"
            ]
          },
          "metadata": {
            "tags": []
          },
          "execution_count": 9
        }
      ]
    },
    {
      "cell_type": "markdown",
      "metadata": {
        "id": "OO3No8rrr6aU",
        "colab_type": "text"
      },
      "source": [
        "Dataset có ba cột:\n",
        "  * article_link\n",
        "  * headline\n",
        "  * is_sarcastic: 1 (sarcastic headline) và 0: (not sarcastic headline)\n",
        "  \n",
        "Dataset sau khi ghép có 55328 headline "
      ]
    },
    {
      "cell_type": "markdown",
      "metadata": {
        "id": "UDuxFfIKvNJr",
        "colab_type": "text"
      },
      "source": [
        "# **Xử lý dữ liệu**"
      ]
    },
    {
      "cell_type": "markdown",
      "metadata": {
        "id": "8eG-ZDlbrlpc",
        "colab_type": "text"
      },
      "source": [
        "**Xóa cột article_link vì không cần thiết**"
      ]
    },
    {
      "cell_type": "code",
      "metadata": {
        "id": "xG5ryGGvqx1L",
        "colab_type": "code",
        "colab": {
          "base_uri": "https://localhost:8080/",
          "height": 419
        },
        "outputId": "9015e94b-1129-4623-e5f3-f4a0c9ee44bb"
      },
      "source": [
        "df=df.drop('article_link',axis=1)\n",
        "df"
      ],
      "execution_count": 10,
      "outputs": [
        {
          "output_type": "execute_result",
          "data": {
            "text/html": [
              "<div>\n",
              "<style scoped>\n",
              "    .dataframe tbody tr th:only-of-type {\n",
              "        vertical-align: middle;\n",
              "    }\n",
              "\n",
              "    .dataframe tbody tr th {\n",
              "        vertical-align: top;\n",
              "    }\n",
              "\n",
              "    .dataframe thead th {\n",
              "        text-align: right;\n",
              "    }\n",
              "</style>\n",
              "<table border=\"1\" class=\"dataframe\">\n",
              "  <thead>\n",
              "    <tr style=\"text-align: right;\">\n",
              "      <th></th>\n",
              "      <th>headline</th>\n",
              "      <th>is_sarcastic</th>\n",
              "    </tr>\n",
              "  </thead>\n",
              "  <tbody>\n",
              "    <tr>\n",
              "      <th>0</th>\n",
              "      <td>former versace store clerk sues over secret 'b...</td>\n",
              "      <td>0</td>\n",
              "    </tr>\n",
              "    <tr>\n",
              "      <th>1</th>\n",
              "      <td>the 'roseanne' revival catches up to our thorn...</td>\n",
              "      <td>0</td>\n",
              "    </tr>\n",
              "    <tr>\n",
              "      <th>2</th>\n",
              "      <td>mom starting to fear son's web series closest ...</td>\n",
              "      <td>1</td>\n",
              "    </tr>\n",
              "    <tr>\n",
              "      <th>3</th>\n",
              "      <td>boehner just wants wife to listen, not come up...</td>\n",
              "      <td>1</td>\n",
              "    </tr>\n",
              "    <tr>\n",
              "      <th>4</th>\n",
              "      <td>j.k. rowling wishes snape happy birthday in th...</td>\n",
              "      <td>0</td>\n",
              "    </tr>\n",
              "    <tr>\n",
              "      <th>...</th>\n",
              "      <td>...</td>\n",
              "      <td>...</td>\n",
              "    </tr>\n",
              "    <tr>\n",
              "      <th>28614</th>\n",
              "      <td>jews to celebrate rosh hashasha or something</td>\n",
              "      <td>1</td>\n",
              "    </tr>\n",
              "    <tr>\n",
              "      <th>28615</th>\n",
              "      <td>internal affairs investigator disappointed con...</td>\n",
              "      <td>1</td>\n",
              "    </tr>\n",
              "    <tr>\n",
              "      <th>28616</th>\n",
              "      <td>the most beautiful acceptance speech this week...</td>\n",
              "      <td>0</td>\n",
              "    </tr>\n",
              "    <tr>\n",
              "      <th>28617</th>\n",
              "      <td>mars probe destroyed by orbiting spielberg-gat...</td>\n",
              "      <td>1</td>\n",
              "    </tr>\n",
              "    <tr>\n",
              "      <th>28618</th>\n",
              "      <td>dad clarifies this not a food stop</td>\n",
              "      <td>1</td>\n",
              "    </tr>\n",
              "  </tbody>\n",
              "</table>\n",
              "<p>55328 rows × 2 columns</p>\n",
              "</div>"
            ],
            "text/plain": [
              "                                                headline  is_sarcastic\n",
              "0      former versace store clerk sues over secret 'b...             0\n",
              "1      the 'roseanne' revival catches up to our thorn...             0\n",
              "2      mom starting to fear son's web series closest ...             1\n",
              "3      boehner just wants wife to listen, not come up...             1\n",
              "4      j.k. rowling wishes snape happy birthday in th...             0\n",
              "...                                                  ...           ...\n",
              "28614       jews to celebrate rosh hashasha or something             1\n",
              "28615  internal affairs investigator disappointed con...             1\n",
              "28616  the most beautiful acceptance speech this week...             0\n",
              "28617  mars probe destroyed by orbiting spielberg-gat...             1\n",
              "28618                 dad clarifies this not a food stop             1\n",
              "\n",
              "[55328 rows x 2 columns]"
            ]
          },
          "metadata": {
            "tags": []
          },
          "execution_count": 10
        }
      ]
    },
    {
      "cell_type": "markdown",
      "metadata": {
        "id": "_-H1Lr2erve0",
        "colab_type": "text"
      },
      "source": [
        "**Xóa bỏ các headline trùng nhau**"
      ]
    },
    {
      "cell_type": "code",
      "metadata": {
        "id": "uiFWG1yHq1Ro",
        "colab_type": "code",
        "colab": {
          "base_uri": "https://localhost:8080/",
          "height": 419
        },
        "outputId": "8cbe8994-fe29-4377-8f1a-d632df8d6ed6"
      },
      "source": [
        "df=df.drop_duplicates('headline')\n",
        "df"
      ],
      "execution_count": 11,
      "outputs": [
        {
          "output_type": "execute_result",
          "data": {
            "text/html": [
              "<div>\n",
              "<style scoped>\n",
              "    .dataframe tbody tr th:only-of-type {\n",
              "        vertical-align: middle;\n",
              "    }\n",
              "\n",
              "    .dataframe tbody tr th {\n",
              "        vertical-align: top;\n",
              "    }\n",
              "\n",
              "    .dataframe thead th {\n",
              "        text-align: right;\n",
              "    }\n",
              "</style>\n",
              "<table border=\"1\" class=\"dataframe\">\n",
              "  <thead>\n",
              "    <tr style=\"text-align: right;\">\n",
              "      <th></th>\n",
              "      <th>headline</th>\n",
              "      <th>is_sarcastic</th>\n",
              "    </tr>\n",
              "  </thead>\n",
              "  <tbody>\n",
              "    <tr>\n",
              "      <th>0</th>\n",
              "      <td>former versace store clerk sues over secret 'b...</td>\n",
              "      <td>0</td>\n",
              "    </tr>\n",
              "    <tr>\n",
              "      <th>1</th>\n",
              "      <td>the 'roseanne' revival catches up to our thorn...</td>\n",
              "      <td>0</td>\n",
              "    </tr>\n",
              "    <tr>\n",
              "      <th>2</th>\n",
              "      <td>mom starting to fear son's web series closest ...</td>\n",
              "      <td>1</td>\n",
              "    </tr>\n",
              "    <tr>\n",
              "      <th>3</th>\n",
              "      <td>boehner just wants wife to listen, not come up...</td>\n",
              "      <td>1</td>\n",
              "    </tr>\n",
              "    <tr>\n",
              "      <th>4</th>\n",
              "      <td>j.k. rowling wishes snape happy birthday in th...</td>\n",
              "      <td>0</td>\n",
              "    </tr>\n",
              "    <tr>\n",
              "      <th>...</th>\n",
              "      <td>...</td>\n",
              "      <td>...</td>\n",
              "    </tr>\n",
              "    <tr>\n",
              "      <th>28497</th>\n",
              "      <td>tyson holds contest to let fans submit new ide...</td>\n",
              "      <td>1</td>\n",
              "    </tr>\n",
              "    <tr>\n",
              "      <th>28509</th>\n",
              "      <td>increasingly cocky bernie sanders announces he...</td>\n",
              "      <td>1</td>\n",
              "    </tr>\n",
              "    <tr>\n",
              "      <th>28520</th>\n",
              "      <td>cash-strapped zuckerberg forced to sell 11 mil...</td>\n",
              "      <td>1</td>\n",
              "    </tr>\n",
              "    <tr>\n",
              "      <th>28544</th>\n",
              "      <td>grocery store bar actually has great little ha...</td>\n",
              "      <td>1</td>\n",
              "    </tr>\n",
              "    <tr>\n",
              "      <th>28589</th>\n",
              "      <td>study: 83% of marathon spectators only attend ...</td>\n",
              "      <td>1</td>\n",
              "    </tr>\n",
              "  </tbody>\n",
              "</table>\n",
              "<p>28503 rows × 2 columns</p>\n",
              "</div>"
            ],
            "text/plain": [
              "                                                headline  is_sarcastic\n",
              "0      former versace store clerk sues over secret 'b...             0\n",
              "1      the 'roseanne' revival catches up to our thorn...             0\n",
              "2      mom starting to fear son's web series closest ...             1\n",
              "3      boehner just wants wife to listen, not come up...             1\n",
              "4      j.k. rowling wishes snape happy birthday in th...             0\n",
              "...                                                  ...           ...\n",
              "28497  tyson holds contest to let fans submit new ide...             1\n",
              "28509  increasingly cocky bernie sanders announces he...             1\n",
              "28520  cash-strapped zuckerberg forced to sell 11 mil...             1\n",
              "28544  grocery store bar actually has great little ha...             1\n",
              "28589  study: 83% of marathon spectators only attend ...             1\n",
              "\n",
              "[28503 rows x 2 columns]"
            ]
          },
          "metadata": {
            "tags": []
          },
          "execution_count": 11
        }
      ]
    },
    {
      "cell_type": "markdown",
      "metadata": {
        "id": "8v0wqDhOsCHh",
        "colab_type": "text"
      },
      "source": [
        "**Dataset sau khi loại bỏ các headline trùng nhau là: 28503 headline**"
      ]
    },
    {
      "cell_type": "markdown",
      "metadata": {
        "id": "Aa-5W7PivRvd",
        "colab_type": "text"
      },
      "source": [
        "**Xóa bỏ những char không cần thiết**"
      ]
    },
    {
      "cell_type": "code",
      "metadata": {
        "id": "dsFjGA_EsR8B",
        "colab_type": "code",
        "colab": {
          "base_uri": "https://localhost:8080/",
          "height": 521
        },
        "outputId": "d294ccab-37b4-4e88-a8b7-c3db2785b469"
      },
      "source": [
        "df['headline'] = df['headline'].apply(lambda s : re.sub('[^a-zA-Z]', ' ', s))\n",
        "df"
      ],
      "execution_count": 12,
      "outputs": [
        {
          "output_type": "stream",
          "text": [
            "/usr/local/lib/python3.6/dist-packages/ipykernel_launcher.py:1: SettingWithCopyWarning: \n",
            "A value is trying to be set on a copy of a slice from a DataFrame.\n",
            "Try using .loc[row_indexer,col_indexer] = value instead\n",
            "\n",
            "See the caveats in the documentation: https://pandas.pydata.org/pandas-docs/stable/user_guide/indexing.html#returning-a-view-versus-a-copy\n",
            "  \"\"\"Entry point for launching an IPython kernel.\n"
          ],
          "name": "stderr"
        },
        {
          "output_type": "execute_result",
          "data": {
            "text/html": [
              "<div>\n",
              "<style scoped>\n",
              "    .dataframe tbody tr th:only-of-type {\n",
              "        vertical-align: middle;\n",
              "    }\n",
              "\n",
              "    .dataframe tbody tr th {\n",
              "        vertical-align: top;\n",
              "    }\n",
              "\n",
              "    .dataframe thead th {\n",
              "        text-align: right;\n",
              "    }\n",
              "</style>\n",
              "<table border=\"1\" class=\"dataframe\">\n",
              "  <thead>\n",
              "    <tr style=\"text-align: right;\">\n",
              "      <th></th>\n",
              "      <th>headline</th>\n",
              "      <th>is_sarcastic</th>\n",
              "    </tr>\n",
              "  </thead>\n",
              "  <tbody>\n",
              "    <tr>\n",
              "      <th>0</th>\n",
              "      <td>former versace store clerk sues over secret  b...</td>\n",
              "      <td>0</td>\n",
              "    </tr>\n",
              "    <tr>\n",
              "      <th>1</th>\n",
              "      <td>the  roseanne  revival catches up to our thorn...</td>\n",
              "      <td>0</td>\n",
              "    </tr>\n",
              "    <tr>\n",
              "      <th>2</th>\n",
              "      <td>mom starting to fear son s web series closest ...</td>\n",
              "      <td>1</td>\n",
              "    </tr>\n",
              "    <tr>\n",
              "      <th>3</th>\n",
              "      <td>boehner just wants wife to listen  not come up...</td>\n",
              "      <td>1</td>\n",
              "    </tr>\n",
              "    <tr>\n",
              "      <th>4</th>\n",
              "      <td>j k  rowling wishes snape happy birthday in th...</td>\n",
              "      <td>0</td>\n",
              "    </tr>\n",
              "    <tr>\n",
              "      <th>...</th>\n",
              "      <td>...</td>\n",
              "      <td>...</td>\n",
              "    </tr>\n",
              "    <tr>\n",
              "      <th>28497</th>\n",
              "      <td>tyson holds contest to let fans submit new ide...</td>\n",
              "      <td>1</td>\n",
              "    </tr>\n",
              "    <tr>\n",
              "      <th>28509</th>\n",
              "      <td>increasingly cocky bernie sanders announces he...</td>\n",
              "      <td>1</td>\n",
              "    </tr>\n",
              "    <tr>\n",
              "      <th>28520</th>\n",
              "      <td>cash strapped zuckerberg forced to sell    mil...</td>\n",
              "      <td>1</td>\n",
              "    </tr>\n",
              "    <tr>\n",
              "      <th>28544</th>\n",
              "      <td>grocery store bar actually has great little ha...</td>\n",
              "      <td>1</td>\n",
              "    </tr>\n",
              "    <tr>\n",
              "      <th>28589</th>\n",
              "      <td>study      of marathon spectators only attend ...</td>\n",
              "      <td>1</td>\n",
              "    </tr>\n",
              "  </tbody>\n",
              "</table>\n",
              "<p>28503 rows × 2 columns</p>\n",
              "</div>"
            ],
            "text/plain": [
              "                                                headline  is_sarcastic\n",
              "0      former versace store clerk sues over secret  b...             0\n",
              "1      the  roseanne  revival catches up to our thorn...             0\n",
              "2      mom starting to fear son s web series closest ...             1\n",
              "3      boehner just wants wife to listen  not come up...             1\n",
              "4      j k  rowling wishes snape happy birthday in th...             0\n",
              "...                                                  ...           ...\n",
              "28497  tyson holds contest to let fans submit new ide...             1\n",
              "28509  increasingly cocky bernie sanders announces he...             1\n",
              "28520  cash strapped zuckerberg forced to sell    mil...             1\n",
              "28544  grocery store bar actually has great little ha...             1\n",
              "28589  study      of marathon spectators only attend ...             1\n",
              "\n",
              "[28503 rows x 2 columns]"
            ]
          },
          "metadata": {
            "tags": []
          },
          "execution_count": 12
        }
      ]
    },
    {
      "cell_type": "markdown",
      "metadata": {
        "id": "58wbsQ_zh5ld",
        "colab_type": "text"
      },
      "source": [
        "**Sử dụng seaborn vẽ biểu đồ**"
      ]
    },
    {
      "cell_type": "code",
      "metadata": {
        "id": "ZholUxEVhtXZ",
        "colab_type": "code",
        "colab": {
          "base_uri": "https://localhost:8080/",
          "height": 297
        },
        "outputId": "94b6bda8-e687-4b5a-cd3e-085ddb5da44c"
      },
      "source": [
        "sns.set_style(\"dark\")\n",
        "sns.countplot(df.is_sarcastic)"
      ],
      "execution_count": 13,
      "outputs": [
        {
          "output_type": "execute_result",
          "data": {
            "text/plain": [
              "<matplotlib.axes._subplots.AxesSubplot at 0x7fd0d3a1e828>"
            ]
          },
          "metadata": {
            "tags": []
          },
          "execution_count": 13
        },
        {
          "output_type": "display_data",
          "data": {
            "image/png": "[encoded data removed]",
            "text/plain": [
              "<Figure size 432x288 with 1 Axes>"
            ]
          },
          "metadata": {
            "tags": []
          }
        }
      ]
    },
    {
      "cell_type": "code",
      "metadata": {
        "id": "6UUkp22ph_T3",
        "colab_type": "code",
        "colab": {
          "base_uri": "https://localhost:8080/",
          "height": 34
        },
        "outputId": "53bb8246-c2e3-4c01-d697-1d8ca12e072a"
      },
      "source": [
        "len(df[df['is_sarcastic']==1])"
      ],
      "execution_count": 14,
      "outputs": [
        {
          "output_type": "execute_result",
          "data": {
            "text/plain": [
              "13552"
            ]
          },
          "metadata": {
            "tags": []
          },
          "execution_count": 14
        }
      ]
    },
    {
      "cell_type": "code",
      "metadata": {
        "id": "6H0e-wCNiFmj",
        "colab_type": "code",
        "colab": {
          "base_uri": "https://localhost:8080/",
          "height": 34
        },
        "outputId": "f9b6564e-d380-4f89-ebff-e2ca52990c52"
      },
      "source": [
        "len(df[df['is_sarcastic']==0])"
      ],
      "execution_count": 15,
      "outputs": [
        {
          "output_type": "execute_result",
          "data": {
            "text/plain": [
              "14951"
            ]
          },
          "metadata": {
            "tags": []
          },
          "execution_count": 15
        }
      ]
    },
    {
      "cell_type": "markdown",
      "metadata": {
        "id": "fDbODqfjh9_Y",
        "colab_type": "text"
      },
      "source": [
        "**Qua biểu đồ ta thấy số lượng sarcastic headlines gần bằng so với số lượng not sarcastic headlines (chênh nhau 1399 headlines) -> dataset khá cân bằng**"
      ]
    },
    {
      "cell_type": "markdown",
      "metadata": {
        "id": "TwVddb3JyNC1",
        "colab_type": "text"
      },
      "source": [
        "**Loại bỏ các stop words**"
      ]
    },
    {
      "cell_type": "code",
      "metadata": {
        "id": "JZAO2ii-x4IO",
        "colab_type": "code",
        "colab": {}
      },
      "source": [
        "tf = TfidfVectorizer(stop_words=\"english\")\n",
        "feature = tf.fit_transform(df['headline'])"
      ],
      "execution_count": 16,
      "outputs": []
    },
    {
      "cell_type": "code",
      "metadata": {
        "id": "7dUbcICDx9v-",
        "colab_type": "code",
        "colab": {}
      },
      "source": [
        "label = df['is_sarcastic']"
      ],
      "execution_count": 17,
      "outputs": []
    },
    {
      "cell_type": "markdown",
      "metadata": {
        "id": "qI6BcP_mjHwv",
        "colab_type": "text"
      },
      "source": [
        "# **Load dataset đã thu thập**"
      ]
    },
    {
      "cell_type": "markdown",
      "metadata": {
        "id": "9YbQ82yHjO1I",
        "colab_type": "text"
      },
      "source": [
        "* Dataset được thu thập từ hai trang HuffPost (chuyên tin tức chính thống) và TheOnion (chuyên tin tức châm biểm)\n",
        "\n",
        "* Việc thu thập dữ liệu từ hai trang báo trên đều dựa vào công cụ Data Scraper được google chrome hỗ trợ"
      ]
    },
    {
      "cell_type": "markdown",
      "metadata": {
        "id": "5peV2IUtj8Wd",
        "colab_type": "text"
      },
      "source": [
        "Load dataset tự thu thập từ trang TheOnion"
      ]
    },
    {
      "cell_type": "code",
      "metadata": {
        "id": "u0ONnpTVjxzg",
        "colab_type": "code",
        "colab": {
          "base_uri": "https://localhost:8080/",
          "height": 419
        },
        "outputId": "ff8a4416-9832-4647-8394-daadc57c7ddc"
      },
      "source": [
        "names=['headlines','is_sarcastic']\n",
        "data1=pd.read_csv('TheOnion.csv',encoding='unicode-escape',names=names)\n",
        "data1['is_sarcastic']=1\n",
        "data1"
      ],
      "execution_count": 18,
      "outputs": [
        {
          "output_type": "execute_result",
          "data": {
            "text/html": [
              "<div>\n",
              "<style scoped>\n",
              "    .dataframe tbody tr th:only-of-type {\n",
              "        vertical-align: middle;\n",
              "    }\n",
              "\n",
              "    .dataframe tbody tr th {\n",
              "        vertical-align: top;\n",
              "    }\n",
              "\n",
              "    .dataframe thead th {\n",
              "        text-align: right;\n",
              "    }\n",
              "</style>\n",
              "<table border=\"1\" class=\"dataframe\">\n",
              "  <thead>\n",
              "    <tr style=\"text-align: right;\">\n",
              "      <th></th>\n",
              "      <th>headlines</th>\n",
              "      <th>is_sarcastic</th>\n",
              "    </tr>\n",
              "  </thead>\n",
              "  <tbody>\n",
              "    <tr>\n",
              "      <th>0</th>\n",
              "      <td>Georgia Secretary Of State Vows To Investigate...</td>\n",
              "      <td>1</td>\n",
              "    </tr>\n",
              "    <tr>\n",
              "      <th>1</th>\n",
              "      <td>Congress Announces Willingness To Offer Black ...</td>\n",
              "      <td>1</td>\n",
              "    </tr>\n",
              "    <tr>\n",
              "      <th>2</th>\n",
              "      <td>Democratic Leaders Announce That Theyve Learn...</td>\n",
              "      <td>1</td>\n",
              "    </tr>\n",
              "    <tr>\n",
              "      <th>3</th>\n",
              "      <td>She Needs A Bible Now, FuckwadYes, Its For ...</td>\n",
              "      <td>1</td>\n",
              "    </tr>\n",
              "    <tr>\n",
              "      <th>4</th>\n",
              "      <td>DNC To Streamline Fundraising By Cutting Out U...</td>\n",
              "      <td>1</td>\n",
              "    </tr>\n",
              "    <tr>\n",
              "      <th>...</th>\n",
              "      <td>...</td>\n",
              "      <td>...</td>\n",
              "    </tr>\n",
              "    <tr>\n",
              "      <th>995</th>\n",
              "      <td>Amazing Detail: Every Game In MLB The Show W...</td>\n",
              "      <td>1</td>\n",
              "    </tr>\n",
              "    <tr>\n",
              "      <th>996</th>\n",
              "      <td>Everything You Need To Know About Nioh 2</td>\n",
              "      <td>1</td>\n",
              "    </tr>\n",
              "    <tr>\n",
              "      <th>997</th>\n",
              "      <td>Amazing Collaboration: NASA Is Working With Ni...</td>\n",
              "      <td>1</td>\n",
              "    </tr>\n",
              "    <tr>\n",
              "      <th>998</th>\n",
              "      <td>Amazing News Gamers: Everyone Is Having A Grea...</td>\n",
              "      <td>1</td>\n",
              "    </tr>\n",
              "    <tr>\n",
              "      <th>999</th>\n",
              "      <td>Greatest Video Game Weapons Of All Time</td>\n",
              "      <td>1</td>\n",
              "    </tr>\n",
              "  </tbody>\n",
              "</table>\n",
              "<p>1000 rows × 2 columns</p>\n",
              "</div>"
            ],
            "text/plain": [
              "                                             headlines  is_sarcastic\n",
              "0    Georgia Secretary Of State Vows To Investigate...             1\n",
              "1    Congress Announces Willingness To Offer Black ...             1\n",
              "2    Democratic Leaders Announce That Theyve Learn...             1\n",
              "3    She Needs A Bible Now, FuckwadYes, Its For ...             1\n",
              "4    DNC To Streamline Fundraising By Cutting Out U...             1\n",
              "..                                                 ...           ...\n",
              "995  Amazing Detail: Every Game In MLB The Show W...             1\n",
              "996         Everything You Need To Know About Nioh 2             1\n",
              "997  Amazing Collaboration: NASA Is Working With Ni...             1\n",
              "998  Amazing News Gamers: Everyone Is Having A Grea...             1\n",
              "999            Greatest Video Game Weapons Of All Time             1\n",
              "\n",
              "[1000 rows x 2 columns]"
            ]
          },
          "metadata": {
            "tags": []
          },
          "execution_count": 18
        }
      ]
    },
    {
      "cell_type": "markdown",
      "metadata": {
        "id": "MmxKBC_wlatL",
        "colab_type": "text"
      },
      "source": [
        "Load dataset tự thu thập từ trang HuffPost"
      ]
    },
    {
      "cell_type": "code",
      "metadata": {
        "id": "1l2xSQbGlaWv",
        "colab_type": "code",
        "colab": {
          "base_uri": "https://localhost:8080/",
          "height": 419
        },
        "outputId": "c7f9aead-d58d-4da7-d62a-6e7c2bf53bb1"
      },
      "source": [
        "names=['headlines','is_sarcastic']\n",
        "data2=pd.read_csv('HuffPost.csv',encoding='unicode-escape',names=names)\n",
        "data2['is_sarcastic']=0\n",
        "data2"
      ],
      "execution_count": 19,
      "outputs": [
        {
          "output_type": "execute_result",
          "data": {
            "text/html": [
              "<div>\n",
              "<style scoped>\n",
              "    .dataframe tbody tr th:only-of-type {\n",
              "        vertical-align: middle;\n",
              "    }\n",
              "\n",
              "    .dataframe tbody tr th {\n",
              "        vertical-align: top;\n",
              "    }\n",
              "\n",
              "    .dataframe thead th {\n",
              "        text-align: right;\n",
              "    }\n",
              "</style>\n",
              "<table border=\"1\" class=\"dataframe\">\n",
              "  <thead>\n",
              "    <tr style=\"text-align: right;\">\n",
              "      <th></th>\n",
              "      <th>headlines</th>\n",
              "      <th>is_sarcastic</th>\n",
              "    </tr>\n",
              "  </thead>\n",
              "  <tbody>\n",
              "    <tr>\n",
              "      <th>0</th>\n",
              "      <td>Trump Fires U.S. Attorney Who Led Probes Of Th...</td>\n",
              "      <td>0</td>\n",
              "    </tr>\n",
              "    <tr>\n",
              "      <th>1</th>\n",
              "      <td>6 Staffers Working On Trump's Tulsa Rally Test...</td>\n",
              "      <td>0</td>\n",
              "    </tr>\n",
              "    <tr>\n",
              "      <th>2</th>\n",
              "      <td>Community Wants Answers After LA Deputies Fata...</td>\n",
              "      <td>0</td>\n",
              "    </tr>\n",
              "    <tr>\n",
              "      <th>3</th>\n",
              "      <td>Police Arrest Peaceful Protester Sitting Alone...</td>\n",
              "      <td>0</td>\n",
              "    </tr>\n",
              "    <tr>\n",
              "      <th>4</th>\n",
              "      <td>Joe Biden Raised More Money Than Donald Trump ...</td>\n",
              "      <td>0</td>\n",
              "    </tr>\n",
              "    <tr>\n",
              "      <th>...</th>\n",
              "      <td>...</td>\n",
              "      <td>...</td>\n",
              "    </tr>\n",
              "    <tr>\n",
              "      <th>995</th>\n",
              "      <td>Bronx Rep. Eliot Engels Hot Mic Moment Gives ...</td>\n",
              "      <td>0</td>\n",
              "    </tr>\n",
              "    <tr>\n",
              "      <th>996</th>\n",
              "      <td>Fauci Says Meetings With Trump On Coronavirus ...</td>\n",
              "      <td>0</td>\n",
              "    </tr>\n",
              "    <tr>\n",
              "      <th>997</th>\n",
              "      <td>Bronx Rep. Eliot Engels Hot Mic Moment Gives ...</td>\n",
              "      <td>0</td>\n",
              "    </tr>\n",
              "    <tr>\n",
              "      <th>998</th>\n",
              "      <td>Ithaca Could Be The First U.S. City To Move Fo...</td>\n",
              "      <td>0</td>\n",
              "    </tr>\n",
              "    <tr>\n",
              "      <th>999</th>\n",
              "      <td>Public Opinion Is On The Side Of The Protests....</td>\n",
              "      <td>0</td>\n",
              "    </tr>\n",
              "  </tbody>\n",
              "</table>\n",
              "<p>1000 rows × 2 columns</p>\n",
              "</div>"
            ],
            "text/plain": [
              "                                             headlines  is_sarcastic\n",
              "0    Trump Fires U.S. Attorney Who Led Probes Of Th...             0\n",
              "1    6 Staffers Working On Trump's Tulsa Rally Test...             0\n",
              "2    Community Wants Answers After LA Deputies Fata...             0\n",
              "3    Police Arrest Peaceful Protester Sitting Alone...             0\n",
              "4    Joe Biden Raised More Money Than Donald Trump ...             0\n",
              "..                                                 ...           ...\n",
              "995  Bronx Rep. Eliot Engels Hot Mic Moment Gives ...             0\n",
              "996  Fauci Says Meetings With Trump On Coronavirus ...             0\n",
              "997  Bronx Rep. Eliot Engels Hot Mic Moment Gives ...             0\n",
              "998  Ithaca Could Be The First U.S. City To Move Fo...             0\n",
              "999  Public Opinion Is On The Side Of The Protests....             0\n",
              "\n",
              "[1000 rows x 2 columns]"
            ]
          },
          "metadata": {
            "tags": []
          },
          "execution_count": 19
        }
      ]
    },
    {
      "cell_type": "markdown",
      "metadata": {
        "id": "Avx2Hlw-lyIn",
        "colab_type": "text"
      },
      "source": [
        "**Nối hai dataframe**"
      ]
    },
    {
      "cell_type": "code",
      "metadata": {
        "id": "hgCPtBkXl2q4",
        "colab_type": "code",
        "colab": {
          "base_uri": "https://localhost:8080/",
          "height": 419
        },
        "outputId": "a7a1b239-c46c-468d-96f2-428965925fb6"
      },
      "source": [
        "data=pd.concat([data1,data2],axis=0)\n",
        "data"
      ],
      "execution_count": 20,
      "outputs": [
        {
          "output_type": "execute_result",
          "data": {
            "text/html": [
              "<div>\n",
              "<style scoped>\n",
              "    .dataframe tbody tr th:only-of-type {\n",
              "        vertical-align: middle;\n",
              "    }\n",
              "\n",
              "    .dataframe tbody tr th {\n",
              "        vertical-align: top;\n",
              "    }\n",
              "\n",
              "    .dataframe thead th {\n",
              "        text-align: right;\n",
              "    }\n",
              "</style>\n",
              "<table border=\"1\" class=\"dataframe\">\n",
              "  <thead>\n",
              "    <tr style=\"text-align: right;\">\n",
              "      <th></th>\n",
              "      <th>headlines</th>\n",
              "      <th>is_sarcastic</th>\n",
              "    </tr>\n",
              "  </thead>\n",
              "  <tbody>\n",
              "    <tr>\n",
              "      <th>0</th>\n",
              "      <td>Georgia Secretary Of State Vows To Investigate...</td>\n",
              "      <td>1</td>\n",
              "    </tr>\n",
              "    <tr>\n",
              "      <th>1</th>\n",
              "      <td>Congress Announces Willingness To Offer Black ...</td>\n",
              "      <td>1</td>\n",
              "    </tr>\n",
              "    <tr>\n",
              "      <th>2</th>\n",
              "      <td>Democratic Leaders Announce That Theyve Learn...</td>\n",
              "      <td>1</td>\n",
              "    </tr>\n",
              "    <tr>\n",
              "      <th>3</th>\n",
              "      <td>She Needs A Bible Now, FuckwadYes, Its For ...</td>\n",
              "      <td>1</td>\n",
              "    </tr>\n",
              "    <tr>\n",
              "      <th>4</th>\n",
              "      <td>DNC To Streamline Fundraising By Cutting Out U...</td>\n",
              "      <td>1</td>\n",
              "    </tr>\n",
              "    <tr>\n",
              "      <th>...</th>\n",
              "      <td>...</td>\n",
              "      <td>...</td>\n",
              "    </tr>\n",
              "    <tr>\n",
              "      <th>995</th>\n",
              "      <td>Bronx Rep. Eliot Engels Hot Mic Moment Gives ...</td>\n",
              "      <td>0</td>\n",
              "    </tr>\n",
              "    <tr>\n",
              "      <th>996</th>\n",
              "      <td>Fauci Says Meetings With Trump On Coronavirus ...</td>\n",
              "      <td>0</td>\n",
              "    </tr>\n",
              "    <tr>\n",
              "      <th>997</th>\n",
              "      <td>Bronx Rep. Eliot Engels Hot Mic Moment Gives ...</td>\n",
              "      <td>0</td>\n",
              "    </tr>\n",
              "    <tr>\n",
              "      <th>998</th>\n",
              "      <td>Ithaca Could Be The First U.S. City To Move Fo...</td>\n",
              "      <td>0</td>\n",
              "    </tr>\n",
              "    <tr>\n",
              "      <th>999</th>\n",
              "      <td>Public Opinion Is On The Side Of The Protests....</td>\n",
              "      <td>0</td>\n",
              "    </tr>\n",
              "  </tbody>\n",
              "</table>\n",
              "<p>2000 rows × 2 columns</p>\n",
              "</div>"
            ],
            "text/plain": [
              "                                             headlines  is_sarcastic\n",
              "0    Georgia Secretary Of State Vows To Investigate...             1\n",
              "1    Congress Announces Willingness To Offer Black ...             1\n",
              "2    Democratic Leaders Announce That Theyve Learn...             1\n",
              "3    She Needs A Bible Now, FuckwadYes, Its For ...             1\n",
              "4    DNC To Streamline Fundraising By Cutting Out U...             1\n",
              "..                                                 ...           ...\n",
              "995  Bronx Rep. Eliot Engels Hot Mic Moment Gives ...             0\n",
              "996  Fauci Says Meetings With Trump On Coronavirus ...             0\n",
              "997  Bronx Rep. Eliot Engels Hot Mic Moment Gives ...             0\n",
              "998  Ithaca Could Be The First U.S. City To Move Fo...             0\n",
              "999  Public Opinion Is On The Side Of The Protests....             0\n",
              "\n",
              "[2000 rows x 2 columns]"
            ]
          },
          "metadata": {
            "tags": []
          },
          "execution_count": 20
        }
      ]
    },
    {
      "cell_type": "markdown",
      "metadata": {
        "id": "jHa_KikqmBWp",
        "colab_type": "text"
      },
      "source": [
        "# **Xử lý dataset tự thu thập**"
      ]
    },
    {
      "cell_type": "markdown",
      "metadata": {
        "id": "0bGHtxIHmWjX",
        "colab_type": "text"
      },
      "source": [
        "Loại bỏ các kí tự đặc biệt và số"
      ]
    },
    {
      "cell_type": "code",
      "metadata": {
        "id": "YcVGBoKE1jMB",
        "colab_type": "code",
        "colab": {}
      },
      "source": [
        "import string"
      ],
      "execution_count": 21,
      "outputs": []
    },
    {
      "cell_type": "code",
      "metadata": {
        "id": "0kx-T3sMpvkL",
        "colab_type": "code",
        "colab": {}
      },
      "source": [
        "def xuli_headline(headline_):\n",
        "  headline_=''.join(ch for ch in headline_ if ch in (string.ascii_letters+string.digits+' '))\n",
        "  headline_=headline_.lower()\n",
        "  headline_=headline_.strip()\n",
        "  return headline_"
      ],
      "execution_count": 22,
      "outputs": []
    },
    {
      "cell_type": "code",
      "metadata": {
        "id": "IHxJcIPNp2Qr",
        "colab_type": "code",
        "colab": {
          "base_uri": "https://localhost:8080/",
          "height": 1000
        },
        "outputId": "53e60b12-b8d1-4902-cbcb-d4f88d349dfc"
      },
      "source": [
        "data_final=[]\n",
        "for headline_ in data['headlines']:\n",
        "  data_final.append(xuli_headline(headline_))\n",
        "data_final"
      ],
      "execution_count": 23,
      "outputs": [
        {
          "output_type": "execute_result",
          "data": {
            "text/plain": [
              "['georgia secretary of state vows to investigate why some residents forced to wait 2 centuries to vote',\n",
              " 'congress announces willingness to offer black lives matter protesters holiday or statue',\n",
              " 'democratic leaders announce that theyve learned the words systemic racism',\n",
              " 'she needs a bible now fuckwadyes its for an epic clapback yells panicked pelosi aide into phone',\n",
              " 'dnc to streamline fundraising by cutting out unnecessary cost of campaigns candidates',\n",
              " 'pros and cons of voting by mail',\n",
              " 'biden campaign email trails off halfway through',\n",
              " 'biden campaign considering using the internet to attract voters',\n",
              " 'nancy pelosi assures democratic reps they dont need to try being productive during stressful pandemic',\n",
              " 'obama im so proud to endorse joe bidenthats who they went with huhfor president',\n",
              " 'it was for uh medical reasons says doctor to boris johnson explaining why they had to give him haircut',\n",
              " 'i congratulate joe biden a very decent man says bernie sanders in unprovoked attack on democratic party unity',\n",
              " 'wisconsin primary voters receive i voted gravestones',\n",
              " 'senator kelly loeffler asks for prayers after losing 3 on single stock due to coronavirus',\n",
              " 'georgia governor argues that closing states beaches an attack on citizens fundamental right to get wet n wild',\n",
              " 'trump admits 18 new states to increase competition for medical supplies',\n",
              " 'southern governors argue covid19 good christian virus that wouldnt dare spread during church',\n",
              " 'jared kushner says states should have planned ahead before joining the union',\n",
              " 'trump tackles medical supply shortage by awarding exxonmobil contract to drill for ventilators in arctic',\n",
              " 'trump delays easter to july 15 to keep promise on coronavirus',\n",
              " 'trump announces plan to retrain nations 3 million unemployed americans as human ventilators',\n",
              " 'whats in congress coronavirus stimulus bill',\n",
              " 'congress sets aside 1200 in trust for each american until they prove theyre responsible enough to handle it',\n",
              " 'trump suggests ceding new york to coronavirus as possible appeasement strategy',\n",
              " 'trump urges loosening cdc restrictions to let coronavirus get to work',\n",
              " 'gop urges end of quarantine for lifeless bipedal automatons that make economy go',\n",
              " 'richard burr wondering when profiting off mass suffering suddenly became a crime in this country',\n",
              " 'trump administration releases best case scenario projections for coronavirus where 8 million iranian people die',\n",
              " 'trump seeks to stimulate economy by sending rare autographed photo to every american',\n",
              " 'triumphant jared kushner announces plan to move cdc headquarters to jerusalem',\n",
              " 'trump quietly checks with aides to make sure hed be included in receiving 1000 government checks',\n",
              " 'conservative worries relief checks would discourage americans from providing for selves by killing him and taking his property',\n",
              " 'congress allocates 2 trillion to bail out struggling bailout industry',\n",
              " 'biden pledges to select woman as vice president since position doesnt entail much anyway',\n",
              " 'i have coronavirus and i am dead says trump furthering confusion over covid19',\n",
              " 'frustrated jared kushner doesnt get why everyone in media attacking his qualifications like they didnt just get jobs through nepotism too',\n",
              " 'kushner announces doctors hate him after he discovered one weird trick to cure coronavirus',\n",
              " 'trump assures americans he called 911 to report coronavirus outbreak',\n",
              " 'federal reserve takes drastic action by pumping 15 trillion into the ether',\n",
              " 'biden extends olive branch to biden supporters',\n",
              " 'tulsi gabbard named democratic nominee after discovery of obscure rule that grants nomination to whoever wins 07 of the vote in missouri',\n",
              " 'vote blue no matter who vote blue no matter who chants man filling in every bubble on democratic primary ballot',\n",
              " 'biden gives speech from south african jail cell where he still imprisoned for supporting nelson mandela',\n",
              " 'key priorities for trumps reelection campaign',\n",
              " 'biden defends past inappropriate touching of women as symptom of stuttering hands',\n",
              " 'ruth bader ginsburg flirting with 67yearold intern again',\n",
              " 'vindictive amy klobuchar elected mayor of south bend indiana',\n",
              " 'biden wondering where all this support was when he still had functioning brain',\n",
              " 'sanders supporter urges importance of listening to minority voices just not specifically the ones who handed victory to biden',\n",
              " 'frustrated bloomberg staffer literally just aborted fetus for this job',\n",
              " 'biden says incredible comeback proves he can beat progressive democrat in a general election',\n",
              " 'lastminute change to super tuesday primary rules requires all 14 states to vote at same polling place',\n",
              " 'biden confident after spending super tuesday stumping across iowa',\n",
              " 'buttigieg drops out of democratic race after slamming own plan to be president as naive unrealistic pipe dream',\n",
              " 'damning new footage shows sanders in 1980s arguing madonna could never make transition from music to film',\n",
              " 'trump claims responsibility for longest black history month in 4 years',\n",
              " 'warren tells supporters to cut that pinterest shit out this is serious',\n",
              " 'obama kind of hurt no ones even asked for his endorsement',\n",
              " 'ill show those pricks screams mitt romney driving busload of pregnant women to abortion clinic after being disinvited to cpac',\n",
              " 'i like this candidate now and will vote for him says area man after having to watch 12th bloomberg ad in single day',\n",
              " 'candidates struggle to answer question about future of granite countertops during hgtv town hall',\n",
              " 'sanders supporter sick of movement being defined by small number of toxic members like him',\n",
              " 'trump holds diplomatic ceremony to formally welcome coronavirus to united states',\n",
              " 'moderators kick off debate by asking whether bloomberg ready to get shit rocked again',\n",
              " 'klobuchar hoping to distinguish herself during debate as only candidate not sucker punched in gut moments before stepping on stage',\n",
              " 'elena kagan worried shes a fraud after being only female justice not called out by trump',\n",
              " 'trump in india hails blossoming relations between the 2 planets',\n",
              " 'embarrassed heart surgeon admits he may have accidentally left sanders medical records in candidates chest',\n",
              " 'trump administration rolls back hunting regulations forbidding use of chokeholds eye gouging on birds',\n",
              " 'experts concerned pale russian mystic constantly at trumps side may attempt to influence 2020 election',\n",
              " 'biden begging donors to stop sending money so he can quit race',\n",
              " 'four quarts make a gallon the frontal lobe controls decision making the ottoman empire dissolved in 1922 says amy klobuchar continuing to name trivia facts hours after debate ends',\n",
              " 'stephen miller spends entire honeymoon in hotel room calling ice on cleaning staff',\n",
              " 'increased airtime of chantix commercials results in ray liotta qualifying for democratic debate',\n",
              " 'chuck todd reminds candidates that if they want more time to speak there are melee weapons under each of their lecterns',\n",
              " 'ill rule you peasants with an iron fist says bloomberg to standing ovation during dnc debate',\n",
              " 'lastsecond dnc rule change requires candidates spend at least 300 million of own fortune to make debate stage',\n",
              " 'i love my wife marcia and 2 beautiful kids tad and hayden says buttigieg in latest campaign shift',\n",
              " 'rod blagojevich somehow already governor of illinois again minutes after prison release',\n",
              " 'bloomberg hires thousands of canvassers to stop black men on street and force them to hear campaign pitch',\n",
              " 'a guide to the usmca trade deal',\n",
              " 'nevada addresses concerns about election security by switching to electronic voters',\n",
              " 'mike bloomberg i apologize for the damages my past policies have caused to the negro community',\n",
              " 'pros and cons of abolishing the senate',\n",
              " 'takeaways from the new hampshire primaries',\n",
              " 'moderates worry klobuchar splitting peoplewhowillvoteforanybody vote',\n",
              " 'bloomberg campaign raises visibility by pumping 5 million into bloombergisracist hashtag',\n",
              " 'poll finds bloomberg trailing among young black males hes already thrown in prison',\n",
              " 'hes a cop say bernie backers withdrawing support after realizing candidate vying to be commander in chief',\n",
              " 'increasingly unhinged centrists announce plan to round up nation into camps to force them to engage in meaningful dialogue',\n",
              " 'timeline of the iowa caucuses debacle',\n",
              " 'buttigieg touts progress connecting with black fortune 500 executives',\n",
              " 'hes got the mulan virus yells don jr attempting to quarantine eric by duct taping garbage bag over head',\n",
              " 'thai fishermen find iowa caucus results in stomach of tiger shark',\n",
              " 'senate republicans say one mistake should not ruin the life of a naive promising young man like trump',\n",
              " 'trump spends national prayer breakfast attacking god for allowing impeachment to ever happen',\n",
              " 'sanders makes lastminute appeal to moderates by reminding them all his policies would end up being watered down to their positions anyway',\n",
              " 'both parties acting exactly how everyone expected them to restore nations faith in political process',\n",
              " 'rush limbaugh admits presidential medal of freedom less of an honor knowing that rosa parks maya angelou also received it',\n",
              " 'speeding democratic campaign buses run over 173 iowans in mad dash to get fuck out of state',\n",
              " 'dnc offers startup 500 million to develop pencil that can accurately record election results',\n",
              " 'dnc blames iowa caucus problems on single fuckup senior citizen volunteer',\n",
              " 'buttigieg my record during my first term as president speaks for itself',\n",
              " 'dnc mulls asking donald trump to run as democrat in effort to stop sanders',\n",
              " 'report fighting rising tide of authoritarianism sounds like a lot of work',\n",
              " 'youre a piece of shit and i hope everyone like you dies says biden to democratic voter in stirring call for party unity',\n",
              " 'the onions guide to the 2020 democratic candidates',\n",
              " 'kushner promises israel plan will relocate all palestinians to generous swath of mediterranean sea',\n",
              " 'sanders unveils jobtraining program to provide meaningful work to lowskilled oped writers',\n",
              " 'chris matthews warns bernie sanders victory runs risk of making him look stupid 2 elections in a row',\n",
              " 'joni ernst insists she hasnt seen any impeachment evidence that has changed her selfserving political calculus',\n",
              " 'key players in trumps impeachment trial',\n",
              " 'cbs inks deal for 30episode bloomberg ad',\n",
              " 'bolton pledges to donate all proceeds from book towards killing iranians',\n",
              " 'amy klobuchar enters 18th minute of tense standoff with iowa rally crowd who havent laughed at her joke',\n",
              " 'mike pompeo there is overwhelming and undeniable evidence to support going to war with whoever',\n",
              " 'liberals say sanderss acceptance of rogan endorsement sends dangerous message he trying to win election',\n",
              " 'melting giraffe congressman warns impeachment distracting from surreal issues',\n",
              " 'trump makes powerful prolife case by speaking about the joys of neglecting a child',\n",
              " 'justice roberts sternly admonishes impeachment participants to remember theyre at complete farce of a trial',\n",
              " 'senate republicans force through resolution establishing wingstop as official sponsor of impeachment trial',\n",
              " 'contrarian new york times travel section breaks with paper to endorse deval patrick for democratic nomination',\n",
              " 'kellyanne conway suggests martin luther king jr would have traveled to ukraine for dirt on biden',\n",
              " 'they cant impeach someone they cant see say trump boys cramming dad into homemade bunker under oval office desk',\n",
              " 'republican senators maintain theyll weigh all evidence before carrying trump out on shoulders',\n",
              " 'cnn reveals bernie sanders running for president of country with history of sexism',\n",
              " 'stephen miller hurt at being passed over for job stalking female ambassador',\n",
              " 'cnn audio analysis reveals biden caught on wet mic while chewing on own microphone',\n",
              " 'public disapproval of iran approach convinces trump to reverse soleimani killing',\n",
              " 'biden asks advisors how much longer he has to pretend to be confused and doddering to avoid criticism',\n",
              " 'pros and cons of economic sanctions',\n",
              " 'cnn reminds debate participants to keep personal attacks off the stage in favor of new confession cam backstage',\n",
              " 'cnn moderator challenges sanders support for women by asking him to name every part of female reproductive system',\n",
              " 'hey remember john hickenlooper says wolf blitzer to break tension from debate',\n",
              " 'cnn figures it can soak tom steyer for couple million by pretending it costs money to appear in debate',\n",
              " 'democratic candidates immediately descend into violent pandemonium without cory bookers message of love',\n",
              " 'swing voter really relates to buttigiegs complete lack of conviction',\n",
              " 'trump warns iran not to kill any protesters who us already has dibs on',\n",
              " 'prominent evangelical magazine calls for removing trump from holy trinity',\n",
              " 'dnc bows to pressure by adding andrew cuomo to increase ethnic representation on debate stage',\n",
              " 'dnc eases debate requirements to 01 above whatever cory booker polling',\n",
              " 'trump claims he knows john dingell is in hell because he sees window into terrifying inferno every time he closes his eyes',\n",
              " 'gop turns dozens of house democrats away from impeachment for failing to provide adequate voter id',\n",
              " 'congressman couldve sworn last impeachment was catered',\n",
              " 'poll finds 54 of americans approve executing trump but leaving him in office',\n",
              " 'congress reaches 14 trillion spending deal to award entire budget to one lucky american',\n",
              " 'and then those 12 people send it to 12 peoplethats 144 people says cory booker describing campaign newsletter strategy to rosario dawson',\n",
              " 'well spoken my good fellow but let me retort says congressman engaged in probing highminded debate on facts and merits of impeachment',\n",
              " 'fox news condemns 2020 election as partisan witch hunt orchestrated by democrats to unseat president',\n",
              " 'pros and cons of social media banning political ads',\n",
              " 'socalled ronald reagan presidential library looks nothing like him',\n",
              " 'pete buttigieg blames inability to disclose political stances on nda with buttigieg campaign',\n",
              " 'sonny perdue argues food stamp cuts will incentivize people to get exploitative jobs that wont exist in 5 years',\n",
              " 'boris johnson worried antisemitism accusations against labour party will hurt tories hold on bigot vote',\n",
              " 'jimmy carter devotes rest of life to raising awareness of fact that men get utis too',\n",
              " 'jilted trump announces formation of cooler way more powerful nato with his new best friends oman macedonia and suriname',\n",
              " 'pros and cons of talking politics at work',\n",
              " 'oneeyed man who kamala harris locked up 25 years ago quietly removes tulsi gabbard mask',\n",
              " 'kamala harris supporter insists her inspiring message of something or other will always live on',\n",
              " 'michael bloomberg treats self to second flashier presidential campaign',\n",
              " 'nation calls for letting biden rub womens shoulders again after seeing what hell do instead',\n",
              " 'dnc server celebrates escape from us jurisdiction surrounded by bikiniclad women on yacht in black sea',\n",
              " 'i yield the remainder of my time to you the viewer at home says adam schiff during impeachment hearing before staring into camera for 3 minutes',\n",
              " 'biggest revelations from the anonymous trump officials new book',\n",
              " 'buttigieg campaign appeals to moderate republicans by touting low approval among black voters',\n",
              " 'how political ads are made',\n",
              " 'yovanovitch testifies that she was removed to make way for corrupt back channel but gets if no one cares about anything anymore',\n",
              " 'full trump transcript includes 37 pages of confused president mashing fingers against dial pad while ukrainian president tries to speak',\n",
              " 'washington post impeachment critic gives insipid day one inquiry 2 out of 5 andrew johnsons',\n",
              " 'deval patrick acquires high favorability numbers good iowa polling after leveraged buyout of buttigieg campaign',\n",
              " 'staples center employee realizes he left shot clock buzzer on this whole time',\n",
              " 'entire oklahoma state team to boycott season after mike gundy seen in ncaa shirt',\n",
              " 'fantasy baseball league commissioner knows handling of pandemic will define his legacy',\n",
              " 'adidas unveils new line of soccer stuff',\n",
              " 'red sox ask fans to switch from racial to homophobic slurs when taunting opposing players',\n",
              " 'kyrie irving suggests nba hold games inside higher plane of reality beyond limits of mortal realm',\n",
              " 'the greatest nba teams of all time',\n",
              " 'roger goodell insists martin luther king jr would have wanted 17game football season in front of full stadiums',\n",
              " 'adam silver shows solidarity with players by inserting self as milwaukee bucks point guard',\n",
              " 'governor upset barber would be so reckless as to get near ben roethlisberger',\n",
              " 'german soccer league simulates presence of fans by pumping racial slurs into stadiums',\n",
              " 'nfl reminds black coaches theyll get their chance once league runs out of grudens and shanahans',\n",
              " 'desperate sports fan would almost be willing to watch own kids play in backyard at this point',\n",
              " '11 greatest sports moments made possible by peds',\n",
              " 'the last dance director defends creative choice to flash forward to 2046',\n",
              " 'stephen a smith ive loved haseong kim for years but he will simply never be the player jeong choi is',\n",
              " 'golden boy boxing applies for ppp loan to continue paying off judges',\n",
              " 'belarusian soccer execs pop champagne on new mega yacht to celebrate wave of increased popularity that will surely last forever',\n",
              " 'ncaa wonders why financially struggling student athletes didnt just exploit labor of others',\n",
              " 'charles barkley michael jordan would have been nothing special had he played in my day',\n",
              " 'jay cutlers marriage completion percentage drops to zero',\n",
              " 'millions of last dance viewers hooked by thrilling benny the bull paternity suit story',\n",
              " '89yearold football fan still finds it surreal that draftees are younger than him',\n",
              " 'tampa bay also acquires deion branch kevin faulk troy brown from patriots',\n",
              " 'top prospects of the 2020 nfl draft',\n",
              " 'rob gronkowski hoping bucs trade for tom brady too',\n",
              " 'gronkowski breaks 6 tackles on way out of neurology clinic to finalize trade with tampa bay',\n",
              " 'novak djokovic clarifies antivaccine comments by insisting hes always supported having sponsors',\n",
              " 'regretful the last dance producers realize they probably shouldve tried to interview michael jordan',\n",
              " 'potential ways for sports to restart during coronavirus',\n",
              " 'taiwanese robot baseball fan ejected for yelling slurs at pitch camera',\n",
              " 'bulls fire gm after 6week winless streak',\n",
              " 'olympic torchbearer has been jogging in place on street corner for past 2 weeks',\n",
              " 'espn execs fuck it air the dogfighting',\n",
              " 'quarantined umpire cleans his entire home with tiny brush',\n",
              " 'avid sports bettor forced to gamble on stock market like real degenerate',\n",
              " 'kawhi leonard misses second consecutive family game night citing load management',\n",
              " 'tom brady awakens from weeklong kombucha bender to discover hes a tampa bay buccaneer',\n",
              " 'olympic dressage rider enraged after spending past 4 years jauntily trotting around on horse for nothing',\n",
              " 'bucs sign replacementlevel veteran to hold down qb position until they draft starter',\n",
              " 'kansas basketball devastated they wont get opportunity to vacate national championship',\n",
              " 'tom brady i want to thank all the insufferable new england fans for giving me a reason to get the hell out of here',\n",
              " 'orioles suggest that mlb maybe consider canceling entire season just to be totally safe',\n",
              " 'james harden pledges 10 million dollar bills to keep nations strip clubs afloat during pandemic',\n",
              " 'olympic committee announces tokyo games will still go on as planned because true athletes embrace every obstacle that comes their way',\n",
              " 'nfl draft prospect sets combine record by scrubbing entire social media presence in 1764 seconds',\n",
              " 'professional rodeo cowboys association horrified to learn madison bumgarner risking health as baseball pitcher',\n",
              " 'timberwolves fire clerk on accounts receivable team in first step towards turning franchise around',\n",
              " 'pete alonso asks teammates whether theyd all rather sign up for volleyball this year',\n",
              " 'giannis antetokounmpo to take off next 3 seasons with standard european paternity leave',\n",
              " 'chiefs fan adjusting to new life of solely being depressed about life in missouri',\n",
              " 'embarrassed ben simmons retracts criticism of sixers after remembering he on team',\n",
              " 'andy reid after super bowl win i can now die of a heart attack in peace',\n",
              " 'victorious patrick mahomes thanks bears for drafting mitchell trubisky',\n",
              " 'mike shanahan storms onto super bowl field to berate ref for bullshit call against his boy',\n",
              " 'adorable super bowl encourages fans to adopt abandoned stray football players',\n",
              " 'bored 49ers fan already watched j lo perform at startups holiday party',\n",
              " 'shes about my age reports mom watching halftime show',\n",
              " 'sammy watkins stops running in middle of route to look around soak in this special moment',\n",
              " 'fox adds highlighted line on field showing women how far away they should stay from tyreek hill',\n",
              " 'nick bosa frustrated some guy always standing in way when hes trying to rush pocket',\n",
              " 'im just here for the commercials jokes man at super bowl party too embarrassed to admit he desperate for any human company',\n",
              " 'panicked referee trying to retrieve super bowl coin from vending machine before opening toss',\n",
              " 'increased security requirements for super bowl mandate all fan clothes be made from transparent plastic',\n",
              " 'aaron rodgers pledges to dedicate offseason to growing as brand ambassador',\n",
              " 'seattle mariners offhandedly suggest astros red sox titles be awarded to them instead',\n",
              " 'eli manning retires from nfl to focus on being statistically average father',\n",
              " 'the onion looks back on the halloffame career of arods teammate',\n",
              " 'conor mcgregor credits excellent prefight shape to routine of hurling heavy objects in public spaces',\n",
              " 'ncaa determines becoming a bengal punishment enough for joe burrow taking cash from odell beckham',\n",
              " 'drew brees hoping family doesnt just get him football for christmas again',\n",
              " 'cubs sign sammy sosa to 300 million deal just to give casual fans point of reference',\n",
              " 'patriots claim unsanctioned recording was only for project julian edelman working on for filmmaking class',\n",
              " 'gordon hayward confident he still has his most gruesome injuries ahead of him',\n",
              " 'russian olympic program denies steroids played role in 8yearold gymnast hurling balance beam through wall to escape',\n",
              " 'parents sign up mitch trubisky for rec soccer team in hopes hell develop interest in sports',\n",
              " 'handsoff fantasy football player only checks team 132 times each sunday',\n",
              " 'antonio brown proves hes changed man by breaking into robert krafts house in middle of night to apologize',\n",
              " 'ovechkin shanks slapshot into stands after unruly fan coughs during backswing',\n",
              " 'kyrie irving debuts signature shoe inspired by rfid chips government secretly implants in anesthetized patients',\n",
              " 'matthew stafford admits hed play through back injury for better team than lions',\n",
              " 'bengals assure injury prone tua tagovailoa he can have any of andy daltons organs',\n",
              " 'guy who had least to do with plays success celebrating the most',\n",
              " 'fox preempts jetsredskins game in first quarter for more exciting shot of empty nfl sunday studio',\n",
              " 'nfl rescinds myles garrett suspension after review footage clearly shows mason rudolphs punchable fucking face',\n",
              " 'colin kaepernicks agents assure teams his cte has progressed just as much as other players over 3year hiatus',\n",
              " 'magnanimous mlb awards mvp to hardworking stadium concession staffers',\n",
              " 'fan wishes team was sponsored by a cooler corporation',\n",
              " 'sacramento pledges to power arena with 100 windmill dunk energy by 2030',\n",
              " 'grizzled whitebearded donald driver emerges from 7yearlong lambeau leap',\n",
              " 'referee reviewing replay excited to see self on tv',\n",
              " 'lions switch to nocoverage defense to prevent mitch trubisky from losing starting qb job',\n",
              " 'adam eaton spends nationals parade in secure bunker as teams designated survivor',\n",
              " 'astros fan announcing game 7 after joe buck scalps press pass for 25000',\n",
              " 'fairweather bills fan not even banned from stadium',\n",
              " 'dad reports old guy being honored on field always choked in playoffs',\n",
              " 'researchers discover referees evolved stripes to warn predators against pass interference',\n",
              " 'aj hinch warns astros if they lose world series all the hurricanes will come back',\n",
              " 'dak prescott gains 80 pounds moves back in with parents to prepare for role in chunky soup ad',\n",
              " 'pelicans hr informs zion williamson knee surgery not covered by insurance until 90 days into first season',\n",
              " 'pelicans doctors recommend zion williamson drop some height to lessen stress on injured knee',\n",
              " 'cc sabathia the onion looks back on the career of the hardestworking belt in baseball',\n",
              " 'nfl game day prepper stockpiles coolers of bud light hundreds of pounds of grilled meat in underground bunker',\n",
              " 'nba quietly waiting for nfl to fuck up and take some heat off',\n",
              " 'kyler murray stuns on field in new platform cleats',\n",
              " 'patriots bring up young rookie from practice squad to provide fresh blood for tom brady',\n",
              " 'skip bayless slams history of chinese postopium war intervention anxiety in 6hour undisputed',\n",
              " 'jobhunting jay gruden frantically scrubs social media of anything associated with redskins',\n",
              " 'juan soto sheepishly asks group of nationals fans entering liquor store if they can buy beer for him after win',\n",
              " 'vontaze burfict expresses deep regret for letting jack doyle live',\n",
              " 'bill belichick praises patriots discipline and dedication in building the device',\n",
              " 'cubs pitching coach forced to clean up trembling pisscovered pitchers after leaving them locked in bullpen all day',\n",
              " 'brewers players showering themselves in beer unaware they clinched playoff spot',\n",
              " 'nfl reaffirms commitment to player safety by eliminating qb position',\n",
              " 'fifa unveils strict new rule limiting fans to 5 racist chants per game',\n",
              " 'obsessivecompulsive baseball player has to touch all 3 bases before going home',\n",
              " 'rob gronkowskis wife gets out photo album to prove to him hes met tom brady',\n",
              " 'overwhelmed dolphins gm asks players to please use automated email form when making trade requests',\n",
              " 'nfl preemptively adds whatever bullshit gronk hawking to banned substance list',\n",
              " 'cubs team doctor recommends anthony rizzo rehab injured ankle by engaging in light physical activities like baseball',\n",
              " 'antonio brown excited at opportunity to pursue fresh victims in new england',\n",
              " 'dolphins fan starting to think brian flores not chief architect of patriots success',\n",
              " 'ben roethlisberger assures women of pittsburgh he not done yet',\n",
              " 'new espn peyton manning segment breaks down current crop of quarterback commercials',\n",
              " 'roger goodell it nearly impossible for league to keep up with crimes regularly committed by nfl players',\n",
              " 'sam darnolds mono diagnosis forces jets to crack down on kissing in huddle',\n",
              " 'stephen a smith retreats to tranquil secluded fig tree to contemplate on meaning of nfl week one',\n",
              " 'indianapolis motor speedway forced to lower speed limit to 20 mph after elementary school opens next to straightaway',\n",
              " 'financial advisor urges ezekiel elliott to set aside 20 of salary for paying off women to keep quiet',\n",
              " 'gregg popovich invites tim duncan to address team usa on dangers of hypernationalism',\n",
              " 'kobe bryant claims he wouldve won 12 rings if shaqs deadbeat father was around to instill stronger work ethic',\n",
              " 'case keenum wins redskins starting job with heartfelt what i like most about football is essay',\n",
              " 'kid only pitcher because hes son of coach gets daily oneonone training goes to pitching camp every summer',\n",
              " 'derek carr distraught after reading hard knocks script where he stabs antonio brown in season finale',\n",
              " 'derek jeter just going to go ahead and count stray cats in marlins attendance figure',\n",
              " 'football program in jeopardy after high school allocates 500000 to little women production',\n",
              " 'cowboys team doctor breaks news that mentally deteriorating jerry jones will soon be unable to recognize single player on roster',\n",
              " 'jayz pledges to make sure colin kaepernick gets contract at nfl stadium shop',\n",
              " 'aging boxing veteran wishes someone had told him being punched unconscious could damage his brain',\n",
              " 'cautious browns fan not expecting team to do better than 133',\n",
              " 'report little league pitchers could avoid overtaxing their arms by you know getting somebody out',\n",
              " 'report it crazy mlb still counts stats from segregated era',\n",
              " 'nflpa warns holdouts they need to consider the risk that theyll end up having to sign with jets',\n",
              " 'perfectionist jon gruden forces hard knocks to film 78th take of scene where he cuts rookie',\n",
              " 'man told hed never make it as pro defies them all by sucking for 4 years in aa ball',\n",
              " 'kawhi leonard worried hes succumbing to glitzy la lifestyle after purchasing flashy 2016 subaru',\n",
              " 'stephen a smith carmelo anthony deserves to be buried in an unmarked grave forgotten by time',\n",
              " 'tim duncan maps out spurs genealogy after being hired as team archivist',\n",
              " 'lebron james reveals school he founded has seen huge gains in english math and dunk testing',\n",
              " 'espn impressed by mark sanchezs ability to point out football field',\n",
              " 'russell westbrook quietly asks rockets team doctor if he needs to make free throw to pass physical',\n",
              " 'us soccer federation argues it ridiculous for female players to expect same pay as huge stars like daniel lovitz djordje mihailovic',\n",
              " 'phoenix suns gorilla involved in altercation at glendalearea gentlemens club',\n",
              " 'norfolk tides third baseman sent down to baltimore orioles',\n",
              " 'nen wins nbas tenth man of the year award',\n",
              " 'james harden chris paul deny rumors of discord say they are fully committed to team at state farm',\n",
              " 'little league coach just washedup former little leaguer',\n",
              " 'josh mccown retires after signing oneday contract with cardinals lions raiders dolphins panthers 49ers bears buccaneers browns jets',\n",
              " 'nike touts new sports bra with latest breastcrushing technology',\n",
              " 'warriors attribute finals loss to durants ruptured achilles klays torn acl curry being hit by bus near end of game 6',\n",
              " 'golfer can never remember if hes matt kuchar or brooks koepka',\n",
              " 'st louis officials encourage celebrating blues fans to just burn city down and finally end this',\n",
              " 'kevin durant announces plans to return for final game with warriors',\n",
              " 'nba commentators confirm steve kerr not enough of an insufferable prick to be considered alltime great coach',\n",
              " 'dedicated warriors fan contends he was obnoxious asshole long before team got good',\n",
              " 'andrew mccutchen embarrassed he somehow hurt himself playing baseball',\n",
              " 'cleveland indians game delayed as slider goes into labor on field',\n",
              " 'robert kraft agrees to take voluntary leave of absence from orchids of asia day spa',\n",
              " 'blues forced to forfeit stanley cup after exhausting annual travel budget',\n",
              " 'depressed lebron james realizes that at his age copernicus was developing theory of heliocentrism',\n",
              " 'nba requests fans sitting courtside not release derivative albums',\n",
              " 'coachs unathletic son going to get fucking reamed after game for dropping fly ball',\n",
              " 'employee using up sick days before leaving company',\n",
              " 'zion williamson excited to play for team with proven history of frittering away generational talents',\n",
              " 'adam gase to play all 22 positions after pushing out entire jets team',\n",
              " 'new mlb rules reduce number of mound conjugal visits',\n",
              " 'shit no way stadium staff throwing tshirts can reach you',\n",
              " 'nationals gm introduces players to new stepmanager',\n",
              " 'nba draft lottery swells to 3 zion williamsons after no winning tickets drawn',\n",
              " 'upset red sox fan demands to speak to manager',\n",
              " 'mlb scouts impressed by pitching machine consistently hitting 90 on radar gun',\n",
              " 'miami marlins looking at eliminating unprofitable baseball wing of organization',\n",
              " 'los angeles plans to hold 2028 olympics in toronto for the tax incentives',\n",
              " 'video on refs replay screen just adam silver demanding he call fewer fouls on warriors',\n",
              " 'joel embiid downing bucket of lukewarm shrimp in preparation for game 3',\n",
              " 'nhl fans claim hockey way more fun if you there in person on ice playing game',\n",
              " 'kobe bryant confident he could still berate teammates for 20 minutes a night',\n",
              " 'enes kanter grateful to escape from oppressive failing dictatorship in new york',\n",
              " 'denver nuggets worried they screwed up attempt to tank for zion williamson',\n",
              " 'easygoing mel kiper predicts teams will do whatever they feel is right and we shouldnt judge them',\n",
              " 'racine legion to select second overall in nfl draft using pick acquired in 1923',\n",
              " 'steve kerr reminds warriors to seem sad demarcus cousins injured',\n",
              " 'kid about to meet brooklyn nets must not be very sick',\n",
              " 'duke anthropology professor devastated to learn promising student dropping out',\n",
              " 'lonzo ball chooses caa to represent him as father',\n",
              " 'steve ballmer rewards playoffbound clippers with complimentary microsoft office upgrades',\n",
              " 'bryce harper informs phillies gm of 2week vacation in august hed planned before getting job',\n",
              " 'tom izzo calls 2019 spartans best team hes ever threatened with violence',\n",
              " 'total weirdo leading bracket pool after picking teams she analyzed and predicted would beat the others',\n",
              " 'mom comes back from long call with friend looking real sad',\n",
              " 'and what do we want to do about this nest full of baby sparrows asks barber giving man his first haircut in 6 months',\n",
              " 'sweatsoaked mattress praying this the year couple invests in air conditioner',\n",
              " 'manipulative stepmom only married dad so she could take care of him into old age',\n",
              " 'disgusted patio diner pretty sure she just saw coronavirus scurry into bushes',\n",
              " '42yearold man still unsure what his interests are',\n",
              " 'birch tree pictures nude 4000yearold bristlecone pine to delay pollen release',\n",
              " '36yearold man begins outlining a savings plan for ps5',\n",
              " 'city enters phase 4 of pretending coronavirus over',\n",
              " 'woman on sidewalk cant even summon kernel of whimsy required to skip along hopscotch',\n",
              " '37yearold worried he might have missed boat on becoming child prodigy',\n",
              " 'second meal after grocery trip a severe dropoff from first meal after grocery trip',\n",
              " 'woman begins defeated slog back upstairs to apartment to retrieve forgotten mask',\n",
              " '8month odyssey of distress despair ends in redemption as man finally gets around to buying batteries for remote',\n",
              " 'apparently even fence feels need to comment on womans appearance',\n",
              " 'wriggling cat to be held until it accepts its fate',\n",
              " 'family left elderly grandmother to die in nursing home but not like this',\n",
              " 'on top of everything mans allergies also acting up',\n",
              " 'old bike chain needing more and more lube to perform',\n",
              " 'woman needs to shut up and allow man to be ally',\n",
              " 'man questions if it really necessary for protesters to be black',\n",
              " 'inspirational hang in there chalk message the thing that finally breaks entire neighborhood',\n",
              " 'half hour of constant rubbing somehow fails to soothe irritated eye',\n",
              " 'family increasingly terrified that ghost haunting house might be pedophile',\n",
              " 'man always selfsabotaging by working to the best of his ability',\n",
              " 'man shines phone light over empty condom drawer like wily groundskeeper hunting for trespassers',\n",
              " 'unclear why only one half of couple wearing mask',\n",
              " 'conversationstarved man finally treating bumping into coworker as exquisite treasure it truly is',\n",
              " 'garlic clove concerned about being deployed into water glass with no real exit strategy',\n",
              " 'this is a crazy time and its okay if youre scared says man burying gagged prisoner alive',\n",
              " 'recipe calls for banana as if man has access to fucking caribbean street market',\n",
              " 'unplanned 230 am trip through steven seagals wikipedia page worth every goddamn second',\n",
              " 'socalled hero puts eggs at bottom of grocery bag',\n",
              " 'no one aware coworker stormed out of slack meeting',\n",
              " 'nervous new driver going to stick to sidewalks until hes more confident',\n",
              " 'singing birds dressing princess all struggling with bra clasp',\n",
              " 'nurse wearing snoopy scrubs floral face mask to work must think pandemic some kind of joke',\n",
              " 'family can trace ancestry back to whatever the hell grandma was talking about',\n",
              " 'coffee made poured consumed without single conscious thought',\n",
              " 'eighth grader would have cranked classroom pencil sharpener few more times if she knew that going to be last chance',\n",
              " 'store reopens just in time for closeout sale',\n",
              " 'god bless our heroes written where tip should be',\n",
              " 'all mans fun facts from eisenhower biography from prologue',\n",
              " 'man cant wait for quarantine to end so he can finally take shower again',\n",
              " 'nypd officer hopes black teen only coughing because he just choked him',\n",
              " 'rich college student trying to find shabbiest angle in parents penthouse to zoom into class from',\n",
              " 'man just cant be with someone who he projects so many of his own flaws onto',\n",
              " 'bride only one not relieved about postponed wedding date',\n",
              " 'man feels like he gets gist of enlightenment after first few minutes of hearing zen monk talk',\n",
              " 'man cant unsee that mcdonalds logo just big m',\n",
              " 'kindergartener cant believe friend has never seen cars 3 before',\n",
              " 'indomitable honey bee stings itself rather than fall to asian hornet',\n",
              " 'man not sure he can take another 6 weeks of barely following cdc guidelines',\n",
              " 'hospital room admittedly nice change of scenery',\n",
              " 'man in quarantine cant remember how long its been since he danced through town square followed by big chorus of friendly locals',\n",
              " 'look brother sister dont like that theyre soulmates either',\n",
              " 'exhausted parents struggling to limit childs time using gun',\n",
              " 'bourgeois pig owns ostentatious glass crafted specifically to hold wine',\n",
              " 'longtime person dead at 86',\n",
              " 'zoom crasher becomes too engrossed in sales meeting to scream obscenities',\n",
              " 'woman in studio apartment jealously watches woman standing on balcony jealously watching woman relaxing in yard',\n",
              " 'dog screamed into',\n",
              " 'teleconferencing pastor requests any worshipper currently speaking in tongues go on mute',\n",
              " 'every day garbage day for garbage man',\n",
              " 'occupation dropdown menu forces man to scroll past list of every existing job before he can select unemployed',\n",
              " 'report jogger brushing past you on street yesterday all it took',\n",
              " 'burnt piece of toast on top of trash serves as humiliating monument to culinary failures',\n",
              " 'baby emerges from game of peekaboo wiser more reflective',\n",
              " 'man reaches first of dozens of breaking points to come',\n",
              " 'wincing screaming mom feels searing pain in head every time daughter across country wears sock with hole in it',\n",
              " 'man not sure why he thought most psychologically taxing situation of his life would be the thing to make him productive',\n",
              " 'it starting to become pretty clear just how much cruises were the bedrock of parents marriage',\n",
              " 'if woman makes it through this she finally going to wear hat in public',\n",
              " 'man reminds self woman on chiquita banana sticker only smiling at him because thats her job',\n",
              " 'antsy nursing home residents counting down seconds until they can all get back to fucking each other',\n",
              " 'salutations and good tidings blurts out man speaking to other human for first time in days',\n",
              " 'mental health walk spent being glared at by quarantined people in windows',\n",
              " 'pathetic minimumwage worker devastated about losing job that only paid couple hundred dollars a week anyway',\n",
              " 'russian roulette champion wouldnt let his son play russian roulette',\n",
              " 'boyfriend announces plan to spend infuriating afternoon speaking in australian accent',\n",
              " 'barberi was a barber says man struggling to recall life before pandemic',\n",
              " 'lonely pedophile wistfully surveys deserted schoolyard playground',\n",
              " 'i can still cook this right asks woman holding up writhing screaming potato with 8footlong roots',\n",
              " 'just go home and sleep it off says doctor to coughing feverish black patient',\n",
              " 'exhausting every other way to pass time couple begins ranking their lamps',\n",
              " 'woman working from home not sure shell ever be able to go back to regularly wearing bra dress big white gloves minnie mouse head',\n",
              " 'cousin reluctantly checked in on',\n",
              " 'life risked once again purchasing frozen waffles',\n",
              " 'it instantly clear girlfriend used to fuck guy being mentioned in anecdote',\n",
              " 'horse probably only vegetarian for attention',\n",
              " 'employee proves diligence by arriving to video conference call extra hour early every morning',\n",
              " 'man watching space force rocket launch gazes in awe at the power of human stupidity',\n",
              " 'global pandemic that has killed thousands giving woman just the push she needed to organize tupperware cabinet',\n",
              " 'man reflects on cyclical nature of existence after learning mcdonalds has stopped offering allday breakfast once again',\n",
              " 'unpatriotic whiner demands ventilator',\n",
              " 'british man astounded to hear how much it would cost to get mustard jar removed from rectum under us healthcare system',\n",
              " 'jigsaw puzzle missing like 999 pieces',\n",
              " 'man just buying one of every cleaning product in case trump announces its coronavirus cure',\n",
              " 'woman working from home instinctively tries to steal tampons from own bathroom',\n",
              " 'coronavirus forces landlord to cut back on taking care of building from 1 to 0 hours a week',\n",
              " 'mental health experts advise on best ways to combat intrusive thoughts of your father naked',\n",
              " 'jimmy carter checks into rehab for debilitating housebuilding addiction',\n",
              " 'congress moving toward safer votebypaperairplane option',\n",
              " 'nra receives massive funding increase from donors held at gunpoint',\n",
              " 'online activists raise 5 million to create new martin luther king jr quote',\n",
              " 'giant pandas finally mate after being married in catholic ceremony',\n",
              " 'new guidelines allow gyms to reopen for weak little bitches who just diddle around and dont break a real sweat anyway',\n",
              " 'nasa launches vengeance rover to pay back mars for killing opportunity back in 2018',\n",
              " 'panicked white woman calls police on statue of martin luther king jr',\n",
              " 'new linkedin feature lets jobseekers add most humiliating things they willing to endure',\n",
              " 'health experts warn protests could set off second wave of police brutality',\n",
              " 'mental health experts recommend bed only be used for shooting amateur pornography',\n",
              " 'botanists concerned by what returning to work will do to nations house plants',\n",
              " 'study dolphins not so intelligent on land',\n",
              " 'florida governor deploys national guard to force residents back into malls movie theaters',\n",
              " 'nasa curious how folks would feel if they hypothetically already launched a manned mars mission that didnt go so hot',\n",
              " 'authorities receive list of demands from increasingly hostile coronavirus',\n",
              " 'what are coronavirus parties and why werent we invited',\n",
              " 'heavenly sources confirm jesus christ will transfer to iowa state university after getting grades up',\n",
              " 'military announces 2 million research initiative to find out how mother of 3 kathy summers able to do it all',\n",
              " 'quarantine leading to more people taking in foster gimps',\n",
              " 'benadryl introduces new controlled coma pills to sedate users for entirety of allergy season',\n",
              " 'us to combat growing disillusionment by playing new national pumpup anthem throughout country',\n",
              " 'americans react with indifference after first case of coronavirus spreading to pet ferret',\n",
              " 'investigation reveals coronavirus covering its tracks by making victims deaths look like car accidents',\n",
              " 'democrats praise joe biden for being only candidate able to talk down to americans like the stupid slackjawed dumdums they really are',\n",
              " 'new windex formula promises to kill twice as many birds',\n",
              " 'damning report finds white house ignored skeletal horsemen galloping through sky as early as january',\n",
              " 'health experts say coronavirus originated in promiscuous bat who slept around a lot',\n",
              " 'health officials warn mysterious voice calling for people to come out and play in middle of night could be coronavirus',\n",
              " 'study finds it statistically impossible that your mom the best mom in the world',\n",
              " 'quiet city streets allow neighborhood residents to hear the natural sounds of couples blowout fights',\n",
              " 'boston market ceo forgoes annual 2milliongallon gravy bonus to help pay unemployed workers',\n",
              " 'best athome workouts to do when your head is stuck in the banister',\n",
              " 'the topical wins a pulitzer',\n",
              " 'struggling united states purchased by private equity firm',\n",
              " 'this woman was isolated in her nursing home so her grandchildren stood outside with signs to ask her for money',\n",
              " 'thousands of stockpiled ventilators sent to new york hospitals turn out to be claw machines',\n",
              " 'walgreens introduces new dumbassonly shopping hours for dipshits who dont know how to stay 6 feet away',\n",
              " 'theonioncom has been designated as a pandemic shelter in the event that covid19 could spread through the internet',\n",
              " 'nation ashamed to admit they would probably look up john goodmans nudes if they leaked',\n",
              " 'federal reserve to infuse wall street with 500 billion worth of cocaine',\n",
              " 'psychologists socalled dr fauci just a figment of nations collective imagination',\n",
              " 'nation close to getting video conferencing software to work',\n",
              " 'cdc urges nations hotties and studs not to hide that pretty little face behind a mask',\n",
              " 'ford general motors to begin manufacturing carsized ventilators',\n",
              " 'i congratulate joe biden a very decent man says bernie sanders in unprovoked attack on democratic party unity',\n",
              " 'congress sets aside 1200 in trust for each american until they prove theyre responsible enough to handle it',\n",
              " 'census foot soldiers swarm neighborhoods kick down doors to tally household sizes',\n",
              " 'violently bored americans begin looting puzzle stores',\n",
              " 'european vacation dispatch all good things must come to an end',\n",
              " 'european vacation dispatch ciao from the venetian riviera',\n",
              " 'european vacation dispatch from leslie price',\n",
              " 'coronavirus lockdown day five the last will and testament of topical host leslie price',\n",
              " 'coronavirus lockdown day four host leslie price confronts the cursed scratching within his walls',\n",
              " 'coronavirus lockdown day three scientists no closer to understanding how pressing buzzer unlocks apartment door',\n",
              " 'coronavirus lockdown day two porn industry leaders announce immediate closures of all orifices',\n",
              " 'coronavirus lockdown day one jesus christ cancels return to earth amid pandemic',\n",
              " 'doctors encourage more women to regularly perform breast selfexams to see if they need implants',\n",
              " 'nasa finds life drowned on mars',\n",
              " 'national park service under fire for wasting 40 million to pamper a single charming moose',\n",
              " 'russia pledges to run completely positive disinformation campaign in 2020',\n",
              " 'god possesses pope franciss body spins head around in miraculous sunday mass',\n",
              " 'nasa announces they definitely just destroyed an asteroid',\n",
              " 'dark ominous storm clouds atop mount money indicate recession could be near',\n",
              " 'marina abramovi stolen in daring performance art heist',\n",
              " 'fiat recalls more than 10000 cars for not looking small and weird enough',\n",
              " 'outbreaks in victorian england confirm coronavirus capable of spreading through time',\n",
              " 'an alarming crime scene in new england',\n",
              " 'green giant takes a stand against gun violence',\n",
              " 'sonofabitch mouse solves maze researchers spent months building',\n",
              " 'is bernie sanders too old to be the next james bond',\n",
              " 'dow rallies after it turns out trader who jumped out window was merely having marital problems',\n",
              " 'faa restricts passenger jets to flying no more than 15 feet above ground',\n",
              " 'cdc warns public of mutating coronavirus',\n",
              " 'catholic leaders transfer most alluring children to another church',\n",
              " 'white house condemns 2020 election as partisan witch hunt',\n",
              " 'dnc commits to youngerlooking leadership with new rejuvenating skincare routine',\n",
              " 'pentagon awards oscar mayer 102 million contract for new militarygrade hot dog',\n",
              " 'cbs inks deal for 30episode bloomberg ad',\n",
              " 'cdc warns against potential health risks of flavored gun barrels',\n",
              " 'yosemite on lockdown after bear spotted in park',\n",
              " 'federal government reinstitutes practice of spanking criminals as punishment',\n",
              " 'anticyberbullying campaign encourages kids to get out there and do it in person',\n",
              " 'god in critical condition',\n",
              " 'australian officials touting bushfire as huge success',\n",
              " 'pope francis nobody outmolests the catholic church',\n",
              " 'tyson foods orders trump to cease and desist',\n",
              " 'love sounds with martha saunders how i learned to love valentines day after a nude man in a diaper killed my father with a bow and arrow',\n",
              " 'tinder swipes right on big changes',\n",
              " 'fbi warns against american dream scam',\n",
              " 'department of evil all of you must die',\n",
              " 'oscars ceremony ruined',\n",
              " 'a shocking scene of rebellion',\n",
              " 'who is the mike pence whistleblower',\n",
              " 'tampax ceo refuses to resign amidst allegations that he doesnt know what a period is',\n",
              " 'the epa takes a stand',\n",
              " 'a new democratic frontrunner emerges in iowa',\n",
              " 'walmart prevents gun violence at walmart',\n",
              " 'a standstill in the trial of harvey weinstein',\n",
              " 'a coveted endorsement in iowa',\n",
              " 'kristen stewart to play princess diana in upcoming biopic',\n",
              " 'aunt jemima mrs butterworth uncle bens brands to be overhauled',\n",
              " 'american airlines suspends alcohol service for economy class',\n",
              " '7eleven cancels free slurpee day',\n",
              " '2021 oscars postponed 2 months',\n",
              " 'supreme court rules federal law protects lgbt workers',\n",
              " 'passing lane',\n",
              " 'melania trump renegotiated prenup before moving into white house',\n",
              " 'covid19 cases spike in 21 states',\n",
              " 'former dea officer pleads guilty to posing as cia agent in fraud scheme',\n",
              " 'lady antebellum changes name',\n",
              " 'archaeologists may have discovered oldest theater in london',\n",
              " 'stimulus dreck',\n",
              " 'tv show cops cancelled',\n",
              " 'treasure chest buried in rocky mountains discovered',\n",
              " 'astronaut becomes first woman to reach deepest point in ocean',\n",
              " 'uk demonstrators tear down statue of slave trader',\n",
              " 'us economy officially entered recession in february',\n",
              " 'elmer fudd yosemite sam will not have guns in looney tunes reboot',\n",
              " 'poll finds twothirds of americans think trump has made racial tensions worse',\n",
              " 'youtube star jake paul charged with trespassing',\n",
              " 'general mattis condemns trump as threat to constitution',\n",
              " 'richmond virginia mayor issues ordinance to remove confederate statues',\n",
              " 'snapchat to stop promoting trumps account',\n",
              " 'minnesota launches civil rights probe against minneapolis pd',\n",
              " 'jayz takes out fullpage ad to honor george floyd',\n",
              " 'americans buying more frozen foods during pandemic',\n",
              " 'facebook employees stage virtual walkout',\n",
              " 'an acquired waste',\n",
              " 'minneapolis new york city bus drivers refuse to help police transport protestors',\n",
              " 'trump claims us will designate antifa a terrorist organization',\n",
              " 'archaeologists discover perfectly preserved roman mosaic floor',\n",
              " 'covid19 antibody tests may be wrong 50 of the time',\n",
              " 'historic spacex launch postponed',\n",
              " 'mike tyson offered 20 million to compete in fight',\n",
              " 'twitter refuses to remove trump tweets about scarborough conspiracy theory',\n",
              " 'remote possibilities',\n",
              " 'cdc warns of aggressive rats scavenging for food',\n",
              " 'trump claims to have stopped taking hydroxychloroquine',\n",
              " 'cdc issues safety guidelines for pools water parks hot tubs',\n",
              " 'lori loughlin mossimo giannulli plead guilty in college admissions scandal',\n",
              " 'judge rules salvage company can cut into titanic wreck',\n",
              " 'coronavirus forces ford plants to temporarily close days after reopening',\n",
              " 'justin bieber ariana grande deny claim they bought no 1 billboard spot',\n",
              " 'penneys from heaven',\n",
              " 'all 50 states unveil plans to ease coronavirus restrictions by memorial day',\n",
              " 'notre dame to reopen campus for fall semester',\n",
              " 'trump says he taking hydroxychloroquine',\n",
              " 'obama malala among headliners for virtual commencement',\n",
              " 'stocks rally on hope for coronavirus vaccine',\n",
              " 'new research indicates coronavirus did not spread from pangolins',\n",
              " 'wisconsin bars reopen following state supreme court decision',\n",
              " 'record number of women running for us house in 2020',\n",
              " '113yearold beats coronavirus',\n",
              " 'signs of sickness',\n",
              " 'health officials close restaurant that opened for mothers day',\n",
              " 'pennsylvania becomes 3rd state to fully outlaw child marriage',\n",
              " 'white house will require everyone except trump to wear mask in west wing',\n",
              " 'fda approved first birth control pill 60 years ago this week',\n",
              " '3 coronavirus task force members to selfquarantine',\n",
              " 'tinder to introduce inapp video chat feature',\n",
              " '77 of laidoff workers expect to be rehired by employer in future',\n",
              " 'trump names donor as new postmaster general',\n",
              " 'scientists study llamas in quest for coronavirus treatment',\n",
              " '1 in 5 wendys restaurants currently out of beef',\n",
              " 'major airlines will require passengers wear masks during flights',\n",
              " 'oscar meyer whiner',\n",
              " 'carnival cruise line to resume service in august',\n",
              " 'poll finds majority of americans would prefer working remotely after pandemic',\n",
              " 'invasive murder hornets confirmed in us',\n",
              " 'youtube shuts down account of man who pushed 5g coronavirus conspiracy',\n",
              " 'doctors report covid toes as possible new coronavirus symptom',\n",
              " 'justin amash announces 3rd party run for president',\n",
              " 'new fossil evidence suggests dinosaur could swim',\n",
              " 'mike pence tours mayo clinic without mask',\n",
              " 'reports of kim jong uns health creates confusion over possible successors',\n",
              " 'america surpasses 1 million confirmed coronavirus cases',\n",
              " 'vaccine rates plummet during pandemic',\n",
              " 'one flu over the cuckoos nest',\n",
              " 'airbnb introduces new 24hour vacancy policy between guests',\n",
              " 'saudi arabia bans public floggings',\n",
              " 'chris matthews admits to inappropriate behavior during msnbc career',\n",
              " 'las vegas mayor suggests using city as coronavirus control group',\n",
              " 'hubble space telescope celebrates 30 years in space',\n",
              " 'missouri sues china over coronavirus pandemic',\n",
              " 'sales of video game consoles up during pandemic',\n",
              " 'ramadan begins',\n",
              " 'germany cancels oktoberfest due to coronavirus fears',\n",
              " '2020 lyrid meteor shower peaks this week',\n",
              " 'shake shack returns 10 million loan meant for small businesses',\n",
              " 'stop the pandemic i want to get off',\n",
              " 'russians withdrew 136 billion from atms amidst coronavirus fears',\n",
              " 'more americans report vivid violent dreams during pandemic',\n",
              " 'tour de france postponed until august',\n",
              " 'netflix now worth more than disney',\n",
              " 'british wwii vet raises millions for nhs by walking laps around yard',\n",
              " 'spring sat tests cancelled due to pandemic',\n",
              " 'global economy expected to shrink 3 due to pandemic',\n",
              " 'supreme court will hear arguments via teleconference for first time',\n",
              " 'americans begin receiving stimulus checks',\n",
              " 'nascar driver suspended indefinitely for racial slur during livestream',\n",
              " 'nerd immunity',\n",
              " 'julian assange secretly fathered 2 kids in ecuadorian embassy',\n",
              " 'boris johnson released from hospital after stay in icu',\n",
              " 'pandas in lockeddown zoo mate after 10 years of trying',\n",
              " 'dr fauci calls for end to handshakes',\n",
              " 'onethird of american renters didnt pay on time in april',\n",
              " 'bernie sanders drops out of presidential race',\n",
              " 'astronauts estranged wife accused of lying about space crime',\n",
              " 'seaworld ceo resigns after furloughing 90 of workers',\n",
              " 'lady gaga announces multinetwork covid19 benefit concert telecast',\n",
              " 'grubby hub',\n",
              " 'wisconsin holds democratic primary despite coronavirus concerns',\n",
              " 'americans urged to make their own face masks',\n",
              " 'fda eases restrictions on blood donations from gay bisexual men',\n",
              " 'coronavirus task force member receives security detail following threats',\n",
              " 'spotify launches app for children',\n",
              " 'bidet sales skyrocket during coronavirus pandemic',\n",
              " 'zoom app sued for sharing user data',\n",
              " 'pandemic lockdowns improve air quality worldwide',\n",
              " 'van gogh painting stolen on painters 167th birthday',\n",
              " 'perseverance rover will carry essays list of names to mars',\n",
              " 'parton parcel',\n",
              " 'neanderthals ate seafood including sharks and dolphins',\n",
              " 'instacart employees plan nationwide strike monday',\n",
              " 'scientists discover earliest common ancestor to all animal life',\n",
              " 'americans look for ways to help during coronavirus pandemic',\n",
              " 'study finds female mammals live longer than males',\n",
              " '1000bed hospital ships deployed to new york la',\n",
              " 'un names finland happiest country for third year in a row',\n",
              " 'china will lift lockdown on wuhan april 8th',\n",
              " 'woody allens memoir released after being dropped by original publisher',\n",
              " 'cdc launches coronavirus bot for americans to check symptoms',\n",
              " 'ohio orders halt to most abortions during coronavirus pandemic',\n",
              " 'americans seek to stay social while selfisolating',\n",
              " 'an abundance of cushion',\n",
              " 'aquarium lets penguins take tour of premises during coronavirus shutdown',\n",
              " 'tv shows donate medical supplies to hospitals amid pandemic',\n",
              " 'google offers virtual tours of worlds museums and cultural sites',\n",
              " 'tiktok may have buried posts from ugly users',\n",
              " 'amazon hires 100000 workers in wake of coronavirus surge',\n",
              " 'tom brady leaves new england patriots',\n",
              " 'universal pictures makes movies currently in theaters available for home viewing following coronavirus concerns',\n",
              " 'americans mark st patricks day',\n",
              " '2 live cruise',\n",
              " 'college professional sports seasons postponed and suspended following coronavirus fears',\n",
              " 'racist song of the south will not be added to disney',\n",
              " 'dow jones drops 20 as pandemic fears grow',\n",
              " 'judge rules led zeppelin did not steal stairway to heaven riff',\n",
              " 'putin backs constitutional amendment that could keep him in office through 2036',\n",
              " 'wells fargo board members resign following congressional report',\n",
              " 'twitter adds manipulated media label to video retweeted by trump',\n",
              " 'redeeming qualities',\n",
              " 'nasa says lettuce grown in space is safe to eat',\n",
              " 'pope francis gives blessings via video in effort to reduce spread of coronavirus',\n",
              " 'steph curry returns to nba following injury',\n",
              " 'elizabeth warren suspends presidential campaign',\n",
              " 'former tv host must pay pbs 15 million for violating morality clause',\n",
              " 'dixie chicks release first new single in 14 years',\n",
              " 'apple ordered to pay up to 500 million over slow iphones',\n",
              " 'health officials ask americans to stop buying face masks',\n",
              " 'mask hysteria',\n",
              " 'judge judy ending after 25 seasons',\n",
              " 'buttigieg klobuchar endorse biden after suspending campaigns',\n",
              " 'astronomers discover minimoon orbiting earth',\n",
              " 'tom steyer drops out of democratic presidential race',\n",
              " 'americans conned out of 201 million in online romance scams in 2019',\n",
              " 'marine corps orders removal of confederate symbols from all bases',\n",
              " 'scotland set to become first country to provide free menstrual products to all women',\n",
              " 'maria sharapova retires from tennis',\n",
              " 'cdc warns of us coronavirus outbreak',\n",
              " 'actor hank azaria to stop voicing apu on the simpsons',\n",
              " 'between a rock and a harve place',\n",
              " 'netflix adds top 10 list featuring most popular shows',\n",
              " 'harvey weinstein found guilty',\n",
              " 'magical mystery detour',\n",
              " 'scientists use artificial intelligence to discover new antibiotics',\n",
              " 'trump visits india',\n",
              " 'forever 21 bought following bankruptcy',\n",
              " 'roger stone sentenced to over 3 years in prison',\n",
              " 'coral reefs could disappear within next 80 years',\n",
              " 'george zimmerman sues buttigieg warren',\n",
              " 'trump pardons rod blagojevich',\n",
              " 'boy scouts file for bankruptcy',\n",
              " 'number of homeless students on the rise',\n",
              " '1100 former doj officials urge barr to resign',\n",
              " 'cod ones out',\n",
              " 'hope hicks returns to white house',\n",
              " 'americans celebrate valentines day',\n",
              " 'bp plans to be carbonneutral by 2050',\n",
              " 'yang bennet patrick drop out of presidential race',\n",
              " 'birds of prey renamed following poor box office results',\n",
              " 'sanders wins new hampshire primary',\n",
              " 'university of colorado to offer degree in marijuana',\n",
              " 'website offers porn to passengers trapped on quarantined cruise ship',\n",
              " 'gone south',\n",
              " 'trump fires officials who testified in impeachment inquiry',\n",
              " 'parasite wins best picture at 92nd oscars',\n",
              " 'bumblebee disappearance linked to extreme heat',\n",
              " 'bernie madoff asks for prison release',\n",
              " 'trump acquitted',\n",
              " 'buttigieg sanders in dead heat in iowa caucus',\n",
              " 'trump delivers third state of the union',\n",
              " 'buttigieg sanders locked in battle for iowa',\n",
              " 'disney buys hamilton film rights for 75 million',\n",
              " 'punxsutawney phil fails to see shadow symbolizing early spring',\n",
              " 'chiefs win super bowl',\n",
              " 'house votes to repeal 2002 military authorization',\n",
              " 'who declares coronavirus a global health emergency',\n",
              " 'poll finds 75 of voters want impeachment witnesses',\n",
              " 'coronavirus reaches 6000 cases',\n",
              " 'us deficit projected to hit 1 trillion in 2020',\n",
              " '77 magnitude earthquake strikes jamaica cuba',\n",
              " 'white house rolls out middle east peace plan',\n",
              " 'bolton book confirms trump tied aid to biden investigation',\n",
              " 'pbs snooze hour',\n",
              " 'polling shows sanders surpassing biden in iowa new hampshire',\n",
              " 'billie eilish lizzo win big at 62nd annual grammys',\n",
              " 'china locks down 6 cities to combat coronavirus',\n",
              " 'doomsday clock set to 100 seconds to midnight',\n",
              " 'judge denies dismissal of lewdness charges for woman found topless in own home',\n",
              " 'us joins one trillion tree pledge',\n",
              " 'kellyanne conway suggests mlk would have opposed trump impeachment',\n",
              " 'hillary clinton attacks bernie sanders in new interview',\n",
              " 'greta thunberg speaks on climate at davos 2020',\n",
              " 'times gives klobuchar warren 2020 endorsement',\n",
              " 'civil whites movement',\n",
              " 'female james bond ruled out by series producer',\n",
              " 'grindr tinder sharing user data with third party',\n",
              " 'senators sworn in as impeachment trial begins',\n",
              " '2019 secondhottest year on record',\n",
              " 'study estimates half of us adults will be obese by 2030',\n",
              " 'house to send impeachment articles to senate',\n",
              " 'democrats attend last debate before start of voting',\n",
              " 'queen elizabeth ii allows prince harry meghan markle to split time between uk canada',\n",
              " 'booker drops out of 2020 race',\n",
              " 'degeneration gap',\n",
              " 'american cancer society reports largestever drop in cancer rates',\n",
              " 'report under onethird of iowa new hampshire voters settled on candidate',\n",
              " 'americans tune in reducedfield democratic debate',\n",
              " 'saint nicked',\n",
              " 'fans line up for rise of the skywalker',\n",
              " 'president impeached',\n",
              " 'barack obama women are better leaders than men',\n",
              " 'trump calls democrats deranged in 6page letter to pelosi',\n",
              " 'chance the rapper cancels 2020 tour',\n",
              " 'congress to ban sales of tobacco to anyone under age of 21',\n",
              " '2020 frontrunners back call to ease debate rules',\n",
              " 'un climate talks end in whimper',\n",
              " 'senate recognizes armenian genocide',\n",
              " 'boris johnson prevails in landslide uk victory',\n",
              " 'israel heads to third election',\n",
              " 'poll trump leads top 2020 democrats in iowa',\n",
              " 'nyc buildings to require birdfriendly glass',\n",
              " 'merriamwebster names they word of the year',\n",
              " 'democrats unveil articles of impeachment',\n",
              " 'american public misled for years about war in afghanistan',\n",
              " 'ig report finds errors but no antitrump plot in russia investigation',\n",
              " 'stocking up',\n",
              " 'massive prodemocracy protest rocks hong kong',\n",
              " 'house passes bill to limit robocalls',\n",
              " 'nearly 700000 to lose food stamps with usda work requirement',\n",
              " 'pelosi says house will proceed with articles of impeachment',\n",
              " 'jimmy carter released from hospital',\n",
              " 'kamala harris leaves 2020 race',\n",
              " 'hopes rise for hiv vaccine by 2021',\n",
              " 'impeachment report trump solicited foreign interference',\n",
              " 'un chief says planet faces point of no return as climate summit begins',\n",
              " 'leonardo dicaprio refutes false claim he funded amazon wildfires',\n",
              " 'winter storms threaten americans traveling back from thanksgiving',\n",
              " 'coal production shows record declines in 2019',\n",
              " 'supreme court denies serial subject hearing',\n",
              " 'pope condemns nuclear weapons in hiroshima',\n",
              " 'truth or derelict',\n",
              " 'devin nunes involved in push for ukraine biden investigation',\n",
              " 'coldplay to skip tour due to environmental concerns',\n",
              " 'israeli prime minister indicted',\n",
              " 'yes gandhis civilization vi outfit is sexy but it would be seriously impractical on a real battlefield',\n",
              " 'lawsuit claims burger king impossible burgers contaminated with meat',\n",
              " 'sondland testifies he pressured ukraine into biden investigation',\n",
              " 'democrats hold fifth presidential debate',\n",
              " 'two charged in epstein death',\n",
              " 'chickfila ending donations to antilgbtq organizations',\n",
              " 'kanye west debuting opera',\n",
              " 'bloomberg apologizes for stop and frisk',\n",
              " 'bin there done that',\n",
              " 'your horoscopes  week of november 19 2019',\n",
              " 'pete buttigieg jumps to first place in iowa',\n",
              " 'chinese users employing pornhub to criticize hong kong protesters',\n",
              " 'pelosi suggests trump committed bribery',\n",
              " 'more americans now surviving lung cancer',\n",
              " 'venice facing worst flood tide in years',\n",
              " 'amazon launching own grocery store',\n",
              " 'brutal arctic blast sweeping across country',\n",
              " 'mean tweets',\n",
              " 'public phase of impeachment hearings begin',\n",
              " 'hong kong police shoot and injure protester',\n",
              " 'young blood transfusion startup reopens',\n",
              " 'michael bloomberg set for 2020 run',\n",
              " 'congo warlord sentenced to 30 years for war crimes',\n",
              " 'judge orders trump to pay 2 million for charity misuse',\n",
              " 'the onion launches new coverup desk to suppress todays most damning stories',\n",
              " 'big tech donates billions to help with california housing',\n",
              " 'democrats make major gains in virginia kentucky elections',\n",
              " 'nasa sends oven for cookies to space',\n",
              " 'i have to admit i spoil dax shepard',\n",
              " 'sondland changes testimony to confirm quid pro quo claims',\n",
              " 'us gives formal notice of exit from paris accords',\n",
              " '5 states hold major elections',\n",
              " 'sperms and conditions',\n",
              " 'sanders calls his medicareforall plan much more progressive than warrens',\n",
              " 'popeyes fried chicken sandwich returns',\n",
              " 'nation celebrates halloween',\n",
              " 'house formalizes impeachment proceedings',\n",
              " 'ncaa to allow compensation for college athletes',\n",
              " 'twitter drops all political ads',\n",
              " 'federal judge blocks alabama abortion ban',\n",
              " 'its long past time for jackolanterns to decide once and for all if they are on the side of humans or the side of demons',\n",
              " 'largest us coal mining company files for bankruptcy',\n",
              " 'house to vote on impeachment inquiry',\n",
              " 'isis leader killed in us raid',\n",
              " 'the situation is getting syriaous',\n",
              " 'us deficit hits 984 billion',\n",
              " 'trump organization considering selling dc hotel',\n",
              " 'milestone in polio elimination reached',\n",
              " 'white house urges federal agencies to cancel new york times washington post subscriptions',\n",
              " 'scientists train rats to drive tiny cars to collect food',\n",
              " 'anonymous new york times oped writer to publish trump book',\n",
              " 'premiums drop sharply for popular obamacare plans',\n",
              " 'trudeau wins second term',\n",
              " 'poll finds buttigieg rises to third place in iowa',\n",
              " 'netanyahu fails to form new israeli government',\n",
              " 'leaftime achievement adored',\n",
              " 'poll fewer americans identifying as religious',\n",
              " 'energy secretary rick perry resigns',\n",
              " 'juul halts sale of fruitflavored ecigarettes',\n",
              " 'trump miami resort to host next years g7',\n",
              " 'trump says syria situation not our problem',\n",
              " 'mark zuckerberg delivers free speech manifesto',\n",
              " 'john bolton called trump ukraine deal a drug deal',\n",
              " 'playstation 5 confirmed for holiday 2020',\n",
              " 'americans tune into fourth democratic debate',\n",
              " 'blizzard entertainment faces public backlash for banning esports champion',\n",
              " 'dog ownership linked to longer life',\n",
              " 'wings and a pair',\n",
              " 'your horoscopes  week of october 15 2019',\n",
              " 'shepard smith abruptly departs fox news',\n",
              " 'for its 33rd year ogn adamantly refuses to report on the pinball expo flip out tournament or any pinballrelated news',\n",
              " 'cdc finds stds at alltime high',\n",
              " '2 associates of giuliani indicted on campaign finance charges',\n",
              " 'montgomery alabama elects first black mayor',\n",
              " 'biden calls for trumps impeachment',\n",
              " '3 scientists win nobel prize for work on nature of universe',\n",
              " 'trump blocks us ambassador from testifying to congress',\n",
              " 'trump pulling us troops from northern syria',\n",
              " 'new supreme court term to take on issues including gay rights abortion',\n",
              " 'nasas first allfemale spacewalk to happen this month',\n",
              " 'vicar treat',\n",
              " 'banksy painting sells for record 122 million',\n",
              " 'forever 21 declares bankruptcy',\n",
              " 'trump publicly calls for china ukraine to investigate bidens',\n",
              " 'investors return to saudi arabia year after khashoggi killing',\n",
              " 'sanders cancels campaign events to receive heart stents',\n",
              " 'controversial new guidelines says no need to cut back on red meat',\n",
              " 'mark zuckerberg says he will sue if elizabeth warren became president',\n",
              " 'j lo shakira to perform super bowl halftime show',\n",
              " 'trump suggests arresting adam schiff for treason',\n",
              " 'rudy giuliani subpoenaed amidst trump impeachment inquiry',\n",
              " 'bizaria',\n",
              " 'poll finds support for impeachment growing',\n",
              " 'mcdonalds testing new beyond burgerbased plt sandwich',\n",
              " 'creator of labradoodle says making breed his lifes greatest regret',\n",
              " 'jeff goldblum laura dern to return for next jurassic world',\n",
              " 'al franken launching siriusxm talk show',\n",
              " 'amazon signs pledge to advance paris climate goals',\n",
              " 'trump authorizes release of ukraine call memo',\n",
              " 'pelosi announces formal impeachment inquiry of trump',\n",
              " 'trump admits to talking to ukraine about biden',\n",
              " 'greta thunberg delivers fiery speech at uns climate action summit',\n",
              " 'fine feathered fiends',\n",
              " 'sony reveals ps5 fully customizable with different little hats',\n",
              " 'report there already 5 million players who are better than youll ever be at valorant',\n",
              " 'the biggest titles announced at the ps5 game lineup event',\n",
              " 'brutal playstation has cancelled the entire ps5 game lineup after nicoboy95 commented no one cares on their livestream',\n",
              " 'sorry gamers the last of us part ii has been delayed again because naughty dogs headquarters fell into the ocean',\n",
              " 'banjokazooie fans will love this this man threw his bird on the ground',\n",
              " 'major hype gamers have been divorcing their spouses because they arent as beautiful as the graphics on unreal engine 5',\n",
              " 'letdown naughty dog says they worked so hard on the last of us iis amazing cutscenes they only had time to create a basic word puzzler for gameplay',\n",
              " 'major relief blizzard has announced that overwatch players will be able to carry over their unlocked skins and emotes into the afterlife',\n",
              " 'inspiring cd projekt red to immortalize programmers who died making cyberpunk 2077 as npcs so they can serve cd projekt forever',\n",
              " 'complete bullshit designers of this online shooter made it so this guy died even though he totally ducked',\n",
              " 'a true miracle this woman just gave birth to a nintendo switch',\n",
              " 'good news final fantasy fans looks like they made a bunch of those things',\n",
              " 'terrifying implications leaked nintendo source code could give terrorists the ability to weaponize kirby',\n",
              " 'the 11 best games to play for the nintendo switch',\n",
              " 'heartbreaking photos of polar bears who will die before the next metroid prime if nintendo doesnt get their shit together',\n",
              " 'disgusting bigotry the media is only blaming this bat for coronavirus because hes a gamer',\n",
              " 'speedrunner accidentally enjoys game for a moment',\n",
              " 'incredible security the xbox series x will deter wouldbe burglars by emitting a rotting crab smell at all times',\n",
              " 'nobody panic bulbasaur found a gun',\n",
              " 'major relief microsoft has confirmed that the xbox series x will play video games',\n",
              " 'even better than travis scott the nephew of an epic games executive will be playing some songs on the oboe for everyone in fortnite',\n",
              " 'disappointing experts are now telling us that all the big kisses we did to the tv screen while princess zelda was on never got through to her',\n",
              " '10 clumps of grass in video games',\n",
              " 'a welldeserved break this er nurse just finished a 15hour shift and is about to get destroyed in call of duty warzone',\n",
              " 'everything you need to know about valorant',\n",
              " 'silver lining the last of us 2 has been delayed indefinitely but the qbert 50th anniversary collection just released 12 years early',\n",
              " 'having trouble finding the coelacanth in animal crossing and you expect us to help you after all youve done it would be beneath us to even grant you death you dog',\n",
              " 'innovation ftw new ps5 controller features third joystick you operate with your tongue',\n",
              " 'answering the call bungie announced that master chief is available to fight coronavirus but isnt sure how to make that happen',\n",
              " 'bad news naughty dog fans the last of us part ii has been delayed again after joel was arrested for taking pictures of kids at local playgrounds',\n",
              " 'must see the final fantasy vii remake features the gorgeous new opening film taxi driver',\n",
              " 'uh thanks sony has announced that playstation plus subscribers can download the movie spanglish for free during the month of april',\n",
              " 'review resident evil 3 remaster makes game even scarier by replacing the nemesis with romanian dictator nicolae ceauescu',\n",
              " 'video games are officially art andres serrano just submerged a copy of super mario odyssey in a jar of piss',\n",
              " 'tips for getting started on persona 5 royal',\n",
              " 'miss e3 check out our recreation with a bunch of sweating overheated gamers we locked in our janitorial closet',\n",
              " 'deal alert the federal government is cutting you a 1200 stimulus check that you can and should spend exclusively on 75 copies of stardew valley',\n",
              " 'ogn investigates we exposed an orphan to nothing but violent games for the first 12 years of his life and while it didnt make him violent he sure came out weird',\n",
              " 'everything you need to know about halflife alyx',\n",
              " 'ogns best games to play during the coronavirus quarantine',\n",
              " 'amazing lore doom eternal creators confirm every demon you fight in the game went to hell for masturbating as teenagers',\n",
              " 'animal crossing new horizons developers confirm no one can hurt you here no one can make you scared',\n",
              " 'huge announcement sony just revealed the ps5 can function as a makeshift gravestone to mark the site of your shallow burial',\n",
              " 'microsoft confirms xbox series x nextgen graphics will finally allow games that are all realistic hair and water',\n",
              " 'amazing detail every game in mlb the show will feature a frustrated father sitting in the stands next to his husky son playing a nintendo ds',\n",
              " 'everything you need to know about nioh 2',\n",
              " 'amazing collaboration nasa is working with nintendo to learn how they got the  blocks in mario games to float in the air',\n",
              " 'amazing news gamers everyone is having a great time playing video games',\n",
              " 'greatest video game weapons of all time',\n",
              " ...]"
            ]
          },
          "metadata": {
            "tags": []
          },
          "execution_count": 23
        }
      ]
    },
    {
      "cell_type": "markdown",
      "metadata": {
        "id": "EbJJCsLSrKny",
        "colab_type": "text"
      },
      "source": [
        "Loại bỏ stop words"
      ]
    },
    {
      "cell_type": "code",
      "metadata": {
        "id": "HMJGSoWnrPxF",
        "colab_type": "code",
        "colab": {}
      },
      "source": [
        "data_final=tf.transform(data_final)"
      ],
      "execution_count": 24,
      "outputs": []
    },
    {
      "cell_type": "code",
      "metadata": {
        "id": "kM_AOhBDsiJz",
        "colab_type": "code",
        "colab": {
          "base_uri": "https://localhost:8080/",
          "height": 51
        },
        "outputId": "85d0c5ae-8103-47b1-b67d-578cbef88544"
      },
      "source": [
        "data_final"
      ],
      "execution_count": 25,
      "outputs": [
        {
          "output_type": "execute_result",
          "data": {
            "text/plain": [
              "<2000x25608 sparse matrix of type '<class 'numpy.float64'>'\n",
              "\twith 13757 stored elements in Compressed Sparse Row format>"
            ]
          },
          "metadata": {
            "tags": []
          },
          "execution_count": 25
        }
      ]
    },
    {
      "cell_type": "markdown",
      "metadata": {
        "id": "g-83H8e6yfEq",
        "colab_type": "text"
      },
      "source": [
        "# **Phân chia tập dữ liệu cho train-test-validation set**"
      ]
    },
    {
      "cell_type": "markdown",
      "metadata": {
        "id": "q7AyAFo8s1s3",
        "colab_type": "text"
      },
      "source": [
        "* Train-Validation dataset: dataset trên Kaggle với tỉ lệ 8:2\n",
        "* Test dataset: dataset tự thu thập"
      ]
    },
    {
      "cell_type": "code",
      "metadata": {
        "id": "QAu7Z64zyX3L",
        "colab_type": "code",
        "colab": {}
      },
      "source": [
        "x_train, x_valid, y_train, y_valid = train_test_split(feature,label,test_size=0.2,random_state=42)"
      ],
      "execution_count": 26,
      "outputs": []
    },
    {
      "cell_type": "markdown",
      "metadata": {
        "id": "hpwg3DJzyqpQ",
        "colab_type": "text"
      },
      "source": [
        "# **Traning model**"
      ]
    },
    {
      "cell_type": "markdown",
      "metadata": {
        "id": "4mFK5ml2tlfi",
        "colab_type": "text"
      },
      "source": [
        "\n",
        "Sử dụng accuracy_score để đánh giá model. \n",
        "\n",
        "accuracy_score là tỷ lệ những headline được dự đoán đúng. "
      ]
    },
    {
      "cell_type": "code",
      "metadata": {
        "id": "k241z_sfvKF4",
        "colab_type": "code",
        "colab": {}
      },
      "source": [
        "score= {}"
      ],
      "execution_count": 41,
      "outputs": []
    },
    {
      "cell_type": "markdown",
      "metadata": {
        "id": "f2Xil2X2ytAO",
        "colab_type": "text"
      },
      "source": [
        "**Model 1:  Logistic Regression**"
      ]
    },
    {
      "cell_type": "code",
      "metadata": {
        "id": "-phsZuhlyqLw",
        "colab_type": "code",
        "colab": {
          "base_uri": "https://localhost:8080/",
          "height": 102
        },
        "outputId": "dbdd5387-a1a1-465f-8824-a0bc8d06030c"
      },
      "source": [
        "model1 = LogisticRegression()\n",
        "model1.fit(x_train, y_train)"
      ],
      "execution_count": null,
      "outputs": [
        {
          "output_type": "execute_result",
          "data": {
            "text/plain": [
              "LogisticRegression(C=1.0, class_weight=None, dual=False, fit_intercept=True,\n",
              "                   intercept_scaling=1, l1_ratio=None, max_iter=100,\n",
              "                   multi_class='auto', n_jobs=None, penalty='l2',\n",
              "                   random_state=None, solver='lbfgs', tol=0.0001, verbose=0,\n",
              "                   warm_start=False)"
            ]
          },
          "metadata": {
            "tags": []
          },
          "execution_count": 221
        }
      ]
    },
    {
      "cell_type": "code",
      "metadata": {
        "id": "5gTwZnbfy7Hn",
        "colab_type": "code",
        "colab": {}
      },
      "source": [
        "predict1= model1.predict(x_valid)"
      ],
      "execution_count": null,
      "outputs": []
    },
    {
      "cell_type": "code",
      "metadata": {
        "id": "Ky1S2lCSvRie",
        "colab_type": "code",
        "colab": {}
      },
      "source": [
        "score['LR']=accuracy_score(y_valid,predict1)"
      ],
      "execution_count": null,
      "outputs": []
    },
    {
      "cell_type": "code",
      "metadata": {
        "id": "oOzW-QR9zCpY",
        "colab_type": "code",
        "colab": {
          "base_uri": "https://localhost:8080/",
          "height": 34
        },
        "outputId": "93b1f535-4628-40e7-f46e-62002d33c88b"
      },
      "source": [
        "print(accuracy_score(y_valid,predict1))"
      ],
      "execution_count": null,
      "outputs": [
        {
          "output_type": "stream",
          "text": [
            "0.795474478161726\n"
          ],
          "name": "stdout"
        }
      ]
    },
    {
      "cell_type": "markdown",
      "metadata": {
        "id": "S6m9Dc_fzEab",
        "colab_type": "text"
      },
      "source": [
        "**Model 2: LinearSVC**"
      ]
    },
    {
      "cell_type": "code",
      "metadata": {
        "id": "jke6KS--zKJo",
        "colab_type": "code",
        "colab": {
          "base_uri": "https://localhost:8080/",
          "height": 85
        },
        "outputId": "1fccd215-57d8-44b7-deee-dc7f19e72827"
      },
      "source": [
        "model2 = LinearSVC()\n",
        "model2.fit(x_train, y_train)"
      ],
      "execution_count": null,
      "outputs": [
        {
          "output_type": "execute_result",
          "data": {
            "text/plain": [
              "LinearSVC(C=1.0, class_weight=None, dual=True, fit_intercept=True,\n",
              "          intercept_scaling=1, loss='squared_hinge', max_iter=1000,\n",
              "          multi_class='ovr', penalty='l2', random_state=None, tol=0.0001,\n",
              "          verbose=0)"
            ]
          },
          "metadata": {
            "tags": []
          },
          "execution_count": 225
        }
      ]
    },
    {
      "cell_type": "code",
      "metadata": {
        "id": "co0FS393zRVs",
        "colab_type": "code",
        "colab": {}
      },
      "source": [
        "predict2 = model2.predict(x_valid)"
      ],
      "execution_count": null,
      "outputs": []
    },
    {
      "cell_type": "code",
      "metadata": {
        "id": "c0Yjy1swvWk5",
        "colab_type": "code",
        "colab": {}
      },
      "source": [
        "score['LSVC']=accuracy_score(y_valid,predict2)"
      ],
      "execution_count": null,
      "outputs": []
    },
    {
      "cell_type": "code",
      "metadata": {
        "id": "YoHfNC6QzYbC",
        "colab_type": "code",
        "colab": {
          "base_uri": "https://localhost:8080/",
          "height": 34
        },
        "outputId": "a46ce6a2-4465-41af-d3bd-df3fe7b3c1eb"
      },
      "source": [
        "print(accuracy_score(y_valid,predict2))"
      ],
      "execution_count": null,
      "outputs": [
        {
          "output_type": "stream",
          "text": [
            "0.7926679529907034\n"
          ],
          "name": "stdout"
        }
      ]
    },
    {
      "cell_type": "markdown",
      "metadata": {
        "id": "hlZp7EFOzgAX",
        "colab_type": "text"
      },
      "source": [
        "**Model 3: RandomForestClassifier**"
      ]
    },
    {
      "cell_type": "code",
      "metadata": {
        "id": "y_kxN3NtzmFm",
        "colab_type": "code",
        "colab": {
          "base_uri": "https://localhost:8080/",
          "height": 153
        },
        "outputId": "aa68ccc1-df70-4675-d9de-405e36016ea9"
      },
      "source": [
        "model3 = RandomForestClassifier()\n",
        "model3.fit(x_train, y_train)"
      ],
      "execution_count": null,
      "outputs": [
        {
          "output_type": "execute_result",
          "data": {
            "text/plain": [
              "RandomForestClassifier(bootstrap=True, ccp_alpha=0.0, class_weight=None,\n",
              "                       criterion='gini', max_depth=None, max_features='auto',\n",
              "                       max_leaf_nodes=None, max_samples=None,\n",
              "                       min_impurity_decrease=0.0, min_impurity_split=None,\n",
              "                       min_samples_leaf=1, min_samples_split=2,\n",
              "                       min_weight_fraction_leaf=0.0, n_estimators=100,\n",
              "                       n_jobs=None, oob_score=False, random_state=None,\n",
              "                       verbose=0, warm_start=False)"
            ]
          },
          "metadata": {
            "tags": []
          },
          "execution_count": 229
        }
      ]
    },
    {
      "cell_type": "code",
      "metadata": {
        "id": "M6GgwJi60vx6",
        "colab_type": "code",
        "colab": {}
      },
      "source": [
        "predict3 = model3.predict(x_valid)"
      ],
      "execution_count": null,
      "outputs": []
    },
    {
      "cell_type": "code",
      "metadata": {
        "id": "hxB_YCeJveQj",
        "colab_type": "code",
        "colab": {}
      },
      "source": [
        "score['RFC']=accuracy_score(y_valid,predict3)"
      ],
      "execution_count": null,
      "outputs": []
    },
    {
      "cell_type": "code",
      "metadata": {
        "id": "-FaJ-MVLcyTc",
        "colab_type": "code",
        "colab": {
          "base_uri": "https://localhost:8080/",
          "height": 34
        },
        "outputId": "f80ad207-87f6-4ae7-e1f3-e1b3fc296de0"
      },
      "source": [
        "print(accuracy_score(y_valid,predict3))"
      ],
      "execution_count": null,
      "outputs": [
        {
          "output_type": "stream",
          "text": [
            "0.7619715839326434\n"
          ],
          "name": "stdout"
        }
      ]
    },
    {
      "cell_type": "markdown",
      "metadata": {
        "id": "RPmABdlyc2Zo",
        "colab_type": "text"
      },
      "source": [
        "**Model 4: Naive Bayes**"
      ]
    },
    {
      "cell_type": "code",
      "metadata": {
        "id": "66uV1rSZdKZ9",
        "colab_type": "code",
        "colab": {
          "base_uri": "https://localhost:8080/",
          "height": 34
        },
        "outputId": "8f0c83e3-f731-4628-e706-1a3527fa37ee"
      },
      "source": [
        "model4 = BernoulliNB()\n",
        "model4.fit(x_train, y_train)"
      ],
      "execution_count": 27,
      "outputs": [
        {
          "output_type": "execute_result",
          "data": {
            "text/plain": [
              "BernoulliNB(alpha=1.0, binarize=0.0, class_prior=None, fit_prior=True)"
            ]
          },
          "metadata": {
            "tags": []
          },
          "execution_count": 27
        }
      ]
    },
    {
      "cell_type": "code",
      "metadata": {
        "id": "Ju23qa8IdQvw",
        "colab_type": "code",
        "colab": {}
      },
      "source": [
        "predict4 = model4.predict(x_valid)"
      ],
      "execution_count": 28,
      "outputs": []
    },
    {
      "cell_type": "code",
      "metadata": {
        "id": "xomVROZNvjff",
        "colab_type": "code",
        "colab": {}
      },
      "source": [
        "score['BNB']=accuracy_score(y_valid,predict4)"
      ],
      "execution_count": 42,
      "outputs": []
    },
    {
      "cell_type": "code",
      "metadata": {
        "id": "vHN2dBjBdTlc",
        "colab_type": "code",
        "colab": {
          "base_uri": "https://localhost:8080/",
          "height": 34
        },
        "outputId": "53a2837d-8b98-4f40-a081-e0cbabd24967"
      },
      "source": [
        "print(accuracy_score(y_valid,predict4))"
      ],
      "execution_count": 30,
      "outputs": [
        {
          "output_type": "stream",
          "text": [
            "0.8109103666023505\n"
          ],
          "name": "stdout"
        }
      ]
    },
    {
      "cell_type": "markdown",
      "metadata": {
        "id": "U_pItdVKdiac",
        "colab_type": "text"
      },
      "source": [
        "**Model 5: Support Vector Machine**"
      ]
    },
    {
      "cell_type": "code",
      "metadata": {
        "id": "irSOUIBxdfyL",
        "colab_type": "code",
        "colab": {
          "base_uri": "https://localhost:8080/",
          "height": 85
        },
        "outputId": "b466d675-e380-4f8a-ac5c-50f18bef169c"
      },
      "source": [
        "model5=SVC()\n",
        "model5.fit(x_train, y_train)"
      ],
      "execution_count": null,
      "outputs": [
        {
          "output_type": "execute_result",
          "data": {
            "text/plain": [
              "SVC(C=1.0, break_ties=False, cache_size=200, class_weight=None, coef0=0.0,\n",
              "    decision_function_shape='ovr', degree=3, gamma='scale', kernel='rbf',\n",
              "    max_iter=-1, probability=False, random_state=None, shrinking=True,\n",
              "    tol=0.001, verbose=False)"
            ]
          },
          "metadata": {
            "tags": []
          },
          "execution_count": 237
        }
      ]
    },
    {
      "cell_type": "code",
      "metadata": {
        "id": "3d6ILEkfd8D7",
        "colab_type": "code",
        "colab": {}
      },
      "source": [
        "predict5 = model5.predict(x_valid)"
      ],
      "execution_count": null,
      "outputs": []
    },
    {
      "cell_type": "code",
      "metadata": {
        "id": "5MYER9OOvnPC",
        "colab_type": "code",
        "colab": {}
      },
      "source": [
        "score['SVM']=accuracy_score(y_valid,predict5)"
      ],
      "execution_count": null,
      "outputs": []
    },
    {
      "cell_type": "code",
      "metadata": {
        "id": "p5s3jpadd9_r",
        "colab_type": "code",
        "colab": {
          "base_uri": "https://localhost:8080/",
          "height": 34
        },
        "outputId": "88e4ee0d-a256-4e8d-f519-b5ace45fd066"
      },
      "source": [
        "print(accuracy_score(y_valid,predict5))"
      ],
      "execution_count": null,
      "outputs": [
        {
          "output_type": "stream",
          "text": [
            "0.8005613050342045\n"
          ],
          "name": "stdout"
        }
      ]
    },
    {
      "cell_type": "markdown",
      "metadata": {
        "id": "R9NB15hGvwBO",
        "colab_type": "text"
      },
      "source": [
        "# **Tổng kết score model**"
      ]
    },
    {
      "cell_type": "code",
      "metadata": {
        "id": "yy-PWzlbv1pi",
        "colab_type": "code",
        "colab": {
          "base_uri": "https://localhost:8080/",
          "height": 204
        },
        "outputId": "8f45603a-bf1d-49f6-ba63-bdb541737c98"
      },
      "source": [
        "S=pd.DataFrame()\n",
        "S['model']=score.keys()\n",
        "S['score']=score.values()\n",
        "S"
      ],
      "execution_count": null,
      "outputs": [
        {
          "output_type": "execute_result",
          "data": {
            "text/html": [
              "<div>\n",
              "<style scoped>\n",
              "    .dataframe tbody tr th:only-of-type {\n",
              "        vertical-align: middle;\n",
              "    }\n",
              "\n",
              "    .dataframe tbody tr th {\n",
              "        vertical-align: top;\n",
              "    }\n",
              "\n",
              "    .dataframe thead th {\n",
              "        text-align: right;\n",
              "    }\n",
              "</style>\n",
              "<table border=\"1\" class=\"dataframe\">\n",
              "  <thead>\n",
              "    <tr style=\"text-align: right;\">\n",
              "      <th></th>\n",
              "      <th>model</th>\n",
              "      <th>score</th>\n",
              "    </tr>\n",
              "  </thead>\n",
              "  <tbody>\n",
              "    <tr>\n",
              "      <th>0</th>\n",
              "      <td>LR</td>\n",
              "      <td>0.795474</td>\n",
              "    </tr>\n",
              "    <tr>\n",
              "      <th>1</th>\n",
              "      <td>LSVC</td>\n",
              "      <td>0.792668</td>\n",
              "    </tr>\n",
              "    <tr>\n",
              "      <th>2</th>\n",
              "      <td>RFC</td>\n",
              "      <td>0.761972</td>\n",
              "    </tr>\n",
              "    <tr>\n",
              "      <th>3</th>\n",
              "      <td>BNB</td>\n",
              "      <td>0.810910</td>\n",
              "    </tr>\n",
              "    <tr>\n",
              "      <th>4</th>\n",
              "      <td>SVM</td>\n",
              "      <td>0.800561</td>\n",
              "    </tr>\n",
              "  </tbody>\n",
              "</table>\n",
              "</div>"
            ],
            "text/plain": [
              "  model     score\n",
              "0    LR  0.795474\n",
              "1  LSVC  0.792668\n",
              "2   RFC  0.761972\n",
              "3   BNB  0.810910\n",
              "4   SVM  0.800561"
            ]
          },
          "metadata": {
            "tags": []
          },
          "execution_count": 241
        }
      ]
    },
    {
      "cell_type": "markdown",
      "metadata": {
        "id": "cgw8Kg-gv7mr",
        "colab_type": "text"
      },
      "source": [
        "Thông qua bảng tổng kết ta có thể thấy accurency_score của model BernoulliNB là tốt nhất nên ta chọn model này để test dataset tự thu thập"
      ]
    },
    {
      "cell_type": "markdown",
      "metadata": {
        "id": "Uz0wqjIkyVqu",
        "colab_type": "text"
      },
      "source": [
        "Lưu model\n",
        "\n",
        "Thư viện pickle được sử dụng để lưu model"
      ]
    },
    {
      "cell_type": "code",
      "metadata": {
        "id": "m3pFmYWFyeZR",
        "colab_type": "code",
        "colab": {}
      },
      "source": [
        "model=model4"
      ],
      "execution_count": 43,
      "outputs": []
    },
    {
      "cell_type": "code",
      "metadata": {
        "id": "P2xNFJUbyY4r",
        "colab_type": "code",
        "colab": {}
      },
      "source": [
        "import pickle"
      ],
      "execution_count": 44,
      "outputs": []
    },
    {
      "cell_type": "code",
      "metadata": {
        "id": "0uMGneCLy5hd",
        "colab_type": "code",
        "colab": {
          "base_uri": "https://localhost:8080/",
          "height": 34
        },
        "outputId": "676622b8-73c6-4ea1-f739-3890313611fd"
      },
      "source": [
        "from google.colab import drive\n",
        "drive.mount('/content/drive')"
      ],
      "execution_count": 45,
      "outputs": [
        {
          "output_type": "stream",
          "text": [
            "Drive already mounted at /content/drive; to attempt to forcibly remount, call drive.mount(\"/content/drive\", force_remount=True).\n"
          ],
          "name": "stdout"
        }
      ]
    },
    {
      "cell_type": "code",
      "metadata": {
        "id": "n1ZH6rFvycf8",
        "colab_type": "code",
        "colab": {}
      },
      "source": [
        "pickle.dump(model, open('/content/drive/My Drive/Colab Notebooks/model.sav', 'wb'))"
      ],
      "execution_count": 46,
      "outputs": []
    },
    {
      "cell_type": "markdown",
      "metadata": {
        "id": "JzdzIb-Zz_Df",
        "colab_type": "text"
      },
      "source": [
        "# **Ứng dụng có khả năng dự đoán cho một headline mới**"
      ]
    },
    {
      "cell_type": "code",
      "metadata": {
        "id": "x7biHJTE0An_",
        "colab_type": "code",
        "colab": {}
      },
      "source": [
        "loaded_model = pickle.load(open('/content/drive/My Drive/Colab Notebooks/model.sav', 'rb'))"
      ],
      "execution_count": 47,
      "outputs": []
    },
    {
      "cell_type": "code",
      "metadata": {
        "id": "HM_CU3re0cj-",
        "colab_type": "code",
        "colab": {
          "base_uri": "https://localhost:8080/",
          "height": 51
        },
        "outputId": "cd7356aa-099d-403d-81fa-edbc8e8245af"
      },
      "source": [
        "headline=input('Enter the headline: ')\n",
        "headline=xuli_headline(headline)\n",
        "headline=tf.transform([headline])\n",
        "print('Sarcasm' if loaded_model.predict(headline)==1 else 'Not sarcasm')"
      ],
      "execution_count": 48,
      "outputs": [
        {
          "output_type": "stream",
          "text": [
            "Enter the headline: What Reforming Police Unions Might Look Like\n",
            "Not sarcasm\n"
          ],
          "name": "stdout"
        }
      ]
    },
    {
      "cell_type": "markdown",
      "metadata": {
        "id": "FJL9ONMXwcu6",
        "colab_type": "text"
      },
      "source": [
        "# **Thực hiện dự đoán trên dataset 2000 headlines tự thu thập**"
      ]
    },
    {
      "cell_type": "code",
      "metadata": {
        "id": "qj_gjPWuHefs",
        "colab_type": "code",
        "colab": {}
      },
      "source": [
        "feature=[]\n",
        "for headline_ in data['headlines']:\n",
        "  feature.append(xuli_headline(headline_))"
      ],
      "execution_count": 51,
      "outputs": []
    },
    {
      "cell_type": "code",
      "metadata": {
        "id": "TMl0SB0kHg1e",
        "colab_type": "code",
        "colab": {
          "base_uri": "https://localhost:8080/",
          "height": 51
        },
        "outputId": "709b4192-46e9-4570-d2e2-1bf250397e58"
      },
      "source": [
        "feature=tf.transform(feature)\n",
        "feature"
      ],
      "execution_count": 52,
      "outputs": [
        {
          "output_type": "execute_result",
          "data": {
            "text/plain": [
              "<2000x25608 sparse matrix of type '<class 'numpy.float64'>'\n",
              "\twith 13757 stored elements in Compressed Sparse Row format>"
            ]
          },
          "metadata": {
            "tags": []
          },
          "execution_count": 52
        }
      ]
    },
    {
      "cell_type": "code",
      "metadata": {
        "id": "ELUUw-AjHi3b",
        "colab_type": "code",
        "colab": {}
      },
      "source": [
        "y_test=data['is_sarcastic']"
      ],
      "execution_count": 54,
      "outputs": []
    },
    {
      "cell_type": "code",
      "metadata": {
        "id": "FFtcGzYGHkx0",
        "colab_type": "code",
        "colab": {}
      },
      "source": [
        "predict=loaded_model.predict(feature)"
      ],
      "execution_count": 55,
      "outputs": []
    },
    {
      "cell_type": "code",
      "metadata": {
        "id": "Su06_KSIHmdN",
        "colab_type": "code",
        "colab": {
          "base_uri": "https://localhost:8080/",
          "height": 34
        },
        "outputId": "7d6f174c-be46-4dc4-cfc7-95eb47bb9f33"
      },
      "source": [
        "print(accuracy_score(y_test,predict))"
      ],
      "execution_count": 56,
      "outputs": [
        {
          "output_type": "stream",
          "text": [
            "0.667\n"
          ],
          "name": "stdout"
        }
      ]
    },
    {
      "cell_type": "code",
      "metadata": {
        "id": "M3gBw8bFKJDB",
        "colab_type": "code",
        "colab": {
          "base_uri": "https://localhost:8080/",
          "height": 34
        },
        "outputId": "6f6abc16-1ec5-479f-e749-1f3377125ee1"
      },
      "source": [
        "print(score['BNB'])"
      ],
      "execution_count": 57,
      "outputs": [
        {
          "output_type": "stream",
          "text": [
            "0.8109103666023505\n"
          ],
          "name": "stdout"
        }
      ]
    },
    {
      "cell_type": "markdown",
      "metadata": {
        "id": "KfCvNht4KMpd",
        "colab_type": "text"
      },
      "source": [
        "accuray_score ở dataset tự thu thập thấp hơn so dataset được train và test trên dataset từ kaggle."
      ]
    },
    {
      "cell_type": "code",
      "metadata": {
        "id": "T9NtngB9KboX",
        "colab_type": "code",
        "colab": {
          "base_uri": "https://localhost:8080/",
          "height": 282
        },
        "outputId": "3d05e4bf-124b-42e2-d44e-caa990c4a20d"
      },
      "source": [
        "sns.heatmap(confusion_matrix(y_test,predict),annot=True)"
      ],
      "execution_count": 58,
      "outputs": [
        {
          "output_type": "execute_result",
          "data": {
            "text/plain": [
              "<matplotlib.axes._subplots.AxesSubplot at 0x7fd0d1c11358>"
            ]
          },
          "metadata": {
            "tags": []
          },
          "execution_count": 58
        },
        {
          "output_type": "display_data",
          "data": {
            "image/png": "[encoded data removed]",
            "text/plain": [
              "<Figure size 432x288 with 2 Axes>"
            ]
          },
          "metadata": {
            "tags": []
          }
        }
      ]
    },
    {
      "cell_type": "markdown",
      "metadata": {
        "id": "JzQE4VfuLAD8",
        "colab_type": "text"
      },
      "source": [
        "Khá nhiều headline với is_sarcastic=0 được dự đoán đúng (khoảng 860 headlines). Và headline với is_sarcastic=1 dự đoán sai khá nhiều trong khi số lượng dự đoán đúng chỉ vào khoảng 470/1000 headline."
      ]
    },
    {
      "cell_type": "markdown",
      "metadata": {
        "id": "eC-wOMIbLovP",
        "colab_type": "text"
      },
      "source": [
        "# **Dự đoán với bộ test 1000 câu sarcasm và 100 câu không sarcasm**"
      ]
    },
    {
      "cell_type": "code",
      "metadata": {
        "id": "--8X0fFoLqTZ",
        "colab_type": "code",
        "colab": {
          "base_uri": "https://localhost:8080/",
          "height": 419
        },
        "outputId": "2ce6df2b-6e0b-488c-e6ef-3258949adda1"
      },
      "source": [
        "test2=pd.concat([data[data['is_sarcastic']==0][:1000],data[data['is_sarcastic']==1][:100]])\n",
        "test2"
      ],
      "execution_count": 60,
      "outputs": [
        {
          "output_type": "execute_result",
          "data": {
            "text/html": [
              "<div>\n",
              "<style scoped>\n",
              "    .dataframe tbody tr th:only-of-type {\n",
              "        vertical-align: middle;\n",
              "    }\n",
              "\n",
              "    .dataframe tbody tr th {\n",
              "        vertical-align: top;\n",
              "    }\n",
              "\n",
              "    .dataframe thead th {\n",
              "        text-align: right;\n",
              "    }\n",
              "</style>\n",
              "<table border=\"1\" class=\"dataframe\">\n",
              "  <thead>\n",
              "    <tr style=\"text-align: right;\">\n",
              "      <th></th>\n",
              "      <th>headlines</th>\n",
              "      <th>is_sarcastic</th>\n",
              "    </tr>\n",
              "  </thead>\n",
              "  <tbody>\n",
              "    <tr>\n",
              "      <th>0</th>\n",
              "      <td>Trump Fires U.S. Attorney Who Led Probes Of Th...</td>\n",
              "      <td>0</td>\n",
              "    </tr>\n",
              "    <tr>\n",
              "      <th>1</th>\n",
              "      <td>6 Staffers Working On Trump's Tulsa Rally Test...</td>\n",
              "      <td>0</td>\n",
              "    </tr>\n",
              "    <tr>\n",
              "      <th>2</th>\n",
              "      <td>Community Wants Answers After LA Deputies Fata...</td>\n",
              "      <td>0</td>\n",
              "    </tr>\n",
              "    <tr>\n",
              "      <th>3</th>\n",
              "      <td>Police Arrest Peaceful Protester Sitting Alone...</td>\n",
              "      <td>0</td>\n",
              "    </tr>\n",
              "    <tr>\n",
              "      <th>4</th>\n",
              "      <td>Joe Biden Raised More Money Than Donald Trump ...</td>\n",
              "      <td>0</td>\n",
              "    </tr>\n",
              "    <tr>\n",
              "      <th>...</th>\n",
              "      <td>...</td>\n",
              "      <td>...</td>\n",
              "    </tr>\n",
              "    <tr>\n",
              "      <th>95</th>\n",
              "      <td>Trump Spends National Prayer Breakfast Attacki...</td>\n",
              "      <td>1</td>\n",
              "    </tr>\n",
              "    <tr>\n",
              "      <th>96</th>\n",
              "      <td>Sanders Makes Last-Minute Appeal To Moderates ...</td>\n",
              "      <td>1</td>\n",
              "    </tr>\n",
              "    <tr>\n",
              "      <th>97</th>\n",
              "      <td>Both Parties Acting Exactly How Everyone Expec...</td>\n",
              "      <td>1</td>\n",
              "    </tr>\n",
              "    <tr>\n",
              "      <th>98</th>\n",
              "      <td>Rush Limbaugh Admits Presidential Medal Of Fre...</td>\n",
              "      <td>1</td>\n",
              "    </tr>\n",
              "    <tr>\n",
              "      <th>99</th>\n",
              "      <td>Speeding Democratic Campaign Buses Run Over 17...</td>\n",
              "      <td>1</td>\n",
              "    </tr>\n",
              "  </tbody>\n",
              "</table>\n",
              "<p>1100 rows × 2 columns</p>\n",
              "</div>"
            ],
            "text/plain": [
              "                                            headlines  is_sarcastic\n",
              "0   Trump Fires U.S. Attorney Who Led Probes Of Th...             0\n",
              "1   6 Staffers Working On Trump's Tulsa Rally Test...             0\n",
              "2   Community Wants Answers After LA Deputies Fata...             0\n",
              "3   Police Arrest Peaceful Protester Sitting Alone...             0\n",
              "4   Joe Biden Raised More Money Than Donald Trump ...             0\n",
              "..                                                ...           ...\n",
              "95  Trump Spends National Prayer Breakfast Attacki...             1\n",
              "96  Sanders Makes Last-Minute Appeal To Moderates ...             1\n",
              "97  Both Parties Acting Exactly How Everyone Expec...             1\n",
              "98  Rush Limbaugh Admits Presidential Medal Of Fre...             1\n",
              "99  Speeding Democratic Campaign Buses Run Over 17...             1\n",
              "\n",
              "[1100 rows x 2 columns]"
            ]
          },
          "metadata": {
            "tags": []
          },
          "execution_count": 60
        }
      ]
    },
    {
      "cell_type": "code",
      "metadata": {
        "id": "VWCWWfmRMAgj",
        "colab_type": "code",
        "colab": {}
      },
      "source": [
        "feature=[]\n",
        "for headline_ in test2['headlines']:\n",
        "  feature.append(xuli_headline(headline_))"
      ],
      "execution_count": 62,
      "outputs": []
    },
    {
      "cell_type": "code",
      "metadata": {
        "id": "l7w72NjPMBtY",
        "colab_type": "code",
        "colab": {
          "base_uri": "https://localhost:8080/",
          "height": 51
        },
        "outputId": "301e09da-7f96-43d3-cda8-69f17aa9f5d6"
      },
      "source": [
        "feature=tf.transform(feature)\n",
        "feature"
      ],
      "execution_count": 63,
      "outputs": [
        {
          "output_type": "execute_result",
          "data": {
            "text/plain": [
              "<1100x25608 sparse matrix of type '<class 'numpy.float64'>'\n",
              "\twith 7887 stored elements in Compressed Sparse Row format>"
            ]
          },
          "metadata": {
            "tags": []
          },
          "execution_count": 63
        }
      ]
    },
    {
      "cell_type": "code",
      "metadata": {
        "id": "l3GTUvnnMYNE",
        "colab_type": "code",
        "colab": {}
      },
      "source": [
        "y_test=test2['is_sarcastic']"
      ],
      "execution_count": 65,
      "outputs": []
    },
    {
      "cell_type": "code",
      "metadata": {
        "id": "ShGEpGyiMc3j",
        "colab_type": "code",
        "colab": {}
      },
      "source": [
        "\n",
        "predict=loaded_model.predict(feature)"
      ],
      "execution_count": 66,
      "outputs": []
    },
    {
      "cell_type": "code",
      "metadata": {
        "id": "8snQN6UiMfPt",
        "colab_type": "code",
        "colab": {
          "base_uri": "https://localhost:8080/",
          "height": 34
        },
        "outputId": "7bd17fce-cab3-4643-97a8-d1ee5e54b2ce"
      },
      "source": [
        "print(accuracy_score(y_test,predict))"
      ],
      "execution_count": 67,
      "outputs": [
        {
          "output_type": "stream",
          "text": [
            "0.8227272727272728\n"
          ],
          "name": "stdout"
        }
      ]
    },
    {
      "cell_type": "code",
      "metadata": {
        "id": "G-N-I55oMik8",
        "colab_type": "code",
        "colab": {
          "base_uri": "https://localhost:8080/",
          "height": 282
        },
        "outputId": "d896ae99-5ad9-466f-a3fa-b17b1691284e"
      },
      "source": [
        "sns.heatmap(confusion_matrix(y_test,predict),annot=True)"
      ],
      "execution_count": 68,
      "outputs": [
        {
          "output_type": "execute_result",
          "data": {
            "text/plain": [
              "<matplotlib.axes._subplots.AxesSubplot at 0x7fd0d1aa2320>"
            ]
          },
          "metadata": {
            "tags": []
          },
          "execution_count": 68
        },
        {
          "output_type": "display_data",
          "data": {
            "image/png": "[encoded data removed]",
            "text/plain": [
              "<Figure size 432x288 with 2 Axes>"
            ]
          },
          "metadata": {
            "tags": []
          }
        }
      ]
    },
    {
      "cell_type": "markdown",
      "metadata": {
        "id": "GSTMbmZzMnL5",
        "colab_type": "text"
      },
      "source": [
        "Với độ chính xác khi dự đoán lên đến hơn 82%, trong 1000 not sarcastic headlines thì đã được dự đoán đúng lên đến 860 headlines và trong 100 sarcastic headlines thì chỉ dự đoán đúng được 43 headlines."
      ]
    },
    {
      "cell_type": "markdown",
      "metadata": {
        "id": "PhbT3oD8NIO9",
        "colab_type": "text"
      },
      "source": [
        "# **Dự đoán với bộ test 100 câu sarcasm và 1000 câu không sarcasm**"
      ]
    },
    {
      "cell_type": "code",
      "metadata": {
        "id": "s4dheGH5NHyC",
        "colab_type": "code",
        "colab": {
          "base_uri": "https://localhost:8080/",
          "height": 419
        },
        "outputId": "19a61c20-2589-48ef-a434-308626130a0c"
      },
      "source": [
        "test3=pd.concat([data[data['is_sarcastic']==0][:100],data[data['is_sarcastic']==1][:1000]])\n",
        "test3"
      ],
      "execution_count": 69,
      "outputs": [
        {
          "output_type": "execute_result",
          "data": {
            "text/html": [
              "<div>\n",
              "<style scoped>\n",
              "    .dataframe tbody tr th:only-of-type {\n",
              "        vertical-align: middle;\n",
              "    }\n",
              "\n",
              "    .dataframe tbody tr th {\n",
              "        vertical-align: top;\n",
              "    }\n",
              "\n",
              "    .dataframe thead th {\n",
              "        text-align: right;\n",
              "    }\n",
              "</style>\n",
              "<table border=\"1\" class=\"dataframe\">\n",
              "  <thead>\n",
              "    <tr style=\"text-align: right;\">\n",
              "      <th></th>\n",
              "      <th>headlines</th>\n",
              "      <th>is_sarcastic</th>\n",
              "    </tr>\n",
              "  </thead>\n",
              "  <tbody>\n",
              "    <tr>\n",
              "      <th>0</th>\n",
              "      <td>Trump Fires U.S. Attorney Who Led Probes Of Th...</td>\n",
              "      <td>0</td>\n",
              "    </tr>\n",
              "    <tr>\n",
              "      <th>1</th>\n",
              "      <td>6 Staffers Working On Trump's Tulsa Rally Test...</td>\n",
              "      <td>0</td>\n",
              "    </tr>\n",
              "    <tr>\n",
              "      <th>2</th>\n",
              "      <td>Community Wants Answers After LA Deputies Fata...</td>\n",
              "      <td>0</td>\n",
              "    </tr>\n",
              "    <tr>\n",
              "      <th>3</th>\n",
              "      <td>Police Arrest Peaceful Protester Sitting Alone...</td>\n",
              "      <td>0</td>\n",
              "    </tr>\n",
              "    <tr>\n",
              "      <th>4</th>\n",
              "      <td>Joe Biden Raised More Money Than Donald Trump ...</td>\n",
              "      <td>0</td>\n",
              "    </tr>\n",
              "    <tr>\n",
              "      <th>...</th>\n",
              "      <td>...</td>\n",
              "      <td>...</td>\n",
              "    </tr>\n",
              "    <tr>\n",
              "      <th>995</th>\n",
              "      <td>Amazing Detail: Every Game In MLB The Show W...</td>\n",
              "      <td>1</td>\n",
              "    </tr>\n",
              "    <tr>\n",
              "      <th>996</th>\n",
              "      <td>Everything You Need To Know About Nioh 2</td>\n",
              "      <td>1</td>\n",
              "    </tr>\n",
              "    <tr>\n",
              "      <th>997</th>\n",
              "      <td>Amazing Collaboration: NASA Is Working With Ni...</td>\n",
              "      <td>1</td>\n",
              "    </tr>\n",
              "    <tr>\n",
              "      <th>998</th>\n",
              "      <td>Amazing News Gamers: Everyone Is Having A Grea...</td>\n",
              "      <td>1</td>\n",
              "    </tr>\n",
              "    <tr>\n",
              "      <th>999</th>\n",
              "      <td>Greatest Video Game Weapons Of All Time</td>\n",
              "      <td>1</td>\n",
              "    </tr>\n",
              "  </tbody>\n",
              "</table>\n",
              "<p>1100 rows × 2 columns</p>\n",
              "</div>"
            ],
            "text/plain": [
              "                                             headlines  is_sarcastic\n",
              "0    Trump Fires U.S. Attorney Who Led Probes Of Th...             0\n",
              "1    6 Staffers Working On Trump's Tulsa Rally Test...             0\n",
              "2    Community Wants Answers After LA Deputies Fata...             0\n",
              "3    Police Arrest Peaceful Protester Sitting Alone...             0\n",
              "4    Joe Biden Raised More Money Than Donald Trump ...             0\n",
              "..                                                 ...           ...\n",
              "995  Amazing Detail: Every Game In MLB The Show W...             1\n",
              "996         Everything You Need To Know About Nioh 2             1\n",
              "997  Amazing Collaboration: NASA Is Working With Ni...             1\n",
              "998  Amazing News Gamers: Everyone Is Having A Grea...             1\n",
              "999            Greatest Video Game Weapons Of All Time             1\n",
              "\n",
              "[1100 rows x 2 columns]"
            ]
          },
          "metadata": {
            "tags": []
          },
          "execution_count": 69
        }
      ]
    },
    {
      "cell_type": "code",
      "metadata": {
        "id": "yhlj2-WtNXKU",
        "colab_type": "code",
        "colab": {}
      },
      "source": [
        "feature=[]\n",
        "for headline_ in test3['headlines']:\n",
        "  feature.append(xuli_headline(headline_))"
      ],
      "execution_count": 70,
      "outputs": []
    },
    {
      "cell_type": "code",
      "metadata": {
        "id": "cODZZ93DNfx-",
        "colab_type": "code",
        "colab": {
          "base_uri": "https://localhost:8080/",
          "height": 51
        },
        "outputId": "b910974b-9c7c-4883-9ea4-9cde2d5cbce9"
      },
      "source": [
        "feature=tf.transform(feature)\n",
        "feature"
      ],
      "execution_count": 72,
      "outputs": [
        {
          "output_type": "execute_result",
          "data": {
            "text/plain": [
              "<1100x25608 sparse matrix of type '<class 'numpy.float64'>'\n",
              "\twith 7410 stored elements in Compressed Sparse Row format>"
            ]
          },
          "metadata": {
            "tags": []
          },
          "execution_count": 72
        }
      ]
    },
    {
      "cell_type": "code",
      "metadata": {
        "id": "LIRcVbRKNj3k",
        "colab_type": "code",
        "colab": {}
      },
      "source": [
        "y_test=test3['is_sarcastic']"
      ],
      "execution_count": 73,
      "outputs": []
    },
    {
      "cell_type": "code",
      "metadata": {
        "id": "SH7FBojFNbUm",
        "colab_type": "code",
        "colab": {}
      },
      "source": [
        "\n",
        "predict=loaded_model.predict(feature)"
      ],
      "execution_count": 74,
      "outputs": []
    },
    {
      "cell_type": "code",
      "metadata": {
        "id": "k8f-cdWcNqA7",
        "colab_type": "code",
        "colab": {
          "base_uri": "https://localhost:8080/",
          "height": 34
        },
        "outputId": "26badb8a-2092-40df-ff1a-2b9dcb0569ed"
      },
      "source": [
        "print(accuracy_score(y_test,predict))"
      ],
      "execution_count": 75,
      "outputs": [
        {
          "output_type": "stream",
          "text": [
            "0.5018181818181818\n"
          ],
          "name": "stdout"
        }
      ]
    },
    {
      "cell_type": "code",
      "metadata": {
        "id": "ki2W0FtaNtPo",
        "colab_type": "code",
        "colab": {
          "base_uri": "https://localhost:8080/",
          "height": 282
        },
        "outputId": "55dacb9f-554e-462d-f798-3fbcd05dcb24"
      },
      "source": [
        "sns.heatmap(confusion_matrix(y_test,predict),annot=True)"
      ],
      "execution_count": 76,
      "outputs": [
        {
          "output_type": "execute_result",
          "data": {
            "text/plain": [
              "<matplotlib.axes._subplots.AxesSubplot at 0x7fd0d1abde10>"
            ]
          },
          "metadata": {
            "tags": []
          },
          "execution_count": 76
        },
        {
          "output_type": "display_data",
          "data": {
            "image/png": "[encoded data removed]",
            "text/plain": [
              "<Figure size 432x288 with 2 Axes>"
            ]
          },
          "metadata": {
            "tags": []
          }
        }
      ]
    },
    {
      "cell_type": "markdown",
      "metadata": {
        "id": "_nDmJAJlNzBV",
        "colab_type": "text"
      },
      "source": [
        "Với độ chính xác khi dự đoán là 50,18%, trong 1000 sarcastic headlines thì đã được dự đoán đúng 470  headlines và trong 100 not sarcastic headlines thì dự đoán đúng được 80 headlines."
      ]
    },
    {
      "cell_type": "markdown",
      "metadata": {
        "id": "CBqer1NDOJLx",
        "colab_type": "text"
      },
      "source": [
        "Qua 3 lần test trên ba dataset, chúng ta đã thấy model dự đoán khá tốt đối với not sarcastic headlines, nên chúng ta sẽ thấy accurency_score ở test2 sẽ cao hơn nhiều với ở test3"
      ]
    }
  ]
}