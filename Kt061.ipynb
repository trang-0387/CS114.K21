{
  "nbformat": 4,
  "nbformat_minor": 0,
  "metadata": {
    "colab": {
      "name": "pt061.ipynb",
      "provenance": [],
      "collapsed_sections": [],
      "authorship_tag": "ABX9TyOTsuTxhW3BLyZ+kE5Gan3S",
      "include_colab_link": true
    },
    "kernelspec": {
      "name": "python3",
      "display_name": "Python 3"
    }
  },
  "cells": [
    {
      "cell_type": "markdown",
      "metadata": {
        "id": "view-in-github",
        "colab_type": "text"
      },
      "source": [
        "<a href=\"https://colab.research.google.com/github/trang-0387/CS114.K21/blob/master/Kt061.ipynb\" target=\"_parent\"><img src=\"https://colab.research.google.com/assets/colab-badge.svg\" alt=\"Open In Colab\"/></a>"
      ]
    },
    {
      "cell_type": "code",
      "metadata": {
        "id": "uwm8OlPC0G9z",
        "colab_type": "code",
        "colab": {
          "base_uri": "https://localhost:8080/",
          "height": 35
        },
        "outputId": "568b6ed2-7b7b-4468-f2b7-b7e628fcfeb3"
      },
      "source": [
        "#Phân số\n",
        "from fractions import*\n",
        "frac1=Fraction(6,9)\n",
        "frac2=Fraction(7,9)\n",
        "frac3 = frac1 + frac2\n",
        "print(frac3)\n"
      ],
      "execution_count": 5,
      "outputs": [
        {
          "output_type": "stream",
          "text": [
            "13/9\n"
          ],
          "name": "stdout"
        }
      ]
    }
  ]
}