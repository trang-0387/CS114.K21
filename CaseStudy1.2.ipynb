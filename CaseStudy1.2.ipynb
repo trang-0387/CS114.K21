{
  "nbformat": 4,
  "nbformat_minor": 0,
  "metadata": {
    "colab": {
      "name": "CaseStudy1.ipynb",
      "provenance": [],
      "collapsed_sections": [],
      "toc_visible": true,
      "include_colab_link": true
    },
    "kernelspec": {
      "name": "python3",
      "display_name": "Python 3"
    }
  },
  "cells": [
    {
      "cell_type": "markdown",
      "metadata": {
        "id": "view-in-github",
        "colab_type": "text"
      },
      "source": [
        "<a href=\"https://colab.research.google.com/github/trang-0387/CS114.K21/blob/master/CaseStudy1.2.ipynb\" target=\"_parent\"><img src=\"https://colab.research.google.com/assets/colab-badge.svg\" alt=\"Open In Colab\"/></a>"
      ]
    },
    {
      "cell_type": "markdown",
      "metadata": {
        "id": "HD-_ChMSAzHQ",
        "colab_type": "text"
      },
      "source": [
        "**Thành viên nhóm:**\n",
        "* Vũ Thị Trang   -      18520387\n",
        "* Tăng Năng Chung   -   18520536\n",
        "* Lê Thị Ngọc Phương  - 18521273 "
      ]
    },
    {
      "cell_type": "markdown",
      "metadata": {
        "id": "m5qUNiswebxY",
        "colab_type": "text"
      },
      "source": [
        "# **Sarcasm Detection**"
      ]
    },
    {
      "cell_type": "markdown",
      "metadata": {
        "id": "PGhvNOODpJBK",
        "colab_type": "text"
      },
      "source": [
        "1. **Mô tả bài toán**: Input: 1 headline của 1 bài báo Output: headline châm biếm hoặc chính thống\n",
        "2. **Cách thu thập dữ liệu**: Thu thập các headlines từ 2 trang web: HuffPost và TheOnion\n",
        "* HuffPost: trang báo chuyên về các tin tức chính thống\n",
        "* TheOnion: trang báo chuyên về các tin châm biếm\n",
        "* Training Dataset:sử dụng dataset đã có trên kaggle\n",
        "  * Dataset:\n",
        "    * article_link: liên kết đến các bài báo\n",
        "    * headline: tiêu đề bài báo\n",
        "    * is_sacastic: 1: châm biếm và 0: chính thống\n",
        "  * Testing Dataset: sử dụng công cụ Scraper để crawl data từ hai trang web trên.\n",
        "    * Dataset: headline\n",
        "  * Số lượng headlines cần thu thập của Testing Dataset: 1000 sarcastic headlines và 1000 not sarcatic headlines."
      ]
    },
    {
      "cell_type": "markdown",
      "metadata": {
        "id": "AjWKe2tZpnoB",
        "colab_type": "text"
      },
      "source": [
        "# **Import các thư viện cần thiết**"
      ]
    },
    {
      "cell_type": "code",
      "metadata": {
        "id": "yp5ekabSo34D",
        "colab_type": "code",
        "colab": {
          "base_uri": "https://localhost:8080/",
          "height": 71
        },
        "outputId": "aabfbfdb-42ca-42bb-bc4d-7c87f91482a5"
      },
      "source": [
        "import pandas as pd\n",
        "import numpy as np\n",
        "from sklearn.model_selection import train_test_split\n",
        "from sklearn.metrics import confusion_matrix\n",
        "from sklearn.metrics import accuracy_score\n",
        "from sklearn.svm import LinearSVC\n",
        "from sklearn.naive_bayes import GaussianNB, BernoulliNB\n",
        "from sklearn.linear_model import LogisticRegression\n",
        "from sklearn.ensemble import RandomForestClassifier\n",
        "import re\n",
        "from sklearn.feature_extraction.text import TfidfVectorizer\n",
        "from sklearn.svm import SVC\n",
        "import seaborn as sns"
      ],
      "execution_count": 1,
      "outputs": [
        {
          "output_type": "stream",
          "text": [
            "/usr/local/lib/python3.6/dist-packages/statsmodels/tools/_testing.py:19: FutureWarning: pandas.util.testing is deprecated. Use the functions in the public API at pandas.testing instead.\n",
            "  import pandas.util.testing as tm\n"
          ],
          "name": "stderr"
        }
      ]
    },
    {
      "cell_type": "markdown",
      "metadata": {
        "id": "ipSHh4Dcp0Mq",
        "colab_type": "text"
      },
      "source": [
        "# **Lấy dataset trên kaggle**"
      ]
    },
    {
      "cell_type": "code",
      "metadata": {
        "id": "WMO0bY4Ip12C",
        "colab_type": "code",
        "colab": {
          "resources": {
            "http://localhost:8080/nbextensions/google.colab/files.js": {
              "data": "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",
              "ok": true,
              "headers": [
                [
                  "content-type",
                  "application/javascript"
                ]
              ],
              "status": 200,
              "status_text": ""
            }
          },
          "base_uri": "https://localhost:8080/",
          "height": 89
        },
        "outputId": "f44e714d-fc04-42ae-e629-a4fbab210229"
      },
      "source": [
        "from google.colab import files\n",
        "files.upload()"
      ],
      "execution_count": null,
      "outputs": [
        {
          "output_type": "display_data",
          "data": {
            "text/html": [
              "\n",
              "     <input type=\"file\" id=\"files-074ca016-7307-4374-84c6-90d24ed0ce0d\" name=\"files[]\" multiple disabled\n",
              "        style=\"border:none\" />\n",
              "     <output id=\"result-074ca016-7307-4374-84c6-90d24ed0ce0d\">\n",
              "      Upload widget is only available when the cell has been executed in the\n",
              "      current browser session. Please rerun this cell to enable.\n",
              "      </output>\n",
              "      <script src=\"/nbextensions/google.colab/files.js\"></script> "
            ],
            "text/plain": [
              "<IPython.core.display.HTML object>"
            ]
          },
          "metadata": {
            "tags": []
          }
        },
        {
          "output_type": "stream",
          "text": [
            "Saving kaggle.json to kaggle (4).json\n"
          ],
          "name": "stdout"
        },
        {
          "output_type": "execute_result",
          "data": {
            "text/plain": [
              "{'kaggle.json': b'{\"username\":\"trangvuthi\",\"key\":\"b3d92781161ece64cd3852bd9abd8167\"}'}"
            ]
          },
          "metadata": {
            "tags": []
          },
          "execution_count": 2
        }
      ]
    },
    {
      "cell_type": "code",
      "metadata": {
        "id": "2QcJSbOkp_gi",
        "colab_type": "code",
        "colab": {
          "base_uri": "https://localhost:8080/",
          "height": 204
        },
        "outputId": "5e8164e9-7404-4478-a1b9-b536a1aa2f91"
      },
      "source": [
        "!pip install kaggle"
      ],
      "execution_count": null,
      "outputs": [
        {
          "output_type": "stream",
          "text": [
            "Requirement already satisfied: kaggle in /usr/local/lib/python3.6/dist-packages (1.5.6)\n",
            "Requirement already satisfied: tqdm in /usr/local/lib/python3.6/dist-packages (from kaggle) (4.41.1)\n",
            "Requirement already satisfied: six>=1.10 in /usr/local/lib/python3.6/dist-packages (from kaggle) (1.12.0)\n",
            "Requirement already satisfied: urllib3<1.25,>=1.21.1 in /usr/local/lib/python3.6/dist-packages (from kaggle) (1.24.3)\n",
            "Requirement already satisfied: python-dateutil in /usr/local/lib/python3.6/dist-packages (from kaggle) (2.8.1)\n",
            "Requirement already satisfied: requests in /usr/local/lib/python3.6/dist-packages (from kaggle) (2.23.0)\n",
            "Requirement already satisfied: python-slugify in /usr/local/lib/python3.6/dist-packages (from kaggle) (4.0.0)\n",
            "Requirement already satisfied: certifi in /usr/local/lib/python3.6/dist-packages (from kaggle) (2020.4.5.2)\n",
            "Requirement already satisfied: chardet<4,>=3.0.2 in /usr/local/lib/python3.6/dist-packages (from requests->kaggle) (3.0.4)\n",
            "Requirement already satisfied: idna<3,>=2.5 in /usr/local/lib/python3.6/dist-packages (from requests->kaggle) (2.9)\n",
            "Requirement already satisfied: text-unidecode>=1.3 in /usr/local/lib/python3.6/dist-packages (from python-slugify->kaggle) (1.3)\n"
          ],
          "name": "stdout"
        }
      ]
    },
    {
      "cell_type": "code",
      "metadata": {
        "id": "F2vUEafYqEnT",
        "colab_type": "code",
        "colab": {}
      },
      "source": [
        "!mkdir -p ~/.kaggle\n",
        "!cp kaggle.json ~/.kaggle/\n",
        "!chmod 600 ~/.kaggle/kaggle.json"
      ],
      "execution_count": null,
      "outputs": []
    },
    {
      "cell_type": "code",
      "metadata": {
        "id": "wLLw5Y5ZqMOE",
        "colab_type": "code",
        "colab": {
          "base_uri": "https://localhost:8080/",
          "height": 374
        },
        "outputId": "0293d949-774a-47b1-a124-5b077ad3b202"
      },
      "source": [
        "!kaggle datasets list -s sarcasm"
      ],
      "execution_count": null,
      "outputs": [
        {
          "output_type": "stream",
          "text": [
            "Warning: Looks like you're using an outdated API Version, please consider updating (server 1.5.6 / client 1.5.4)\n",
            "ref                                                      title                                               size  lastUpdated          downloadCount  \n",
            "-------------------------------------------------------  -------------------------------------------------  -----  -------------------  -------------  \n",
            "danofer/sarcasm                                          Sarcasm on Reddit                                  216MB  2018-05-27 08:19:04           4585  \n",
            "rmisra/news-headlines-dataset-for-sarcasm-detection      News Headlines Dataset For Sarcasm Detection         3MB  2019-07-03 23:52:57          15536  \n",
            "rmisra/news-category-dataset                             News Category Dataset                               25MB  2018-12-02 04:09:45          13206  \n",
            "sherinclaudia/sarcastic-comments-on-reddit               Sarcastic Comments - REDDIT                        106MB  2019-01-30 14:41:53           1930  \n",
            "rmisra/clothing-fit-dataset-for-size-recommendation      Clothing Fit Dataset for Size Recommendation        40MB  2018-08-21 19:00:16           3110  \n",
            "rmisra/imdb-spoiler-dataset                              IMDB Spoiler Dataset                               331MB  2019-05-22 04:44:43            877  \n",
            "negiaditya/sarcasm                                       sarcasm                                              2MB  2020-05-18 20:17:56              5  \n",
            "mikahama/the-best-sarcasm-annotated-dataset-in-spanish   The Best Sarcasm Annotated Dataset in Spanish       26KB  2020-06-21 16:50:44             24  \n",
            "akshit3050/sarcasm                                       sarcasm                                             26MB  2018-08-04 04:44:21            117  \n",
            "harriken/bias-media-cat                                  Bias Media CAT                                      17MB  2017-10-27 22:46:25            342  \n",
            "rmsharks4/sarcasmania-dataset                            Sarcasmania Dataset                                  2MB  2019-05-28 09:07:23             64  \n",
            "shaunthesheep/sarcasmdata                                sarcasm-data                                         2MB  2020-03-17 09:30:12              4  \n",
            "pradeeptrical/sarcasm-dataset                            Sarcasm dataset                                     81KB  2020-01-15 13:54:01             19  \n",
            "kndkarthi/sarcasm-tweets                                 #sarcasm tweets                                      2MB  2019-01-28 06:56:45             99  \n",
            "akshit3050/ucscsarcasm2                                  ucsc-sarcasm2                                        1MB  2019-06-12 13:14:08              9  \n",
            "shaunthesheep/sarcasm-data                               Sarcasm_Data                                         2MB  2020-03-17 09:13:35              3  \n",
            "williamscott701/memotion-dataset-7k                      Memotion Dataset 7k                                695MB  2020-02-27 13:06:01            357  \n",
            "mariajmraidy/datasets-for-sentiment-analysis-of-arabizi  Datasets for sentiment analysis of arabizi tweets  198KB  2020-06-23 16:40:49              5  \n"
          ],
          "name": "stdout"
        }
      ]
    },
    {
      "cell_type": "code",
      "metadata": {
        "id": "MWxB69FlqPvI",
        "colab_type": "code",
        "colab": {
          "base_uri": "https://localhost:8080/",
          "height": 34
        },
        "outputId": "4f898398-e178-442f-c962-b9d36cc504cc"
      },
      "source": [
        "!kaggle datasets download -d rmisra/news-headlines-dataset-for-sarcasm-detection"
      ],
      "execution_count": null,
      "outputs": [
        {
          "output_type": "stream",
          "text": [
            "news-headlines-dataset-for-sarcasm-detection.zip: Skipping, found more recently modified local copy (use --force to force download)\n"
          ],
          "name": "stdout"
        }
      ]
    },
    {
      "cell_type": "code",
      "metadata": {
        "id": "oQLgc9oeqfge",
        "colab_type": "code",
        "colab": {
          "base_uri": "https://localhost:8080/",
          "height": 102
        },
        "outputId": "09648723-7145-477a-91c4-d7a9d11d3688"
      },
      "source": [
        "!unzip news-headlines-dataset-for-sarcasm-detection.zip"
      ],
      "execution_count": null,
      "outputs": [
        {
          "output_type": "stream",
          "text": [
            "Archive:  news-headlines-dataset-for-sarcasm-detection.zip\n",
            "replace Sarcasm_Headlines_Dataset.json? [y]es, [n]o, [A]ll, [N]one, [r]ename: y\n",
            "  inflating: Sarcasm_Headlines_Dataset.json  \n",
            "replace Sarcasm_Headlines_Dataset_v2.json? [y]es, [n]o, [A]ll, [N]one, [r]ename: y\n",
            "  inflating: Sarcasm_Headlines_Dataset_v2.json  \n"
          ],
          "name": "stdout"
        }
      ]
    },
    {
      "cell_type": "markdown",
      "metadata": {
        "id": "AIVT1_0Hfj5W",
        "colab_type": "text"
      },
      "source": [
        "* Dataset gồm có hai file là Sarcasm_Headlines_Dataset.json và file Sarcasm_Headlines_Dataset_v2.json\n",
        "\n",
        "* Đọc cả hai file thông qua thư viện pandas với hàm pd.read_json()\n",
        "\n",
        "* Một dòng của dataframe được lưu trên mỗi dòng của json nên phải gán tham số lines = True"
      ]
    },
    {
      "cell_type": "code",
      "metadata": {
        "id": "y0S_hBxiqoNc",
        "colab_type": "code",
        "colab": {}
      },
      "source": [
        "f1=pd.read_json('Sarcasm_Headlines_Dataset.json',lines=True)\n",
        "f2=pd.read_json('Sarcasm_Headlines_Dataset_v2.json',lines=True)"
      ],
      "execution_count": null,
      "outputs": []
    },
    {
      "cell_type": "markdown",
      "metadata": {
        "id": "2aoc1iHjrW_N",
        "colab_type": "text"
      },
      "source": [
        "**Ghép nối 2 cấu trúc dữ liệu pandas f1 và f2**"
      ]
    },
    {
      "cell_type": "code",
      "metadata": {
        "id": "NyzQdSdMqtVo",
        "colab_type": "code",
        "colab": {
          "base_uri": "https://localhost:8080/",
          "height": 419
        },
        "outputId": "5378de65-9b69-442a-fee2-5ac286eb3d06"
      },
      "source": [
        "df=pd.concat([f1,f2],axis=0)\n",
        "df"
      ],
      "execution_count": null,
      "outputs": [
        {
          "output_type": "execute_result",
          "data": {
            "text/html": [
              "<div>\n",
              "<style scoped>\n",
              "    .dataframe tbody tr th:only-of-type {\n",
              "        vertical-align: middle;\n",
              "    }\n",
              "\n",
              "    .dataframe tbody tr th {\n",
              "        vertical-align: top;\n",
              "    }\n",
              "\n",
              "    .dataframe thead th {\n",
              "        text-align: right;\n",
              "    }\n",
              "</style>\n",
              "<table border=\"1\" class=\"dataframe\">\n",
              "  <thead>\n",
              "    <tr style=\"text-align: right;\">\n",
              "      <th></th>\n",
              "      <th>article_link</th>\n",
              "      <th>headline</th>\n",
              "      <th>is_sarcastic</th>\n",
              "    </tr>\n",
              "  </thead>\n",
              "  <tbody>\n",
              "    <tr>\n",
              "      <th>0</th>\n",
              "      <td>https://www.huffingtonpost.com/entry/versace-b...</td>\n",
              "      <td>former versace store clerk sues over secret 'b...</td>\n",
              "      <td>0</td>\n",
              "    </tr>\n",
              "    <tr>\n",
              "      <th>1</th>\n",
              "      <td>https://www.huffingtonpost.com/entry/roseanne-...</td>\n",
              "      <td>the 'roseanne' revival catches up to our thorn...</td>\n",
              "      <td>0</td>\n",
              "    </tr>\n",
              "    <tr>\n",
              "      <th>2</th>\n",
              "      <td>https://local.theonion.com/mom-starting-to-fea...</td>\n",
              "      <td>mom starting to fear son's web series closest ...</td>\n",
              "      <td>1</td>\n",
              "    </tr>\n",
              "    <tr>\n",
              "      <th>3</th>\n",
              "      <td>https://politics.theonion.com/boehner-just-wan...</td>\n",
              "      <td>boehner just wants wife to listen, not come up...</td>\n",
              "      <td>1</td>\n",
              "    </tr>\n",
              "    <tr>\n",
              "      <th>4</th>\n",
              "      <td>https://www.huffingtonpost.com/entry/jk-rowlin...</td>\n",
              "      <td>j.k. rowling wishes snape happy birthday in th...</td>\n",
              "      <td>0</td>\n",
              "    </tr>\n",
              "    <tr>\n",
              "      <th>...</th>\n",
              "      <td>...</td>\n",
              "      <td>...</td>\n",
              "      <td>...</td>\n",
              "    </tr>\n",
              "    <tr>\n",
              "      <th>28614</th>\n",
              "      <td>https://www.theonion.com/jews-to-celebrate-ros...</td>\n",
              "      <td>jews to celebrate rosh hashasha or something</td>\n",
              "      <td>1</td>\n",
              "    </tr>\n",
              "    <tr>\n",
              "      <th>28615</th>\n",
              "      <td>https://local.theonion.com/internal-affairs-in...</td>\n",
              "      <td>internal affairs investigator disappointed con...</td>\n",
              "      <td>1</td>\n",
              "    </tr>\n",
              "    <tr>\n",
              "      <th>28616</th>\n",
              "      <td>https://www.huffingtonpost.com/entry/andrew-ah...</td>\n",
              "      <td>the most beautiful acceptance speech this week...</td>\n",
              "      <td>0</td>\n",
              "    </tr>\n",
              "    <tr>\n",
              "      <th>28617</th>\n",
              "      <td>https://www.theonion.com/mars-probe-destroyed-...</td>\n",
              "      <td>mars probe destroyed by orbiting spielberg-gat...</td>\n",
              "      <td>1</td>\n",
              "    </tr>\n",
              "    <tr>\n",
              "      <th>28618</th>\n",
              "      <td>https://www.theonion.com/dad-clarifies-this-no...</td>\n",
              "      <td>dad clarifies this not a food stop</td>\n",
              "      <td>1</td>\n",
              "    </tr>\n",
              "  </tbody>\n",
              "</table>\n",
              "<p>55328 rows × 3 columns</p>\n",
              "</div>"
            ],
            "text/plain": [
              "                                            article_link  ... is_sarcastic\n",
              "0      https://www.huffingtonpost.com/entry/versace-b...  ...            0\n",
              "1      https://www.huffingtonpost.com/entry/roseanne-...  ...            0\n",
              "2      https://local.theonion.com/mom-starting-to-fea...  ...            1\n",
              "3      https://politics.theonion.com/boehner-just-wan...  ...            1\n",
              "4      https://www.huffingtonpost.com/entry/jk-rowlin...  ...            0\n",
              "...                                                  ...  ...          ...\n",
              "28614  https://www.theonion.com/jews-to-celebrate-ros...  ...            1\n",
              "28615  https://local.theonion.com/internal-affairs-in...  ...            1\n",
              "28616  https://www.huffingtonpost.com/entry/andrew-ah...  ...            0\n",
              "28617  https://www.theonion.com/mars-probe-destroyed-...  ...            1\n",
              "28618  https://www.theonion.com/dad-clarifies-this-no...  ...            1\n",
              "\n",
              "[55328 rows x 3 columns]"
            ]
          },
          "metadata": {
            "tags": []
          },
          "execution_count": 9
        }
      ]
    },
    {
      "cell_type": "markdown",
      "metadata": {
        "id": "OO3No8rrr6aU",
        "colab_type": "text"
      },
      "source": [
        "Dataset có ba cột:\n",
        "  * article_link\n",
        "  * headline\n",
        "  * is_sarcastic: 1 (sarcastic headline) và 0: (not sarcastic headline)\n",
        "  \n",
        "Dataset sau khi ghép có 55328 headline "
      ]
    },
    {
      "cell_type": "markdown",
      "metadata": {
        "id": "UDuxFfIKvNJr",
        "colab_type": "text"
      },
      "source": [
        "# **Xử lý dữ liệu**"
      ]
    },
    {
      "cell_type": "markdown",
      "metadata": {
        "id": "8eG-ZDlbrlpc",
        "colab_type": "text"
      },
      "source": [
        "**Xóa cột article_link vì không cần thiết**"
      ]
    },
    {
      "cell_type": "code",
      "metadata": {
        "id": "xG5ryGGvqx1L",
        "colab_type": "code",
        "colab": {
          "base_uri": "https://localhost:8080/",
          "height": 419
        },
        "outputId": "8860adec-1a32-4db9-81c7-7347410d3086"
      },
      "source": [
        "df=df.drop('article_link',axis=1)\n",
        "df"
      ],
      "execution_count": null,
      "outputs": [
        {
          "output_type": "execute_result",
          "data": {
            "text/html": [
              "<div>\n",
              "<style scoped>\n",
              "    .dataframe tbody tr th:only-of-type {\n",
              "        vertical-align: middle;\n",
              "    }\n",
              "\n",
              "    .dataframe tbody tr th {\n",
              "        vertical-align: top;\n",
              "    }\n",
              "\n",
              "    .dataframe thead th {\n",
              "        text-align: right;\n",
              "    }\n",
              "</style>\n",
              "<table border=\"1\" class=\"dataframe\">\n",
              "  <thead>\n",
              "    <tr style=\"text-align: right;\">\n",
              "      <th></th>\n",
              "      <th>headline</th>\n",
              "      <th>is_sarcastic</th>\n",
              "    </tr>\n",
              "  </thead>\n",
              "  <tbody>\n",
              "    <tr>\n",
              "      <th>0</th>\n",
              "      <td>former versace store clerk sues over secret 'b...</td>\n",
              "      <td>0</td>\n",
              "    </tr>\n",
              "    <tr>\n",
              "      <th>1</th>\n",
              "      <td>the 'roseanne' revival catches up to our thorn...</td>\n",
              "      <td>0</td>\n",
              "    </tr>\n",
              "    <tr>\n",
              "      <th>2</th>\n",
              "      <td>mom starting to fear son's web series closest ...</td>\n",
              "      <td>1</td>\n",
              "    </tr>\n",
              "    <tr>\n",
              "      <th>3</th>\n",
              "      <td>boehner just wants wife to listen, not come up...</td>\n",
              "      <td>1</td>\n",
              "    </tr>\n",
              "    <tr>\n",
              "      <th>4</th>\n",
              "      <td>j.k. rowling wishes snape happy birthday in th...</td>\n",
              "      <td>0</td>\n",
              "    </tr>\n",
              "    <tr>\n",
              "      <th>...</th>\n",
              "      <td>...</td>\n",
              "      <td>...</td>\n",
              "    </tr>\n",
              "    <tr>\n",
              "      <th>28614</th>\n",
              "      <td>jews to celebrate rosh hashasha or something</td>\n",
              "      <td>1</td>\n",
              "    </tr>\n",
              "    <tr>\n",
              "      <th>28615</th>\n",
              "      <td>internal affairs investigator disappointed con...</td>\n",
              "      <td>1</td>\n",
              "    </tr>\n",
              "    <tr>\n",
              "      <th>28616</th>\n",
              "      <td>the most beautiful acceptance speech this week...</td>\n",
              "      <td>0</td>\n",
              "    </tr>\n",
              "    <tr>\n",
              "      <th>28617</th>\n",
              "      <td>mars probe destroyed by orbiting spielberg-gat...</td>\n",
              "      <td>1</td>\n",
              "    </tr>\n",
              "    <tr>\n",
              "      <th>28618</th>\n",
              "      <td>dad clarifies this not a food stop</td>\n",
              "      <td>1</td>\n",
              "    </tr>\n",
              "  </tbody>\n",
              "</table>\n",
              "<p>55328 rows × 2 columns</p>\n",
              "</div>"
            ],
            "text/plain": [
              "                                                headline  is_sarcastic\n",
              "0      former versace store clerk sues over secret 'b...             0\n",
              "1      the 'roseanne' revival catches up to our thorn...             0\n",
              "2      mom starting to fear son's web series closest ...             1\n",
              "3      boehner just wants wife to listen, not come up...             1\n",
              "4      j.k. rowling wishes snape happy birthday in th...             0\n",
              "...                                                  ...           ...\n",
              "28614       jews to celebrate rosh hashasha or something             1\n",
              "28615  internal affairs investigator disappointed con...             1\n",
              "28616  the most beautiful acceptance speech this week...             0\n",
              "28617  mars probe destroyed by orbiting spielberg-gat...             1\n",
              "28618                 dad clarifies this not a food stop             1\n",
              "\n",
              "[55328 rows x 2 columns]"
            ]
          },
          "metadata": {
            "tags": []
          },
          "execution_count": 10
        }
      ]
    },
    {
      "cell_type": "markdown",
      "metadata": {
        "id": "_-H1Lr2erve0",
        "colab_type": "text"
      },
      "source": [
        "**Xóa bỏ các headline trùng nhau**"
      ]
    },
    {
      "cell_type": "code",
      "metadata": {
        "id": "uiFWG1yHq1Ro",
        "colab_type": "code",
        "colab": {
          "base_uri": "https://localhost:8080/",
          "height": 419
        },
        "outputId": "3a4156b9-bd8d-43ec-fdd7-3d98e2d2d374"
      },
      "source": [
        "df=df.drop_duplicates('headline')\n",
        "df"
      ],
      "execution_count": null,
      "outputs": [
        {
          "output_type": "execute_result",
          "data": {
            "text/html": [
              "<div>\n",
              "<style scoped>\n",
              "    .dataframe tbody tr th:only-of-type {\n",
              "        vertical-align: middle;\n",
              "    }\n",
              "\n",
              "    .dataframe tbody tr th {\n",
              "        vertical-align: top;\n",
              "    }\n",
              "\n",
              "    .dataframe thead th {\n",
              "        text-align: right;\n",
              "    }\n",
              "</style>\n",
              "<table border=\"1\" class=\"dataframe\">\n",
              "  <thead>\n",
              "    <tr style=\"text-align: right;\">\n",
              "      <th></th>\n",
              "      <th>headline</th>\n",
              "      <th>is_sarcastic</th>\n",
              "    </tr>\n",
              "  </thead>\n",
              "  <tbody>\n",
              "    <tr>\n",
              "      <th>0</th>\n",
              "      <td>former versace store clerk sues over secret 'b...</td>\n",
              "      <td>0</td>\n",
              "    </tr>\n",
              "    <tr>\n",
              "      <th>1</th>\n",
              "      <td>the 'roseanne' revival catches up to our thorn...</td>\n",
              "      <td>0</td>\n",
              "    </tr>\n",
              "    <tr>\n",
              "      <th>2</th>\n",
              "      <td>mom starting to fear son's web series closest ...</td>\n",
              "      <td>1</td>\n",
              "    </tr>\n",
              "    <tr>\n",
              "      <th>3</th>\n",
              "      <td>boehner just wants wife to listen, not come up...</td>\n",
              "      <td>1</td>\n",
              "    </tr>\n",
              "    <tr>\n",
              "      <th>4</th>\n",
              "      <td>j.k. rowling wishes snape happy birthday in th...</td>\n",
              "      <td>0</td>\n",
              "    </tr>\n",
              "    <tr>\n",
              "      <th>...</th>\n",
              "      <td>...</td>\n",
              "      <td>...</td>\n",
              "    </tr>\n",
              "    <tr>\n",
              "      <th>28497</th>\n",
              "      <td>tyson holds contest to let fans submit new ide...</td>\n",
              "      <td>1</td>\n",
              "    </tr>\n",
              "    <tr>\n",
              "      <th>28509</th>\n",
              "      <td>increasingly cocky bernie sanders announces he...</td>\n",
              "      <td>1</td>\n",
              "    </tr>\n",
              "    <tr>\n",
              "      <th>28520</th>\n",
              "      <td>cash-strapped zuckerberg forced to sell 11 mil...</td>\n",
              "      <td>1</td>\n",
              "    </tr>\n",
              "    <tr>\n",
              "      <th>28544</th>\n",
              "      <td>grocery store bar actually has great little ha...</td>\n",
              "      <td>1</td>\n",
              "    </tr>\n",
              "    <tr>\n",
              "      <th>28589</th>\n",
              "      <td>study: 83% of marathon spectators only attend ...</td>\n",
              "      <td>1</td>\n",
              "    </tr>\n",
              "  </tbody>\n",
              "</table>\n",
              "<p>28503 rows × 2 columns</p>\n",
              "</div>"
            ],
            "text/plain": [
              "                                                headline  is_sarcastic\n",
              "0      former versace store clerk sues over secret 'b...             0\n",
              "1      the 'roseanne' revival catches up to our thorn...             0\n",
              "2      mom starting to fear son's web series closest ...             1\n",
              "3      boehner just wants wife to listen, not come up...             1\n",
              "4      j.k. rowling wishes snape happy birthday in th...             0\n",
              "...                                                  ...           ...\n",
              "28497  tyson holds contest to let fans submit new ide...             1\n",
              "28509  increasingly cocky bernie sanders announces he...             1\n",
              "28520  cash-strapped zuckerberg forced to sell 11 mil...             1\n",
              "28544  grocery store bar actually has great little ha...             1\n",
              "28589  study: 83% of marathon spectators only attend ...             1\n",
              "\n",
              "[28503 rows x 2 columns]"
            ]
          },
          "metadata": {
            "tags": []
          },
          "execution_count": 11
        }
      ]
    },
    {
      "cell_type": "markdown",
      "metadata": {
        "id": "8v0wqDhOsCHh",
        "colab_type": "text"
      },
      "source": [
        "**Dataset sau khi loại bỏ các headline trùng nhau là: 28503 headline**"
      ]
    },
    {
      "cell_type": "markdown",
      "metadata": {
        "id": "Aa-5W7PivRvd",
        "colab_type": "text"
      },
      "source": [
        "**Xóa bỏ những char không cần thiết**"
      ]
    },
    {
      "cell_type": "code",
      "metadata": {
        "id": "dsFjGA_EsR8B",
        "colab_type": "code",
        "colab": {
          "base_uri": "https://localhost:8080/",
          "height": 521
        },
        "outputId": "76aff52e-287c-4731-de00-6eab1b4cfedf"
      },
      "source": [
        "df['headline'] = df['headline'].apply(lambda s : re.sub('[^a-zA-Z]', ' ', s))\n",
        "df"
      ],
      "execution_count": null,
      "outputs": [
        {
          "output_type": "stream",
          "text": [
            "/usr/local/lib/python3.6/dist-packages/ipykernel_launcher.py:1: SettingWithCopyWarning: \n",
            "A value is trying to be set on a copy of a slice from a DataFrame.\n",
            "Try using .loc[row_indexer,col_indexer] = value instead\n",
            "\n",
            "See the caveats in the documentation: https://pandas.pydata.org/pandas-docs/stable/user_guide/indexing.html#returning-a-view-versus-a-copy\n",
            "  \"\"\"Entry point for launching an IPython kernel.\n"
          ],
          "name": "stderr"
        },
        {
          "output_type": "execute_result",
          "data": {
            "text/html": [
              "<div>\n",
              "<style scoped>\n",
              "    .dataframe tbody tr th:only-of-type {\n",
              "        vertical-align: middle;\n",
              "    }\n",
              "\n",
              "    .dataframe tbody tr th {\n",
              "        vertical-align: top;\n",
              "    }\n",
              "\n",
              "    .dataframe thead th {\n",
              "        text-align: right;\n",
              "    }\n",
              "</style>\n",
              "<table border=\"1\" class=\"dataframe\">\n",
              "  <thead>\n",
              "    <tr style=\"text-align: right;\">\n",
              "      <th></th>\n",
              "      <th>headline</th>\n",
              "      <th>is_sarcastic</th>\n",
              "    </tr>\n",
              "  </thead>\n",
              "  <tbody>\n",
              "    <tr>\n",
              "      <th>0</th>\n",
              "      <td>former versace store clerk sues over secret  b...</td>\n",
              "      <td>0</td>\n",
              "    </tr>\n",
              "    <tr>\n",
              "      <th>1</th>\n",
              "      <td>the  roseanne  revival catches up to our thorn...</td>\n",
              "      <td>0</td>\n",
              "    </tr>\n",
              "    <tr>\n",
              "      <th>2</th>\n",
              "      <td>mom starting to fear son s web series closest ...</td>\n",
              "      <td>1</td>\n",
              "    </tr>\n",
              "    <tr>\n",
              "      <th>3</th>\n",
              "      <td>boehner just wants wife to listen  not come up...</td>\n",
              "      <td>1</td>\n",
              "    </tr>\n",
              "    <tr>\n",
              "      <th>4</th>\n",
              "      <td>j k  rowling wishes snape happy birthday in th...</td>\n",
              "      <td>0</td>\n",
              "    </tr>\n",
              "    <tr>\n",
              "      <th>...</th>\n",
              "      <td>...</td>\n",
              "      <td>...</td>\n",
              "    </tr>\n",
              "    <tr>\n",
              "      <th>28497</th>\n",
              "      <td>tyson holds contest to let fans submit new ide...</td>\n",
              "      <td>1</td>\n",
              "    </tr>\n",
              "    <tr>\n",
              "      <th>28509</th>\n",
              "      <td>increasingly cocky bernie sanders announces he...</td>\n",
              "      <td>1</td>\n",
              "    </tr>\n",
              "    <tr>\n",
              "      <th>28520</th>\n",
              "      <td>cash strapped zuckerberg forced to sell    mil...</td>\n",
              "      <td>1</td>\n",
              "    </tr>\n",
              "    <tr>\n",
              "      <th>28544</th>\n",
              "      <td>grocery store bar actually has great little ha...</td>\n",
              "      <td>1</td>\n",
              "    </tr>\n",
              "    <tr>\n",
              "      <th>28589</th>\n",
              "      <td>study      of marathon spectators only attend ...</td>\n",
              "      <td>1</td>\n",
              "    </tr>\n",
              "  </tbody>\n",
              "</table>\n",
              "<p>28503 rows × 2 columns</p>\n",
              "</div>"
            ],
            "text/plain": [
              "                                                headline  is_sarcastic\n",
              "0      former versace store clerk sues over secret  b...             0\n",
              "1      the  roseanne  revival catches up to our thorn...             0\n",
              "2      mom starting to fear son s web series closest ...             1\n",
              "3      boehner just wants wife to listen  not come up...             1\n",
              "4      j k  rowling wishes snape happy birthday in th...             0\n",
              "...                                                  ...           ...\n",
              "28497  tyson holds contest to let fans submit new ide...             1\n",
              "28509  increasingly cocky bernie sanders announces he...             1\n",
              "28520  cash strapped zuckerberg forced to sell    mil...             1\n",
              "28544  grocery store bar actually has great little ha...             1\n",
              "28589  study      of marathon spectators only attend ...             1\n",
              "\n",
              "[28503 rows x 2 columns]"
            ]
          },
          "metadata": {
            "tags": []
          },
          "execution_count": 12
        }
      ]
    },
    {
      "cell_type": "markdown",
      "metadata": {
        "id": "58wbsQ_zh5ld",
        "colab_type": "text"
      },
      "source": [
        "**Sử dụng seaborn vẽ biểu đồ**"
      ]
    },
    {
      "cell_type": "code",
      "metadata": {
        "id": "ZholUxEVhtXZ",
        "colab_type": "code",
        "colab": {
          "base_uri": "https://localhost:8080/",
          "height": 297
        },
        "outputId": "9c049060-bf7b-4b25-fda5-021a88155e24"
      },
      "source": [
        "sns.set_style(\"dark\")\n",
        "sns.countplot(df.is_sarcastic)"
      ],
      "execution_count": null,
      "outputs": [
        {
          "output_type": "execute_result",
          "data": {
            "text/plain": [
              "<matplotlib.axes._subplots.AxesSubplot at 0x7f30b6e35518>"
            ]
          },
          "metadata": {
            "tags": []
          },
          "execution_count": 13
        },
        {
          "output_type": "display_data",
          "data": {
            "image/png": "[encoded data removed]",
            "text/plain": [
              "<Figure size 432x288 with 1 Axes>"
            ]
          },
          "metadata": {
            "tags": []
          }
        }
      ]
    },
    {
      "cell_type": "code",
      "metadata": {
        "id": "6UUkp22ph_T3",
        "colab_type": "code",
        "colab": {
          "base_uri": "https://localhost:8080/",
          "height": 34
        },
        "outputId": "86bec1c3-cd03-468f-dd38-38edfa3ff954"
      },
      "source": [
        "len(df[df['is_sarcastic']==1])"
      ],
      "execution_count": null,
      "outputs": [
        {
          "output_type": "execute_result",
          "data": {
            "text/plain": [
              "13552"
            ]
          },
          "metadata": {
            "tags": []
          },
          "execution_count": 14
        }
      ]
    },
    {
      "cell_type": "code",
      "metadata": {
        "id": "6H0e-wCNiFmj",
        "colab_type": "code",
        "colab": {
          "base_uri": "https://localhost:8080/",
          "height": 34
        },
        "outputId": "f5719fb4-a9e8-471f-8df8-2c9d2e1af96f"
      },
      "source": [
        "len(df[df['is_sarcastic']==0])"
      ],
      "execution_count": null,
      "outputs": [
        {
          "output_type": "execute_result",
          "data": {
            "text/plain": [
              "14951"
            ]
          },
          "metadata": {
            "tags": []
          },
          "execution_count": 15
        }
      ]
    },
    {
      "cell_type": "markdown",
      "metadata": {
        "id": "fDbODqfjh9_Y",
        "colab_type": "text"
      },
      "source": [
        "**Qua biểu đồ ta thấy số lượng sarcastic headlines gần bằng so với số lượng not sarcastic headlines (chênh nhau 1399 headlines) -> dataset khá cân bằng**"
      ]
    },
    {
      "cell_type": "markdown",
      "metadata": {
        "id": "TwVddb3JyNC1",
        "colab_type": "text"
      },
      "source": [
        "**Loại bỏ các stop words**"
      ]
    },
    {
      "cell_type": "code",
      "metadata": {
        "id": "JZAO2ii-x4IO",
        "colab_type": "code",
        "colab": {}
      },
      "source": [
        "tf = TfidfVectorizer(stop_words=\"english\")\n",
        "feature = tf.fit_transform(df['headline'])"
      ],
      "execution_count": null,
      "outputs": []
    },
    {
      "cell_type": "code",
      "metadata": {
        "id": "7dUbcICDx9v-",
        "colab_type": "code",
        "colab": {}
      },
      "source": [
        "label = df['is_sarcastic']"
      ],
      "execution_count": null,
      "outputs": []
    },
    {
      "cell_type": "markdown",
      "metadata": {
        "id": "qI6BcP_mjHwv",
        "colab_type": "text"
      },
      "source": [
        "# **Load dataset đã thu thập**"
      ]
    },
    {
      "cell_type": "markdown",
      "metadata": {
        "id": "9YbQ82yHjO1I",
        "colab_type": "text"
      },
      "source": [
        "* Dataset được thu thập từ hai trang HuffPost (chuyên tin tức chính thống) và TheOnion (chuyên tin tức châm biểm)\n",
        "\n",
        "* Việc thu thập dữ liệu từ hai trang báo trên đều dựa vào công cụ Data Scraper được google chrome hỗ trợ"
      ]
    },
    {
      "cell_type": "markdown",
      "metadata": {
        "id": "5peV2IUtj8Wd",
        "colab_type": "text"
      },
      "source": [
        "Load dataset tự thu thập từ trang TheOnion"
      ]
    },
    {
      "cell_type": "code",
      "metadata": {
        "id": "u0ONnpTVjxzg",
        "colab_type": "code",
        "colab": {
          "base_uri": "https://localhost:8080/",
          "height": 419
        },
        "outputId": "51d31795-be43-4c2f-8fe0-dc548953bcda"
      },
      "source": [
        "names=['headlines','is_sarcastic']\n",
        "data1=pd.read_csv('TheOnion.csv',encoding='unicode-escape',names=names)\n",
        "data1['is_sarcastic']=1\n",
        "data1"
      ],
      "execution_count": null,
      "outputs": [
        {
          "output_type": "execute_result",
          "data": {
            "text/html": [
              "<div>\n",
              "<style scoped>\n",
              "    .dataframe tbody tr th:only-of-type {\n",
              "        vertical-align: middle;\n",
              "    }\n",
              "\n",
              "    .dataframe tbody tr th {\n",
              "        vertical-align: top;\n",
              "    }\n",
              "\n",
              "    .dataframe thead th {\n",
              "        text-align: right;\n",
              "    }\n",
              "</style>\n",
              "<table border=\"1\" class=\"dataframe\">\n",
              "  <thead>\n",
              "    <tr style=\"text-align: right;\">\n",
              "      <th></th>\n",
              "      <th>headlines</th>\n",
              "      <th>is_sarcastic</th>\n",
              "    </tr>\n",
              "  </thead>\n",
              "  <tbody>\n",
              "    <tr>\n",
              "      <th>0</th>\n",
              "      <td>Georgia Secretary Of State Vows To Investigate...</td>\n",
              "      <td>1</td>\n",
              "    </tr>\n",
              "    <tr>\n",
              "      <th>1</th>\n",
              "      <td>Congress Announces Willingness To Offer Black ...</td>\n",
              "      <td>1</td>\n",
              "    </tr>\n",
              "    <tr>\n",
              "      <th>2</th>\n",
              "      <td>Democratic Leaders Announce That Theyve Learn...</td>\n",
              "      <td>1</td>\n",
              "    </tr>\n",
              "    <tr>\n",
              "      <th>3</th>\n",
              "      <td>She Needs A Bible Now, FuckwadYes, Its For ...</td>\n",
              "      <td>1</td>\n",
              "    </tr>\n",
              "    <tr>\n",
              "      <th>4</th>\n",
              "      <td>DNC To Streamline Fundraising By Cutting Out U...</td>\n",
              "      <td>1</td>\n",
              "    </tr>\n",
              "    <tr>\n",
              "      <th>...</th>\n",
              "      <td>...</td>\n",
              "      <td>...</td>\n",
              "    </tr>\n",
              "    <tr>\n",
              "      <th>995</th>\n",
              "      <td>Amazing Detail: Every Game In MLB The Show W...</td>\n",
              "      <td>1</td>\n",
              "    </tr>\n",
              "    <tr>\n",
              "      <th>996</th>\n",
              "      <td>Everything You Need To Know About Nioh 2</td>\n",
              "      <td>1</td>\n",
              "    </tr>\n",
              "    <tr>\n",
              "      <th>997</th>\n",
              "      <td>Amazing Collaboration: NASA Is Working With Ni...</td>\n",
              "      <td>1</td>\n",
              "    </tr>\n",
              "    <tr>\n",
              "      <th>998</th>\n",
              "      <td>Amazing News Gamers: Everyone Is Having A Grea...</td>\n",
              "      <td>1</td>\n",
              "    </tr>\n",
              "    <tr>\n",
              "      <th>999</th>\n",
              "      <td>Greatest Video Game Weapons Of All Time</td>\n",
              "      <td>1</td>\n",
              "    </tr>\n",
              "  </tbody>\n",
              "</table>\n",
              "<p>1000 rows × 2 columns</p>\n",
              "</div>"
            ],
            "text/plain": [
              "                                             headlines  is_sarcastic\n",
              "0    Georgia Secretary Of State Vows To Investigate...             1\n",
              "1    Congress Announces Willingness To Offer Black ...             1\n",
              "2    Democratic Leaders Announce That Theyve Learn...             1\n",
              "3    She Needs A Bible Now, FuckwadYes, Its For ...             1\n",
              "4    DNC To Streamline Fundraising By Cutting Out U...             1\n",
              "..                                                 ...           ...\n",
              "995  Amazing Detail: Every Game In MLB The Show W...             1\n",
              "996         Everything You Need To Know About Nioh 2             1\n",
              "997  Amazing Collaboration: NASA Is Working With Ni...             1\n",
              "998  Amazing News Gamers: Everyone Is Having A Grea...             1\n",
              "999            Greatest Video Game Weapons Of All Time             1\n",
              "\n",
              "[1000 rows x 2 columns]"
            ]
          },
          "metadata": {
            "tags": []
          },
          "execution_count": 18
        }
      ]
    },
    {
      "cell_type": "markdown",
      "metadata": {
        "id": "MmxKBC_wlatL",
        "colab_type": "text"
      },
      "source": [
        "Load dataset tự thu thập từ trang HuffPost"
      ]
    },
    {
      "cell_type": "code",
      "metadata": {
        "id": "1l2xSQbGlaWv",
        "colab_type": "code",
        "colab": {
          "base_uri": "https://localhost:8080/",
          "height": 419
        },
        "outputId": "de71bdb5-4441-4df4-967a-e1ef2a37d22b"
      },
      "source": [
        "names=['headlines','is_sarcastic']\n",
        "data2=pd.read_csv('HuffPost.csv',encoding='unicode-escape',names=names)\n",
        "data2['is_sarcastic']=0\n",
        "data2"
      ],
      "execution_count": null,
      "outputs": [
        {
          "output_type": "execute_result",
          "data": {
            "text/html": [
              "<div>\n",
              "<style scoped>\n",
              "    .dataframe tbody tr th:only-of-type {\n",
              "        vertical-align: middle;\n",
              "    }\n",
              "\n",
              "    .dataframe tbody tr th {\n",
              "        vertical-align: top;\n",
              "    }\n",
              "\n",
              "    .dataframe thead th {\n",
              "        text-align: right;\n",
              "    }\n",
              "</style>\n",
              "<table border=\"1\" class=\"dataframe\">\n",
              "  <thead>\n",
              "    <tr style=\"text-align: right;\">\n",
              "      <th></th>\n",
              "      <th>headlines</th>\n",
              "      <th>is_sarcastic</th>\n",
              "    </tr>\n",
              "  </thead>\n",
              "  <tbody>\n",
              "    <tr>\n",
              "      <th>0</th>\n",
              "      <td>Trump Fires U.S. Attorney Who Led Probes Of Th...</td>\n",
              "      <td>0</td>\n",
              "    </tr>\n",
              "    <tr>\n",
              "      <th>1</th>\n",
              "      <td>6 Staffers Working On Trump's Tulsa Rally Test...</td>\n",
              "      <td>0</td>\n",
              "    </tr>\n",
              "    <tr>\n",
              "      <th>2</th>\n",
              "      <td>Community Wants Answers After LA Deputies Fata...</td>\n",
              "      <td>0</td>\n",
              "    </tr>\n",
              "    <tr>\n",
              "      <th>3</th>\n",
              "      <td>Police Arrest Peaceful Protester Sitting Alone...</td>\n",
              "      <td>0</td>\n",
              "    </tr>\n",
              "    <tr>\n",
              "      <th>4</th>\n",
              "      <td>Joe Biden Raised More Money Than Donald Trump ...</td>\n",
              "      <td>0</td>\n",
              "    </tr>\n",
              "    <tr>\n",
              "      <th>...</th>\n",
              "      <td>...</td>\n",
              "      <td>...</td>\n",
              "    </tr>\n",
              "    <tr>\n",
              "      <th>995</th>\n",
              "      <td>Bronx Rep. Eliot Engels Hot Mic Moment Gives ...</td>\n",
              "      <td>0</td>\n",
              "    </tr>\n",
              "    <tr>\n",
              "      <th>996</th>\n",
              "      <td>Fauci Says Meetings With Trump On Coronavirus ...</td>\n",
              "      <td>0</td>\n",
              "    </tr>\n",
              "    <tr>\n",
              "      <th>997</th>\n",
              "      <td>Bronx Rep. Eliot Engels Hot Mic Moment Gives ...</td>\n",
              "      <td>0</td>\n",
              "    </tr>\n",
              "    <tr>\n",
              "      <th>998</th>\n",
              "      <td>Ithaca Could Be The First U.S. City To Move Fo...</td>\n",
              "      <td>0</td>\n",
              "    </tr>\n",
              "    <tr>\n",
              "      <th>999</th>\n",
              "      <td>Public Opinion Is On The Side Of The Protests....</td>\n",
              "      <td>0</td>\n",
              "    </tr>\n",
              "  </tbody>\n",
              "</table>\n",
              "<p>1000 rows × 2 columns</p>\n",
              "</div>"
            ],
            "text/plain": [
              "                                             headlines  is_sarcastic\n",
              "0    Trump Fires U.S. Attorney Who Led Probes Of Th...             0\n",
              "1    6 Staffers Working On Trump's Tulsa Rally Test...             0\n",
              "2    Community Wants Answers After LA Deputies Fata...             0\n",
              "3    Police Arrest Peaceful Protester Sitting Alone...             0\n",
              "4    Joe Biden Raised More Money Than Donald Trump ...             0\n",
              "..                                                 ...           ...\n",
              "995  Bronx Rep. Eliot Engels Hot Mic Moment Gives ...             0\n",
              "996  Fauci Says Meetings With Trump On Coronavirus ...             0\n",
              "997  Bronx Rep. Eliot Engels Hot Mic Moment Gives ...             0\n",
              "998  Ithaca Could Be The First U.S. City To Move Fo...             0\n",
              "999  Public Opinion Is On The Side Of The Protests....             0\n",
              "\n",
              "[1000 rows x 2 columns]"
            ]
          },
          "metadata": {
            "tags": []
          },
          "execution_count": 19
        }
      ]
    },
    {
      "cell_type": "markdown",
      "metadata": {
        "id": "Avx2Hlw-lyIn",
        "colab_type": "text"
      },
      "source": [
        "**Nối hai dataframe**"
      ]
    },
    {
      "cell_type": "code",
      "metadata": {
        "id": "hgCPtBkXl2q4",
        "colab_type": "code",
        "colab": {
          "base_uri": "https://localhost:8080/",
          "height": 419
        },
        "outputId": "f56d8449-b845-4e2f-9231-b054adae85db"
      },
      "source": [
        "data=pd.concat([data1,data2],axis=0)\n",
        "data"
      ],
      "execution_count": null,
      "outputs": [
        {
          "output_type": "execute_result",
          "data": {
            "text/html": [
              "<div>\n",
              "<style scoped>\n",
              "    .dataframe tbody tr th:only-of-type {\n",
              "        vertical-align: middle;\n",
              "    }\n",
              "\n",
              "    .dataframe tbody tr th {\n",
              "        vertical-align: top;\n",
              "    }\n",
              "\n",
              "    .dataframe thead th {\n",
              "        text-align: right;\n",
              "    }\n",
              "</style>\n",
              "<table border=\"1\" class=\"dataframe\">\n",
              "  <thead>\n",
              "    <tr style=\"text-align: right;\">\n",
              "      <th></th>\n",
              "      <th>headlines</th>\n",
              "      <th>is_sarcastic</th>\n",
              "    </tr>\n",
              "  </thead>\n",
              "  <tbody>\n",
              "    <tr>\n",
              "      <th>0</th>\n",
              "      <td>Georgia Secretary Of State Vows To Investigate...</td>\n",
              "      <td>1</td>\n",
              "    </tr>\n",
              "    <tr>\n",
              "      <th>1</th>\n",
              "      <td>Congress Announces Willingness To Offer Black ...</td>\n",
              "      <td>1</td>\n",
              "    </tr>\n",
              "    <tr>\n",
              "      <th>2</th>\n",
              "      <td>Democratic Leaders Announce That Theyve Learn...</td>\n",
              "      <td>1</td>\n",
              "    </tr>\n",
              "    <tr>\n",
              "      <th>3</th>\n",
              "      <td>She Needs A Bible Now, FuckwadYes, Its For ...</td>\n",
              "      <td>1</td>\n",
              "    </tr>\n",
              "    <tr>\n",
              "      <th>4</th>\n",
              "      <td>DNC To Streamline Fundraising By Cutting Out U...</td>\n",
              "      <td>1</td>\n",
              "    </tr>\n",
              "    <tr>\n",
              "      <th>...</th>\n",
              "      <td>...</td>\n",
              "      <td>...</td>\n",
              "    </tr>\n",
              "    <tr>\n",
              "      <th>995</th>\n",
              "      <td>Bronx Rep. Eliot Engels Hot Mic Moment Gives ...</td>\n",
              "      <td>0</td>\n",
              "    </tr>\n",
              "    <tr>\n",
              "      <th>996</th>\n",
              "      <td>Fauci Says Meetings With Trump On Coronavirus ...</td>\n",
              "      <td>0</td>\n",
              "    </tr>\n",
              "    <tr>\n",
              "      <th>997</th>\n",
              "      <td>Bronx Rep. Eliot Engels Hot Mic Moment Gives ...</td>\n",
              "      <td>0</td>\n",
              "    </tr>\n",
              "    <tr>\n",
              "      <th>998</th>\n",
              "      <td>Ithaca Could Be The First U.S. City To Move Fo...</td>\n",
              "      <td>0</td>\n",
              "    </tr>\n",
              "    <tr>\n",
              "      <th>999</th>\n",
              "      <td>Public Opinion Is On The Side Of The Protests....</td>\n",
              "      <td>0</td>\n",
              "    </tr>\n",
              "  </tbody>\n",
              "</table>\n",
              "<p>2000 rows × 2 columns</p>\n",
              "</div>"
            ],
            "text/plain": [
              "                                             headlines  is_sarcastic\n",
              "0    Georgia Secretary Of State Vows To Investigate...             1\n",
              "1    Congress Announces Willingness To Offer Black ...             1\n",
              "2    Democratic Leaders Announce That Theyve Learn...             1\n",
              "3    She Needs A Bible Now, FuckwadYes, Its For ...             1\n",
              "4    DNC To Streamline Fundraising By Cutting Out U...             1\n",
              "..                                                 ...           ...\n",
              "995  Bronx Rep. Eliot Engels Hot Mic Moment Gives ...             0\n",
              "996  Fauci Says Meetings With Trump On Coronavirus ...             0\n",
              "997  Bronx Rep. Eliot Engels Hot Mic Moment Gives ...             0\n",
              "998  Ithaca Could Be The First U.S. City To Move Fo...             0\n",
              "999  Public Opinion Is On The Side Of The Protests....             0\n",
              "\n",
              "[2000 rows x 2 columns]"
            ]
          },
          "metadata": {
            "tags": []
          },
          "execution_count": 20
        }
      ]
    },
    {
      "cell_type": "markdown",
      "metadata": {
        "id": "jHa_KikqmBWp",
        "colab_type": "text"
      },
      "source": [
        "# **Xử lý dataset tự thu thập**"
      ]
    },
    {
      "cell_type": "markdown",
      "metadata": {
        "id": "0bGHtxIHmWjX",
        "colab_type": "text"
      },
      "source": [
        "Loại bỏ các kí tự đặc biệt và số"
      ]
    },
    {
      "cell_type": "code",
      "metadata": {
        "id": "YcVGBoKE1jMB",
        "colab_type": "code",
        "colab": {}
      },
      "source": [
        "import string"
      ],
      "execution_count": null,
      "outputs": []
    },
    {
      "cell_type": "code",
      "metadata": {
        "id": "0kx-T3sMpvkL",
        "colab_type": "code",
        "colab": {
          "base_uri": "https://localhost:8080/",
          "height": 221
        },
        "outputId": "05686d11-9b82-4b5a-b447-c92912971de4"
      },
      "source": [
        "data['headlines']=data['headlines'].apply(lambda s : re.sub('[^a-zA-Z]',' ',s))\n",
        "data['headlines']= data['headlines'].apply(lambda s: s.lower())\n",
        "data['headlines']"
      ],
      "execution_count": null,
      "outputs": [
        {
          "output_type": "execute_result",
          "data": {
            "text/plain": [
              "0      georgia secretary of state vows to investigate...\n",
              "1      congress announces willingness to offer black ...\n",
              "2      democratic leaders announce that they ve learn...\n",
              "3       she needs a bible now  fuckwad yes  it s for ...\n",
              "4      dnc to streamline fundraising by cutting out u...\n",
              "                             ...                        \n",
              "995    bronx rep  eliot engel s hot mic moment gives ...\n",
              "996    fauci says meetings with trump on coronavirus ...\n",
              "997    bronx rep  eliot engel s hot mic moment gives ...\n",
              "998    ithaca could be the first u s  city to move fo...\n",
              "999    public opinion is on the side of the protests ...\n",
              "Name: headlines, Length: 2000, dtype: object"
            ]
          },
          "metadata": {
            "tags": []
          },
          "execution_count": 22
        }
      ]
    },
    {
      "cell_type": "markdown",
      "metadata": {
        "id": "EbJJCsLSrKny",
        "colab_type": "text"
      },
      "source": [
        "Loại bỏ stop words"
      ]
    },
    {
      "cell_type": "code",
      "metadata": {
        "id": "HMJGSoWnrPxF",
        "colab_type": "code",
        "colab": {}
      },
      "source": [
        "feature_t=tf.transform(data['headlines'])"
      ],
      "execution_count": null,
      "outputs": []
    },
    {
      "cell_type": "code",
      "metadata": {
        "id": "kM_AOhBDsiJz",
        "colab_type": "code",
        "colab": {
          "base_uri": "https://localhost:8080/",
          "height": 51
        },
        "outputId": "cc69db11-9f4e-4dc8-bfa0-35b585371799"
      },
      "source": [
        "feature_t"
      ],
      "execution_count": null,
      "outputs": [
        {
          "output_type": "execute_result",
          "data": {
            "text/plain": [
              "<2000x25608 sparse matrix of type '<class 'numpy.float64'>'\n",
              "\twith 14354 stored elements in Compressed Sparse Row format>"
            ]
          },
          "metadata": {
            "tags": []
          },
          "execution_count": 24
        }
      ]
    },
    {
      "cell_type": "markdown",
      "metadata": {
        "id": "g-83H8e6yfEq",
        "colab_type": "text"
      },
      "source": [
        "# **Phân chia tập dữ liệu cho train-test-validation set**"
      ]
    },
    {
      "cell_type": "markdown",
      "metadata": {
        "id": "q7AyAFo8s1s3",
        "colab_type": "text"
      },
      "source": [
        "* Train-Validation dataset: dataset trên Kaggle với tỉ lệ 8:2\n",
        "* Test dataset: dataset tự thu thập"
      ]
    },
    {
      "cell_type": "code",
      "metadata": {
        "id": "QAu7Z64zyX3L",
        "colab_type": "code",
        "colab": {}
      },
      "source": [
        "x_train, x_valid, y_train, y_valid = train_test_split(feature,label,test_size=0.2,random_state=42)"
      ],
      "execution_count": null,
      "outputs": []
    },
    {
      "cell_type": "markdown",
      "metadata": {
        "id": "hpwg3DJzyqpQ",
        "colab_type": "text"
      },
      "source": [
        "# **Traning model**"
      ]
    },
    {
      "cell_type": "markdown",
      "metadata": {
        "id": "4mFK5ml2tlfi",
        "colab_type": "text"
      },
      "source": [
        "\n",
        "Sử dụng accuracy_score để đánh giá model. \n",
        "\n",
        "accuracy_score là tỷ lệ những headline được dự đoán đúng. "
      ]
    },
    {
      "cell_type": "code",
      "metadata": {
        "id": "k241z_sfvKF4",
        "colab_type": "code",
        "colab": {}
      },
      "source": [
        "score= {}"
      ],
      "execution_count": null,
      "outputs": []
    },
    {
      "cell_type": "markdown",
      "metadata": {
        "id": "f2Xil2X2ytAO",
        "colab_type": "text"
      },
      "source": [
        "**Model 1:  Logistic Regression**"
      ]
    },
    {
      "cell_type": "code",
      "metadata": {
        "id": "-phsZuhlyqLw",
        "colab_type": "code",
        "colab": {
          "base_uri": "https://localhost:8080/",
          "height": 102
        },
        "outputId": "395d5c71-b8ab-44bf-93c4-b8f48752dc3e"
      },
      "source": [
        "model1 = LogisticRegression()\n",
        "model1.fit(x_train, y_train)"
      ],
      "execution_count": null,
      "outputs": [
        {
          "output_type": "execute_result",
          "data": {
            "text/plain": [
              "LogisticRegression(C=1.0, class_weight=None, dual=False, fit_intercept=True,\n",
              "                   intercept_scaling=1, l1_ratio=None, max_iter=100,\n",
              "                   multi_class='auto', n_jobs=None, penalty='l2',\n",
              "                   random_state=None, solver='lbfgs', tol=0.0001, verbose=0,\n",
              "                   warm_start=False)"
            ]
          },
          "metadata": {
            "tags": []
          },
          "execution_count": 27
        }
      ]
    },
    {
      "cell_type": "code",
      "metadata": {
        "id": "5gTwZnbfy7Hn",
        "colab_type": "code",
        "colab": {}
      },
      "source": [
        "predict1= model1.predict(x_valid)"
      ],
      "execution_count": null,
      "outputs": []
    },
    {
      "cell_type": "code",
      "metadata": {
        "id": "Ky1S2lCSvRie",
        "colab_type": "code",
        "colab": {}
      },
      "source": [
        "score['LR']=accuracy_score(y_valid,predict1)"
      ],
      "execution_count": null,
      "outputs": []
    },
    {
      "cell_type": "code",
      "metadata": {
        "id": "oOzW-QR9zCpY",
        "colab_type": "code",
        "colab": {
          "base_uri": "https://localhost:8080/",
          "height": 34
        },
        "outputId": "5d372e0c-1e2e-4313-dd04-0253b2bab39c"
      },
      "source": [
        "print(accuracy_score(y_valid,predict1))"
      ],
      "execution_count": null,
      "outputs": [
        {
          "output_type": "stream",
          "text": [
            "0.795474478161726\n"
          ],
          "name": "stdout"
        }
      ]
    },
    {
      "cell_type": "markdown",
      "metadata": {
        "id": "S6m9Dc_fzEab",
        "colab_type": "text"
      },
      "source": [
        "**Model 2: LinearSVC**"
      ]
    },
    {
      "cell_type": "code",
      "metadata": {
        "id": "jke6KS--zKJo",
        "colab_type": "code",
        "colab": {
          "base_uri": "https://localhost:8080/",
          "height": 85
        },
        "outputId": "e36e8583-1936-4423-8ac3-28ff63c9abb2"
      },
      "source": [
        "model2 = LinearSVC()\n",
        "model2.fit(x_train, y_train)"
      ],
      "execution_count": null,
      "outputs": [
        {
          "output_type": "execute_result",
          "data": {
            "text/plain": [
              "LinearSVC(C=1.0, class_weight=None, dual=True, fit_intercept=True,\n",
              "          intercept_scaling=1, loss='squared_hinge', max_iter=1000,\n",
              "          multi_class='ovr', penalty='l2', random_state=None, tol=0.0001,\n",
              "          verbose=0)"
            ]
          },
          "metadata": {
            "tags": []
          },
          "execution_count": 31
        }
      ]
    },
    {
      "cell_type": "code",
      "metadata": {
        "id": "co0FS393zRVs",
        "colab_type": "code",
        "colab": {}
      },
      "source": [
        "predict2 = model2.predict(x_valid)"
      ],
      "execution_count": null,
      "outputs": []
    },
    {
      "cell_type": "code",
      "metadata": {
        "id": "c0Yjy1swvWk5",
        "colab_type": "code",
        "colab": {}
      },
      "source": [
        "score['LSVC']=accuracy_score(y_valid,predict2)"
      ],
      "execution_count": null,
      "outputs": []
    },
    {
      "cell_type": "code",
      "metadata": {
        "id": "YoHfNC6QzYbC",
        "colab_type": "code",
        "colab": {
          "base_uri": "https://localhost:8080/",
          "height": 34
        },
        "outputId": "aab83c9d-a5f4-4e75-eebf-54ede2922d6e"
      },
      "source": [
        "print(accuracy_score(y_valid,predict2))"
      ],
      "execution_count": null,
      "outputs": [
        {
          "output_type": "stream",
          "text": [
            "0.7926679529907034\n"
          ],
          "name": "stdout"
        }
      ]
    },
    {
      "cell_type": "markdown",
      "metadata": {
        "id": "hlZp7EFOzgAX",
        "colab_type": "text"
      },
      "source": [
        "**Model 3: RandomForestClassifier**"
      ]
    },
    {
      "cell_type": "code",
      "metadata": {
        "id": "y_kxN3NtzmFm",
        "colab_type": "code",
        "colab": {
          "base_uri": "https://localhost:8080/",
          "height": 153
        },
        "outputId": "462ac51a-da8f-4f6a-cfbf-27aab7bb0bc5"
      },
      "source": [
        "model3 = RandomForestClassifier()\n",
        "model3.fit(x_train, y_train)"
      ],
      "execution_count": null,
      "outputs": [
        {
          "output_type": "execute_result",
          "data": {
            "text/plain": [
              "RandomForestClassifier(bootstrap=True, ccp_alpha=0.0, class_weight=None,\n",
              "                       criterion='gini', max_depth=None, max_features='auto',\n",
              "                       max_leaf_nodes=None, max_samples=None,\n",
              "                       min_impurity_decrease=0.0, min_impurity_split=None,\n",
              "                       min_samples_leaf=1, min_samples_split=2,\n",
              "                       min_weight_fraction_leaf=0.0, n_estimators=100,\n",
              "                       n_jobs=None, oob_score=False, random_state=None,\n",
              "                       verbose=0, warm_start=False)"
            ]
          },
          "metadata": {
            "tags": []
          },
          "execution_count": 35
        }
      ]
    },
    {
      "cell_type": "code",
      "metadata": {
        "id": "M6GgwJi60vx6",
        "colab_type": "code",
        "colab": {}
      },
      "source": [
        "predict3 = model3.predict(x_valid)"
      ],
      "execution_count": null,
      "outputs": []
    },
    {
      "cell_type": "code",
      "metadata": {
        "id": "hxB_YCeJveQj",
        "colab_type": "code",
        "colab": {}
      },
      "source": [
        "score['RFC']=accuracy_score(y_valid,predict3)"
      ],
      "execution_count": null,
      "outputs": []
    },
    {
      "cell_type": "code",
      "metadata": {
        "id": "-FaJ-MVLcyTc",
        "colab_type": "code",
        "colab": {
          "base_uri": "https://localhost:8080/",
          "height": 34
        },
        "outputId": "0012190b-d55b-4515-ec3e-3f92128bfe65"
      },
      "source": [
        "print(accuracy_score(y_valid,predict3))"
      ],
      "execution_count": null,
      "outputs": [
        {
          "output_type": "stream",
          "text": [
            "0.7637256621645325\n"
          ],
          "name": "stdout"
        }
      ]
    },
    {
      "cell_type": "markdown",
      "metadata": {
        "id": "RPmABdlyc2Zo",
        "colab_type": "text"
      },
      "source": [
        "**Model 4: Naive Bayes**"
      ]
    },
    {
      "cell_type": "code",
      "metadata": {
        "id": "66uV1rSZdKZ9",
        "colab_type": "code",
        "colab": {
          "base_uri": "https://localhost:8080/",
          "height": 34
        },
        "outputId": "eab2b503-ad6f-4d06-e79f-547db42d90d6"
      },
      "source": [
        "model4 = BernoulliNB()\n",
        "model4.fit(x_train, y_train)"
      ],
      "execution_count": null,
      "outputs": [
        {
          "output_type": "execute_result",
          "data": {
            "text/plain": [
              "BernoulliNB(alpha=1.0, binarize=0.0, class_prior=None, fit_prior=True)"
            ]
          },
          "metadata": {
            "tags": []
          },
          "execution_count": 39
        }
      ]
    },
    {
      "cell_type": "code",
      "metadata": {
        "id": "Ju23qa8IdQvw",
        "colab_type": "code",
        "colab": {}
      },
      "source": [
        "predict4 = model4.predict(x_valid)"
      ],
      "execution_count": null,
      "outputs": []
    },
    {
      "cell_type": "code",
      "metadata": {
        "id": "xomVROZNvjff",
        "colab_type": "code",
        "colab": {}
      },
      "source": [
        "score['BNB']=accuracy_score(y_valid,predict4)"
      ],
      "execution_count": null,
      "outputs": []
    },
    {
      "cell_type": "code",
      "metadata": {
        "id": "vHN2dBjBdTlc",
        "colab_type": "code",
        "colab": {
          "base_uri": "https://localhost:8080/",
          "height": 34
        },
        "outputId": "3e599584-0dc6-4e7e-f907-245e9ca5b864"
      },
      "source": [
        "print(accuracy_score(y_valid,predict4))"
      ],
      "execution_count": null,
      "outputs": [
        {
          "output_type": "stream",
          "text": [
            "0.8109103666023505\n"
          ],
          "name": "stdout"
        }
      ]
    },
    {
      "cell_type": "markdown",
      "metadata": {
        "id": "U_pItdVKdiac",
        "colab_type": "text"
      },
      "source": [
        "**Model 5: Support Vector Machine**"
      ]
    },
    {
      "cell_type": "code",
      "metadata": {
        "id": "irSOUIBxdfyL",
        "colab_type": "code",
        "colab": {
          "base_uri": "https://localhost:8080/",
          "height": 85
        },
        "outputId": "aa5b4480-7378-4fb6-c197-c8db2f674641"
      },
      "source": [
        "model5=SVC()\n",
        "model5.fit(x_train, y_train)"
      ],
      "execution_count": null,
      "outputs": [
        {
          "output_type": "execute_result",
          "data": {
            "text/plain": [
              "SVC(C=1.0, break_ties=False, cache_size=200, class_weight=None, coef0=0.0,\n",
              "    decision_function_shape='ovr', degree=3, gamma='scale', kernel='rbf',\n",
              "    max_iter=-1, probability=False, random_state=None, shrinking=True,\n",
              "    tol=0.001, verbose=False)"
            ]
          },
          "metadata": {
            "tags": []
          },
          "execution_count": 43
        }
      ]
    },
    {
      "cell_type": "code",
      "metadata": {
        "id": "3d6ILEkfd8D7",
        "colab_type": "code",
        "colab": {}
      },
      "source": [
        "predict5 = model5.predict(x_valid)"
      ],
      "execution_count": null,
      "outputs": []
    },
    {
      "cell_type": "code",
      "metadata": {
        "id": "5MYER9OOvnPC",
        "colab_type": "code",
        "colab": {}
      },
      "source": [
        "score['SVM']=accuracy_score(y_valid,predict5)"
      ],
      "execution_count": null,
      "outputs": []
    },
    {
      "cell_type": "code",
      "metadata": {
        "id": "p5s3jpadd9_r",
        "colab_type": "code",
        "colab": {
          "base_uri": "https://localhost:8080/",
          "height": 34
        },
        "outputId": "bba46910-51b2-4168-d694-92a0ddf06536"
      },
      "source": [
        "print(accuracy_score(y_valid,predict5))"
      ],
      "execution_count": null,
      "outputs": [
        {
          "output_type": "stream",
          "text": [
            "0.8005613050342045\n"
          ],
          "name": "stdout"
        }
      ]
    },
    {
      "cell_type": "markdown",
      "metadata": {
        "id": "R9NB15hGvwBO",
        "colab_type": "text"
      },
      "source": [
        "# **Tổng kết score model**"
      ]
    },
    {
      "cell_type": "code",
      "metadata": {
        "id": "yy-PWzlbv1pi",
        "colab_type": "code",
        "colab": {
          "base_uri": "https://localhost:8080/",
          "height": 204
        },
        "outputId": "1acd5091-aadf-4b67-f7fe-8dd64b8aa36c"
      },
      "source": [
        "S=pd.DataFrame()\n",
        "S['model']=score.keys()\n",
        "S['score']=score.values()\n",
        "S"
      ],
      "execution_count": null,
      "outputs": [
        {
          "output_type": "execute_result",
          "data": {
            "text/html": [
              "<div>\n",
              "<style scoped>\n",
              "    .dataframe tbody tr th:only-of-type {\n",
              "        vertical-align: middle;\n",
              "    }\n",
              "\n",
              "    .dataframe tbody tr th {\n",
              "        vertical-align: top;\n",
              "    }\n",
              "\n",
              "    .dataframe thead th {\n",
              "        text-align: right;\n",
              "    }\n",
              "</style>\n",
              "<table border=\"1\" class=\"dataframe\">\n",
              "  <thead>\n",
              "    <tr style=\"text-align: right;\">\n",
              "      <th></th>\n",
              "      <th>model</th>\n",
              "      <th>score</th>\n",
              "    </tr>\n",
              "  </thead>\n",
              "  <tbody>\n",
              "    <tr>\n",
              "      <th>0</th>\n",
              "      <td>LR</td>\n",
              "      <td>0.795474</td>\n",
              "    </tr>\n",
              "    <tr>\n",
              "      <th>1</th>\n",
              "      <td>LSVC</td>\n",
              "      <td>0.792668</td>\n",
              "    </tr>\n",
              "    <tr>\n",
              "      <th>2</th>\n",
              "      <td>RFC</td>\n",
              "      <td>0.763726</td>\n",
              "    </tr>\n",
              "    <tr>\n",
              "      <th>3</th>\n",
              "      <td>BNB</td>\n",
              "      <td>0.810910</td>\n",
              "    </tr>\n",
              "    <tr>\n",
              "      <th>4</th>\n",
              "      <td>SVM</td>\n",
              "      <td>0.800561</td>\n",
              "    </tr>\n",
              "  </tbody>\n",
              "</table>\n",
              "</div>"
            ],
            "text/plain": [
              "  model     score\n",
              "0    LR  0.795474\n",
              "1  LSVC  0.792668\n",
              "2   RFC  0.763726\n",
              "3   BNB  0.810910\n",
              "4   SVM  0.800561"
            ]
          },
          "metadata": {
            "tags": []
          },
          "execution_count": 47
        }
      ]
    },
    {
      "cell_type": "markdown",
      "metadata": {
        "id": "cgw8Kg-gv7mr",
        "colab_type": "text"
      },
      "source": [
        "Thông qua bảng tổng kết ta có thể thấy accurency_score của model BernoulliNB là tốt nhất nên ta chọn model này để test dataset tự thu thập"
      ]
    },
    {
      "cell_type": "markdown",
      "metadata": {
        "id": "Uz0wqjIkyVqu",
        "colab_type": "text"
      },
      "source": [
        "Lưu model\n",
        "\n",
        "Thư viện pickle được sử dụng để lưu model"
      ]
    },
    {
      "cell_type": "code",
      "metadata": {
        "id": "m3pFmYWFyeZR",
        "colab_type": "code",
        "colab": {}
      },
      "source": [
        "model=model4"
      ],
      "execution_count": null,
      "outputs": []
    },
    {
      "cell_type": "code",
      "metadata": {
        "id": "P2xNFJUbyY4r",
        "colab_type": "code",
        "colab": {}
      },
      "source": [
        "import pickle"
      ],
      "execution_count": null,
      "outputs": []
    },
    {
      "cell_type": "code",
      "metadata": {
        "id": "0uMGneCLy5hd",
        "colab_type": "code",
        "colab": {
          "base_uri": "https://localhost:8080/",
          "height": 34
        },
        "outputId": "dfb39b3c-dff7-458e-c524-6a2daca47c7c"
      },
      "source": [
        "from google.colab import drive\n",
        "drive.mount('/content/drive')"
      ],
      "execution_count": null,
      "outputs": [
        {
          "output_type": "stream",
          "text": [
            "Drive already mounted at /content/drive; to attempt to forcibly remount, call drive.mount(\"/content/drive\", force_remount=True).\n"
          ],
          "name": "stdout"
        }
      ]
    },
    {
      "cell_type": "code",
      "metadata": {
        "id": "n1ZH6rFvycf8",
        "colab_type": "code",
        "colab": {}
      },
      "source": [
        "pickle.dump(model, open('/content/drive/My Drive/Colab Notebooks/model.sav', 'wb'))"
      ],
      "execution_count": null,
      "outputs": []
    },
    {
      "cell_type": "markdown",
      "metadata": {
        "id": "JzdzIb-Zz_Df",
        "colab_type": "text"
      },
      "source": [
        "# **Ứng dụng có khả năng dự đoán cho một headline mới**"
      ]
    },
    {
      "cell_type": "code",
      "metadata": {
        "id": "x7biHJTE0An_",
        "colab_type": "code",
        "colab": {}
      },
      "source": [
        "loaded_model = pickle.load(open('/content/drive/My Drive/Colab Notebooks/model.sav', 'rb'))"
      ],
      "execution_count": null,
      "outputs": []
    },
    {
      "cell_type": "code",
      "metadata": {
        "id": "HM_CU3re0cj-",
        "colab_type": "code",
        "colab": {
          "base_uri": "https://localhost:8080/",
          "height": 51
        },
        "outputId": "fe05df5a-9939-444b-c761-97896477a0e4"
      },
      "source": [
        "headline=input('Enter the headline: ')\n",
        "headline = re.sub('[^a-zA-Z]',' ',headline)\n",
        "headline=headline.lower()\n",
        "headline=tf.transform([headline])\n",
        "print('Sarcasm' if loaded_model.predict(headline)==1 else 'Not sarcasm')"
      ],
      "execution_count": null,
      "outputs": [
        {
          "output_type": "stream",
          "text": [
            "Enter the headline: ‘I Like This Candidate Now And Will Vote For Him,’ Says Area Man After Having To Watch 12th Bloomberg Ad In Single Day\n",
            "Sarcasm\n"
          ],
          "name": "stdout"
        }
      ]
    },
    {
      "cell_type": "markdown",
      "metadata": {
        "id": "FJL9ONMXwcu6",
        "colab_type": "text"
      },
      "source": [
        "# **Thực hiện dự đoán trên dataset 2000 headlines tự thu thập**"
      ]
    },
    {
      "cell_type": "code",
      "metadata": {
        "id": "9k4zlhZEJg5M",
        "colab_type": "code",
        "colab": {
          "base_uri": "https://localhost:8080/",
          "height": 221
        },
        "outputId": "b086d4b8-2f17-4efa-8701-c750902604d0"
      },
      "source": [
        "feature_t = data['headlines']\n",
        "feature_t"
      ],
      "execution_count": null,
      "outputs": [
        {
          "output_type": "execute_result",
          "data": {
            "text/plain": [
              "0      georgia secretary of state vows to investigate...\n",
              "1      congress announces willingness to offer black ...\n",
              "2      democratic leaders announce that they ve learn...\n",
              "3       she needs a bible now  fuckwad yes  it s for ...\n",
              "4      dnc to streamline fundraising by cutting out u...\n",
              "                             ...                        \n",
              "995    bronx rep  eliot engel s hot mic moment gives ...\n",
              "996    fauci says meetings with trump on coronavirus ...\n",
              "997    bronx rep  eliot engel s hot mic moment gives ...\n",
              "998    ithaca could be the first u s  city to move fo...\n",
              "999    public opinion is on the side of the protests ...\n",
              "Name: headlines, Length: 2000, dtype: object"
            ]
          },
          "metadata": {
            "tags": []
          },
          "execution_count": 54
        }
      ]
    },
    {
      "cell_type": "code",
      "metadata": {
        "id": "ELUUw-AjHi3b",
        "colab_type": "code",
        "colab": {}
      },
      "source": [
        "y_test=data['is_sarcastic']"
      ],
      "execution_count": null,
      "outputs": []
    },
    {
      "cell_type": "code",
      "metadata": {
        "id": "rxum_7gSPKCT",
        "colab_type": "code",
        "colab": {}
      },
      "source": [
        "feature_t = tf.transform(feature_t)"
      ],
      "execution_count": 60,
      "outputs": []
    },
    {
      "cell_type": "code",
      "metadata": {
        "id": "FFtcGzYGHkx0",
        "colab_type": "code",
        "colab": {}
      },
      "source": [
        "predict=loaded_model.predict(feature_t)"
      ],
      "execution_count": 61,
      "outputs": []
    },
    {
      "cell_type": "code",
      "metadata": {
        "id": "Su06_KSIHmdN",
        "colab_type": "code",
        "colab": {
          "base_uri": "https://localhost:8080/",
          "height": 34
        },
        "outputId": "4c6b675d-7ed6-41b3-e43b-888895d3a33f"
      },
      "source": [
        "print(accuracy_score(y_test,predict))"
      ],
      "execution_count": 62,
      "outputs": [
        {
          "output_type": "stream",
          "text": [
            "0.675\n"
          ],
          "name": "stdout"
        }
      ]
    },
    {
      "cell_type": "code",
      "metadata": {
        "id": "M3gBw8bFKJDB",
        "colab_type": "code",
        "colab": {
          "base_uri": "https://localhost:8080/",
          "height": 34
        },
        "outputId": "b8d65773-13d6-463b-f103-2f26feda113e"
      },
      "source": [
        "print(score['BNB'])"
      ],
      "execution_count": 63,
      "outputs": [
        {
          "output_type": "stream",
          "text": [
            "0.8109103666023505\n"
          ],
          "name": "stdout"
        }
      ]
    },
    {
      "cell_type": "markdown",
      "metadata": {
        "id": "KfCvNht4KMpd",
        "colab_type": "text"
      },
      "source": [
        "accuray_score ở dataset tự thu thập thấp hơn so dataset được train và test trên dataset từ kaggle."
      ]
    },
    {
      "cell_type": "code",
      "metadata": {
        "id": "T9NtngB9KboX",
        "colab_type": "code",
        "colab": {
          "base_uri": "https://localhost:8080/",
          "height": 282
        },
        "outputId": "cbd96f3f-b881-4662-f117-ce8da51c8fa9"
      },
      "source": [
        "sns.heatmap(confusion_matrix(y_test,predict),annot=True)"
      ],
      "execution_count": 64,
      "outputs": [
        {
          "output_type": "execute_result",
          "data": {
            "text/plain": [
              "<matplotlib.axes._subplots.AxesSubplot at 0x7f30b53db320>"
            ]
          },
          "metadata": {
            "tags": []
          },
          "execution_count": 64
        },
        {
          "output_type": "display_data",
          "data": {
            "image/png": "[encoded data removed]",
            "text/plain": [
              "<Figure size 432x288 with 2 Axes>"
            ]
          },
          "metadata": {
            "tags": []
          }
        }
      ]
    },
    {
      "cell_type": "markdown",
      "metadata": {
        "id": "JzQE4VfuLAD8",
        "colab_type": "text"
      },
      "source": [
        "Khá nhiều headline với is_sarcastic=0 được dự đoán đúng (khoảng 860 headlines). Và headline với is_sarcastic=1 dự đoán sai khá nhiều trong khi số lượng dự đoán đúng chỉ vào khoảng 490/1000 headline."
      ]
    },
    {
      "cell_type": "markdown",
      "metadata": {
        "id": "eC-wOMIbLovP",
        "colab_type": "text"
      },
      "source": [
        "# **Dự đoán với bộ test 1000 câu sarcasm và 100 câu không sarcasm**"
      ]
    },
    {
      "cell_type": "code",
      "metadata": {
        "id": "--8X0fFoLqTZ",
        "colab_type": "code",
        "colab": {
          "base_uri": "https://localhost:8080/",
          "height": 419
        },
        "outputId": "4b3b6671-b9f9-4262-cdda-c8432441a87a"
      },
      "source": [
        "test2=pd.concat([data[data['is_sarcastic']==0][:1000],data[data['is_sarcastic']==1][:100]])\n",
        "test2"
      ],
      "execution_count": 66,
      "outputs": [
        {
          "output_type": "execute_result",
          "data": {
            "text/html": [
              "<div>\n",
              "<style scoped>\n",
              "    .dataframe tbody tr th:only-of-type {\n",
              "        vertical-align: middle;\n",
              "    }\n",
              "\n",
              "    .dataframe tbody tr th {\n",
              "        vertical-align: top;\n",
              "    }\n",
              "\n",
              "    .dataframe thead th {\n",
              "        text-align: right;\n",
              "    }\n",
              "</style>\n",
              "<table border=\"1\" class=\"dataframe\">\n",
              "  <thead>\n",
              "    <tr style=\"text-align: right;\">\n",
              "      <th></th>\n",
              "      <th>headlines</th>\n",
              "      <th>is_sarcastic</th>\n",
              "    </tr>\n",
              "  </thead>\n",
              "  <tbody>\n",
              "    <tr>\n",
              "      <th>0</th>\n",
              "      <td>trump fires u s  attorney who led probes of th...</td>\n",
              "      <td>0</td>\n",
              "    </tr>\n",
              "    <tr>\n",
              "      <th>1</th>\n",
              "      <td>staffers working on trump s tulsa rally test...</td>\n",
              "      <td>0</td>\n",
              "    </tr>\n",
              "    <tr>\n",
              "      <th>2</th>\n",
              "      <td>community wants answers after la deputies fata...</td>\n",
              "      <td>0</td>\n",
              "    </tr>\n",
              "    <tr>\n",
              "      <th>3</th>\n",
              "      <td>police arrest peaceful protester sitting alone...</td>\n",
              "      <td>0</td>\n",
              "    </tr>\n",
              "    <tr>\n",
              "      <th>4</th>\n",
              "      <td>joe biden raised more money than donald trump ...</td>\n",
              "      <td>0</td>\n",
              "    </tr>\n",
              "    <tr>\n",
              "      <th>...</th>\n",
              "      <td>...</td>\n",
              "      <td>...</td>\n",
              "    </tr>\n",
              "    <tr>\n",
              "      <th>95</th>\n",
              "      <td>trump spends national prayer breakfast attacki...</td>\n",
              "      <td>1</td>\n",
              "    </tr>\n",
              "    <tr>\n",
              "      <th>96</th>\n",
              "      <td>sanders makes last minute appeal to moderates ...</td>\n",
              "      <td>1</td>\n",
              "    </tr>\n",
              "    <tr>\n",
              "      <th>97</th>\n",
              "      <td>both parties acting exactly how everyone expec...</td>\n",
              "      <td>1</td>\n",
              "    </tr>\n",
              "    <tr>\n",
              "      <th>98</th>\n",
              "      <td>rush limbaugh admits presidential medal of fre...</td>\n",
              "      <td>1</td>\n",
              "    </tr>\n",
              "    <tr>\n",
              "      <th>99</th>\n",
              "      <td>speeding democratic campaign buses run over   ...</td>\n",
              "      <td>1</td>\n",
              "    </tr>\n",
              "  </tbody>\n",
              "</table>\n",
              "<p>1100 rows × 2 columns</p>\n",
              "</div>"
            ],
            "text/plain": [
              "                                            headlines  is_sarcastic\n",
              "0   trump fires u s  attorney who led probes of th...             0\n",
              "1     staffers working on trump s tulsa rally test...             0\n",
              "2   community wants answers after la deputies fata...             0\n",
              "3   police arrest peaceful protester sitting alone...             0\n",
              "4   joe biden raised more money than donald trump ...             0\n",
              "..                                                ...           ...\n",
              "95  trump spends national prayer breakfast attacki...             1\n",
              "96  sanders makes last minute appeal to moderates ...             1\n",
              "97  both parties acting exactly how everyone expec...             1\n",
              "98  rush limbaugh admits presidential medal of fre...             1\n",
              "99  speeding democratic campaign buses run over   ...             1\n",
              "\n",
              "[1100 rows x 2 columns]"
            ]
          },
          "metadata": {
            "tags": []
          },
          "execution_count": 66
        }
      ]
    },
    {
      "cell_type": "code",
      "metadata": {
        "id": "VWCWWfmRMAgj",
        "colab_type": "code",
        "colab": {}
      },
      "source": [
        "feature2 = test2['headlines'].apply(lambda s: re.sub('[^a-zA-Z]',' ',s))"
      ],
      "execution_count": 67,
      "outputs": []
    },
    {
      "cell_type": "code",
      "metadata": {
        "id": "l7w72NjPMBtY",
        "colab_type": "code",
        "colab": {
          "base_uri": "https://localhost:8080/",
          "height": 51
        },
        "outputId": "0055a6b3-3028-4206-85f0-586308979a3a"
      },
      "source": [
        "feature2=tf.transform(feature2)\n",
        "feature2"
      ],
      "execution_count": 68,
      "outputs": [
        {
          "output_type": "execute_result",
          "data": {
            "text/plain": [
              "<1100x25608 sparse matrix of type '<class 'numpy.float64'>'\n",
              "\twith 8234 stored elements in Compressed Sparse Row format>"
            ]
          },
          "metadata": {
            "tags": []
          },
          "execution_count": 68
        }
      ]
    },
    {
      "cell_type": "code",
      "metadata": {
        "id": "l3GTUvnnMYNE",
        "colab_type": "code",
        "colab": {}
      },
      "source": [
        "y_test=test2['is_sarcastic']"
      ],
      "execution_count": 69,
      "outputs": []
    },
    {
      "cell_type": "code",
      "metadata": {
        "id": "ShGEpGyiMc3j",
        "colab_type": "code",
        "colab": {}
      },
      "source": [
        "\n",
        "predict=loaded_model.predict(feature2)"
      ],
      "execution_count": 70,
      "outputs": []
    },
    {
      "cell_type": "code",
      "metadata": {
        "id": "8snQN6UiMfPt",
        "colab_type": "code",
        "colab": {
          "base_uri": "https://localhost:8080/",
          "height": 34
        },
        "outputId": "ee4c9e86-e2d0-42ab-fbd3-8da6e10d808d"
      },
      "source": [
        "print(accuracy_score(y_test,predict))"
      ],
      "execution_count": 71,
      "outputs": [
        {
          "output_type": "stream",
          "text": [
            "0.8236363636363636\n"
          ],
          "name": "stdout"
        }
      ]
    },
    {
      "cell_type": "code",
      "metadata": {
        "id": "G-N-I55oMik8",
        "colab_type": "code",
        "colab": {
          "base_uri": "https://localhost:8080/",
          "height": 282
        },
        "outputId": "4c5b49f4-b225-4af2-8cbe-a8c6375b50a0"
      },
      "source": [
        "sns.heatmap(confusion_matrix(y_test,predict),annot=True)"
      ],
      "execution_count": 72,
      "outputs": [
        {
          "output_type": "execute_result",
          "data": {
            "text/plain": [
              "<matplotlib.axes._subplots.AxesSubplot at 0x7f30b531b588>"
            ]
          },
          "metadata": {
            "tags": []
          },
          "execution_count": 72
        },
        {
          "output_type": "display_data",
          "data": {
            "image/png": "[encoded data removed]",
            "text/plain": [
              "<Figure size 432x288 with 2 Axes>"
            ]
          },
          "metadata": {
            "tags": []
          }
        }
      ]
    },
    {
      "cell_type": "markdown",
      "metadata": {
        "id": "GSTMbmZzMnL5",
        "colab_type": "text"
      },
      "source": [
        "Với độ chính xác khi dự đoán lên đến hơn 82%, trong 1000 not sarcastic headlines thì đã được dự đoán đúng lên đến 860 headlines và trong 100 sarcastic headlines thì chỉ dự đoán đúng được 44 headlines."
      ]
    },
    {
      "cell_type": "markdown",
      "metadata": {
        "id": "PhbT3oD8NIO9",
        "colab_type": "text"
      },
      "source": [
        "# **Dự đoán với bộ test 100 câu sarcasm và 1000 câu không sarcasm**"
      ]
    },
    {
      "cell_type": "code",
      "metadata": {
        "id": "s4dheGH5NHyC",
        "colab_type": "code",
        "colab": {
          "base_uri": "https://localhost:8080/",
          "height": 419
        },
        "outputId": "1c7423e7-fe82-4a61-b93d-748d3f0939f5"
      },
      "source": [
        "test3=pd.concat([data[data['is_sarcastic']==0][:100],data[data['is_sarcastic']==1][:1000]])\n",
        "test3"
      ],
      "execution_count": 73,
      "outputs": [
        {
          "output_type": "execute_result",
          "data": {
            "text/html": [
              "<div>\n",
              "<style scoped>\n",
              "    .dataframe tbody tr th:only-of-type {\n",
              "        vertical-align: middle;\n",
              "    }\n",
              "\n",
              "    .dataframe tbody tr th {\n",
              "        vertical-align: top;\n",
              "    }\n",
              "\n",
              "    .dataframe thead th {\n",
              "        text-align: right;\n",
              "    }\n",
              "</style>\n",
              "<table border=\"1\" class=\"dataframe\">\n",
              "  <thead>\n",
              "    <tr style=\"text-align: right;\">\n",
              "      <th></th>\n",
              "      <th>headlines</th>\n",
              "      <th>is_sarcastic</th>\n",
              "    </tr>\n",
              "  </thead>\n",
              "  <tbody>\n",
              "    <tr>\n",
              "      <th>0</th>\n",
              "      <td>trump fires u s  attorney who led probes of th...</td>\n",
              "      <td>0</td>\n",
              "    </tr>\n",
              "    <tr>\n",
              "      <th>1</th>\n",
              "      <td>staffers working on trump s tulsa rally test...</td>\n",
              "      <td>0</td>\n",
              "    </tr>\n",
              "    <tr>\n",
              "      <th>2</th>\n",
              "      <td>community wants answers after la deputies fata...</td>\n",
              "      <td>0</td>\n",
              "    </tr>\n",
              "    <tr>\n",
              "      <th>3</th>\n",
              "      <td>police arrest peaceful protester sitting alone...</td>\n",
              "      <td>0</td>\n",
              "    </tr>\n",
              "    <tr>\n",
              "      <th>4</th>\n",
              "      <td>joe biden raised more money than donald trump ...</td>\n",
              "      <td>0</td>\n",
              "    </tr>\n",
              "    <tr>\n",
              "      <th>...</th>\n",
              "      <td>...</td>\n",
              "      <td>...</td>\n",
              "    </tr>\n",
              "    <tr>\n",
              "      <th>995</th>\n",
              "      <td>amazing detail  every game in  mlb the show  w...</td>\n",
              "      <td>1</td>\n",
              "    </tr>\n",
              "    <tr>\n",
              "      <th>996</th>\n",
              "      <td>everything you need to know about  nioh</td>\n",
              "      <td>1</td>\n",
              "    </tr>\n",
              "    <tr>\n",
              "      <th>997</th>\n",
              "      <td>amazing collaboration  nasa is working with ni...</td>\n",
              "      <td>1</td>\n",
              "    </tr>\n",
              "    <tr>\n",
              "      <th>998</th>\n",
              "      <td>amazing news gamers  everyone is having a grea...</td>\n",
              "      <td>1</td>\n",
              "    </tr>\n",
              "    <tr>\n",
              "      <th>999</th>\n",
              "      <td>greatest video game weapons of all time</td>\n",
              "      <td>1</td>\n",
              "    </tr>\n",
              "  </tbody>\n",
              "</table>\n",
              "<p>1100 rows × 2 columns</p>\n",
              "</div>"
            ],
            "text/plain": [
              "                                             headlines  is_sarcastic\n",
              "0    trump fires u s  attorney who led probes of th...             0\n",
              "1      staffers working on trump s tulsa rally test...             0\n",
              "2    community wants answers after la deputies fata...             0\n",
              "3    police arrest peaceful protester sitting alone...             0\n",
              "4    joe biden raised more money than donald trump ...             0\n",
              "..                                                 ...           ...\n",
              "995  amazing detail  every game in  mlb the show  w...             1\n",
              "996         everything you need to know about  nioh                1\n",
              "997  amazing collaboration  nasa is working with ni...             1\n",
              "998  amazing news gamers  everyone is having a grea...             1\n",
              "999            greatest video game weapons of all time             1\n",
              "\n",
              "[1100 rows x 2 columns]"
            ]
          },
          "metadata": {
            "tags": []
          },
          "execution_count": 73
        }
      ]
    },
    {
      "cell_type": "code",
      "metadata": {
        "id": "yhlj2-WtNXKU",
        "colab_type": "code",
        "colab": {}
      },
      "source": [
        "feature3= test3['headlines'].apply(lambda s: re.sub('[^a-zA-Z]',' ',s))"
      ],
      "execution_count": 74,
      "outputs": []
    },
    {
      "cell_type": "code",
      "metadata": {
        "id": "cODZZ93DNfx-",
        "colab_type": "code",
        "colab": {
          "base_uri": "https://localhost:8080/",
          "height": 51
        },
        "outputId": "efdf4b40-4734-40b0-9b69-5cbbe431683c"
      },
      "source": [
        "feature3=tf.transform(feature3)\n",
        "feature3"
      ],
      "execution_count": 75,
      "outputs": [
        {
          "output_type": "execute_result",
          "data": {
            "text/plain": [
              "<1100x25608 sparse matrix of type '<class 'numpy.float64'>'\n",
              "\twith 7697 stored elements in Compressed Sparse Row format>"
            ]
          },
          "metadata": {
            "tags": []
          },
          "execution_count": 75
        }
      ]
    },
    {
      "cell_type": "code",
      "metadata": {
        "id": "LIRcVbRKNj3k",
        "colab_type": "code",
        "colab": {}
      },
      "source": [
        "y_test=test3['is_sarcastic']"
      ],
      "execution_count": 76,
      "outputs": []
    },
    {
      "cell_type": "code",
      "metadata": {
        "id": "SH7FBojFNbUm",
        "colab_type": "code",
        "colab": {}
      },
      "source": [
        "\n",
        "predict=loaded_model.predict(feature3)"
      ],
      "execution_count": 77,
      "outputs": []
    },
    {
      "cell_type": "code",
      "metadata": {
        "id": "k8f-cdWcNqA7",
        "colab_type": "code",
        "colab": {}
      },
      "source": [
        "print(accuracy_score(y_test,predict))"
      ],
      "execution_count": null,
      "outputs": []
    },
    {
      "cell_type": "code",
      "metadata": {
        "id": "ki2W0FtaNtPo",
        "colab_type": "code",
        "colab": {
          "base_uri": "https://localhost:8080/",
          "height": 282
        },
        "outputId": "70b1e9a8-5ce1-436f-ff26-a40f9c66340f"
      },
      "source": [
        "sns.heatmap(confusion_matrix(y_test,predict),annot=True)"
      ],
      "execution_count": 78,
      "outputs": [
        {
          "output_type": "execute_result",
          "data": {
            "text/plain": [
              "<matplotlib.axes._subplots.AxesSubplot at 0x7f30b17903c8>"
            ]
          },
          "metadata": {
            "tags": []
          },
          "execution_count": 78
        },
        {
          "output_type": "display_data",
          "data": {
            "image/png": "[encoded data removed]",
            "text/plain": [
              "<Figure size 432x288 with 2 Axes>"
            ]
          },
          "metadata": {
            "tags": []
          }
        }
      ]
    },
    {
      "cell_type": "markdown",
      "metadata": {
        "id": "_nDmJAJlNzBV",
        "colab_type": "text"
      },
      "source": [
        "Với độ chính xác khi dự đoán là 50,18%, trong 1000 sarcastic headlines thì đã được dự đoán đúng 470  headlines và trong 100 not sarcastic headlines thì dự đoán đúng được 80 headlines."
      ]
    },
    {
      "cell_type": "markdown",
      "metadata": {
        "id": "CBqer1NDOJLx",
        "colab_type": "text"
      },
      "source": [
        "Qua 3 lần test trên ba dataset, chúng ta đã thấy model dự đoán khá tốt đối với not sarcastic headlines, nên chúng ta sẽ thấy accurency_score ở test2 sẽ cao hơn nhiều với ở test3"
      ]
    },
    {
      "cell_type": "markdown",
      "metadata": {
        "id": "J-4jdAckZOuq",
        "colab_type": "text"
      },
      "source": [
        "Model khả năng dự đoán chưa tốt"
      ]
    }
  ]
}