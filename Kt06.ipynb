{
  "nbformat": 4,
  "nbformat_minor": 0,
  "metadata": {
    "colab": {
      "name": "pt06.ipynb",
      "provenance": [],
      "authorship_tag": "ABX9TyOpnh58/oPNj4ctVT7wP3N8",
      "include_colab_link": true
    },
    "kernelspec": {
      "name": "python3",
      "display_name": "Python 3"
    }
  },
  "cells": [
    {
      "cell_type": "markdown",
      "metadata": {
        "id": "view-in-github",
        "colab_type": "text"
      },
      "source": [
        "<a href=\"https://colab.research.google.com/github/trang-0387/CS114.K21/blob/master/Kt06.ipynb\" target=\"_parent\"><img src=\"https://colab.research.google.com/assets/colab-badge.svg\" alt=\"Open In Colab\"/></a>"
      ]
    },
    {
      "cell_type": "code",
      "metadata": {
        "id": "qC5-7rCYvr6e",
        "colab_type": "code",
        "colab": {
          "base_uri": "https://localhost:8080/",
          "height": 90
        },
        "outputId": "009d80c7-c53b-49a0-e2be-ec95197fa555"
      },
      "source": [
        "b=1.2634623746237567\n",
        "print(type(b))\n",
        "\n",
        "#lấy toàn bộ nội dung của thư viện decimal\n",
        "#từ thư viện decimal->import mọi thứ(*) vào\n",
        "from decimal import*\n",
        "\n",
        "#lấy tối đa 30 chữ số phần nguyên và thập phân decimal\n",
        "#getcontext().prec=30\n",
        "\n",
        "f=10/3\n",
        "print(f)\n",
        "\n",
        "print(10/3)\n",
        "d=(Decimal(10)/Decimal(3))\n",
        "\n",
        "print(type(d))\n"
      ],
      "execution_count": 4,
      "outputs": [
        {
          "output_type": "stream",
          "text": [
            "<class 'float'>\n",
            "3.3333333333333335\n",
            "3.3333333333333335\n",
            "<class 'decimal.Decimal'>\n"
          ],
          "name": "stdout"
        }
      ]
    }
  ]
}