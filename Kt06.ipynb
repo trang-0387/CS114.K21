{
  "nbformat": 4,
  "nbformat_minor": 0,
  "metadata": {
    "colab": {
      "name": "Untitled0.ipynb",
      "provenance": [],
      "authorship_tag": "ABX9TyMRC3X+e9mBwMvBFWpF1B+r",
      "include_colab_link": true
    },
    "kernelspec": {
      "name": "python3",
      "display_name": "Python 3"
    }
  },
  "cells": [
    {
      "cell_type": "markdown",
      "metadata": {
        "id": "view-in-github",
        "colab_type": "text"
      },
      "source": [
        "<a href=\"https://colab.research.google.com/github/trang-0387/CS114.K21/blob/master/Kt06.ipynb\" target=\"_parent\"><img src=\"https://colab.research.google.com/assets/colab-badge.svg\" alt=\"Open In Colab\"/></a>"
      ]
    },
    {
      "cell_type": "code",
      "metadata": {
        "id": "qC5-7rCYvr6e",
        "colab_type": "code",
        "colab": {
          "base_uri": "https://localhost:8080/",
          "height": 72
        },
        "outputId": "2e43a7f7-3563-44a8-b752-1d742c656127"
      },
      "source": [
        "b=1.2634623746237567\n",
        "print(type(b))\n",
        "\n",
        "#lấy toàn bộ nội dung của thư viện decimal\n",
        "from decimal import*\n",
        "\n",
        "#lấy tối đa 30 chữ số phần nguyên và thập phân decimal\n",
        "getcontext().prec=30\n",
        "\n",
        "f=10/3\n",
        "print(f)\n",
        "\n",
        "print(10/3)\n",
        "print(Decimal(10)/Decimal(3))\n"
      ],
      "execution_count": 1,
      "outputs": [
        {
          "output_type": "stream",
          "text": [
            "<class 'float'>\n",
            "3.3333333333333335\n",
            "3.33333333333333333333333333333\n"
          ],
          "name": "stdout"
        }
      ]
    }
  ]
}